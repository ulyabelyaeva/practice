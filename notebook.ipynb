{
 "cells": [
  {
   "cell_type": "markdown",
   "id": "546e440e",
   "metadata": {},
   "source": [
    "# Part 1: Extract the data and put it in Neptune"
   ]
  },
  {
   "cell_type": "markdown",
   "id": "d3a954d8",
   "metadata": {},
   "source": [
    "Here we do the following: open the json archive, find .jsonld files that are labeled as verifiable credentials, turn their contents into a dict. From this dict we take id and all the information stored under 'credentialInformation' and create a vertex in Neptune with those properties. Then, we find all the ids in format 'urn:uuid:...' that are present in our dict and create corresponding edges in Neptune. For easy traversal, we also add inverted edges. Then, we visualize the result. "
   ]
  },
  {
   "cell_type": "markdown",
   "id": "0afc124f",
   "metadata": {},
   "source": [
    "Open the archive."
   ]
  },
  {
   "cell_type": "code",
   "execution_count": 1,
   "id": "fbb377d2",
   "metadata": {},
   "outputs": [],
   "source": [
    "import json\n",
    "from zipfile import ZipFile\n",
    "\n",
    "#myzip = ZipFile('hr-app-json-ld-export.zip', 'r')\n",
    "myzip = ZipFile('json-ld-env-export-with-resignation-03-nov-2022.zip', 'r')\n",
    "namelist = myzip.namelist()"
   ]
  },
  {
   "cell_type": "markdown",
   "id": "ffb053c7",
   "metadata": {},
   "source": [
    "Add utility functions: extract a json file from the archive and turn it into a dict, and find all the ids that are mentioned in the document, so we can later find edges in out graph."
   ]
  },
  {
   "cell_type": "code",
   "execution_count": 2,
   "id": "7450ca3b",
   "metadata": {
    "scrolled": false
   },
   "outputs": [],
   "source": [
    "def extract_dict(filename):\n",
    "    \"\"\"\n",
    "    Make a dictionary out of the .jsonld file from myzip.\n",
    "    \"\"\"\n",
    "    with myzip.open(filename) as json_file:\n",
    "        return json.load(json_file)\n",
    "        \n",
    "\n",
    "def find_mentioned_ids(dct):\n",
    "    \"\"\"\n",
    "    Find ids that are mentionaed in the dict.\n",
    "    \"\"\"\n",
    "    ids = []\n",
    "    for key in dct.keys():\n",
    "        if type(dct[key]) is dict:\n",
    "            ids.extend(find_mentioned_ids(dct[key]))\n",
    "        elif type(dct[key]) is str and dct[key][:8] == 'urn:uuid':\n",
    "            ids.append(dct[key])\n",
    "    return ids"
   ]
  },
  {
   "cell_type": "markdown",
   "id": "8b515087",
   "metadata": {},
   "source": [
    "Start with Gremlin: clear the database."
   ]
  },
  {
   "cell_type": "code",
   "execution_count": 3,
   "id": "3df99a74",
   "metadata": {},
   "outputs": [
    {
     "data": {
      "application/vnd.jupyter.widget-view+json": {
       "model_id": "490027f9e4e34b6faadeac383bd8c2f4",
       "version_major": 2,
       "version_minor": 0
      },
      "text/plain": [
       "Tab(children=(Output(layout=Layout(max_height='600px', max_width='940px', overflow='scroll')), Output(layout=L…"
      ]
     },
     "metadata": {},
     "output_type": "display_data"
    },
    {
     "data": {
      "text/html": [
       "<div>\n",
       "    \n",
       "        <style>\n",
       "            #results-pre{\n",
       "                overflow: scroll;\n",
       "                font-size: 1em !important;\n",
       "                font-family: \"Courier New\", Courier, monospace !important;\n",
       "            }\n",
       "        </style>\n",
       "    \n",
       "    <pre id=\"results-pre\">Query mode                  | query\n",
       "Request execution time (ms) | 263.660888671875\n",
       "# of results                | 0\n",
       "Response size (bytes)       | 72\n",
       "</pre>\n",
       "</div>"
      ],
      "text/plain": [
       "<IPython.core.display.HTML object>"
      ]
     },
     "metadata": {},
     "output_type": "display_data"
    },
    {
     "data": {
      "text/html": [
       "<table id=\"0ee17283-3afe-4906-8d83-a54f98141a5a\" class=\"display hover nowrap\"style=\"max-width:100%\"><thead>\n",
       "    <tr style=\"text-align: right;\">\n",
       "      <th>#</th>\n",
       "      <th>Result</th>\n",
       "    </tr>\n",
       "  </thead><tbody><tr><td>Loading... (need <a href=https://mwouts.github.io/itables/troubleshooting.html>help</a>?)</td></tr></tbody></table>\n",
       "<style>\n",
       "table td {\n",
       "    text-overflow: ellipsis;\n",
       "    overflow: hidden;\n",
       "}\n",
       "\n",
       "table th {\n",
       "    text-overflow: ellipsis;\n",
       "    overflow: hidden;\n",
       "}\n",
       "\n",
       "thead input {\n",
       "    width: 100%;\n",
       "    padding: 3px;\n",
       "    box-sizing: border-box;\n",
       "}\n",
       "\n",
       "tfoot input {\n",
       "    width: 100%;\n",
       "    padding: 3px;\n",
       "    box-sizing: border-box;\n",
       "}\n",
       "\n",
       "</style>\n",
       "<link rel=\"stylesheet\" type=\"text/css\" href=\"https://cdn.datatables.net/1.12.1/css/jquery.dataTables.min.css\">\n",
       "<script type=\"module\">\n",
       "    // Import jquery and DataTable\n",
       "    import 'https://code.jquery.com/jquery-3.6.0.min.js';\n",
       "    import dt from 'https://cdn.datatables.net/1.12.1/js/jquery.dataTables.mjs';\n",
       "    dt($);\n",
       "\n",
       "    // Define the table data\n",
       "    const data = [];\n",
       "\n",
       "    // Define the dt_args\n",
       "    let dt_args = {\"scrollX\": true, \"scrollY\": \"475px\", \"columnDefs\": [{\"width\": \"5%\", \"targets\": 0}, {\"visible\": true, \"targets\": 0}, {\"searchable\": false, \"targets\": 0}, {\"minWidth\": \"95%\", \"targets\": 1}, {\"className\": \"nowrap dt-left\", \"targets\": \"_all\"}, {\"createdCell\": \n",
       "            function (td, cellData, rowData, row, col) {\n",
       "                $(td).css('font-weight', 'bold');\n",
       "                $(td).css('font-size', '12px');\n",
       "            }\n",
       "            , \"targets\": 0}, {\"createdCell\": \n",
       "            function (td, cellData, rowData, row, col) {\n",
       "                $(td).css('font-family', 'monospace');\n",
       "                $(td).css('font-size', '12px');\n",
       "            }\n",
       "            , \"targets\": \"_all\"}], \"paging\": true, \"scrollCollapse\": true, \"lengthMenu\": [[10, 25, 50, 100, -1], [10, 25, 50, 100, \"All\"]], \"pageLength\": 10, \"order\": []};\n",
       "    dt_args[\"data\"] = data;\n",
       "\n",
       "    $(document).ready(function () {\n",
       "        \n",
       "        $('#0ee17283-3afe-4906-8d83-a54f98141a5a').DataTable(dt_args);\n",
       "    });\n",
       "</script>\n"
      ],
      "text/plain": [
       "<IPython.core.display.HTML object>"
      ]
     },
     "metadata": {},
     "output_type": "display_data"
    }
   ],
   "source": [
    "%%gremlin\n",
    "\n",
    "g.V().hasLabel('VC_ulyss').drop().iterate()"
   ]
  },
  {
   "cell_type": "markdown",
   "id": "d22be90e",
   "metadata": {},
   "source": [
    "Create a graph traversal object."
   ]
  },
  {
   "cell_type": "code",
   "execution_count": 4,
   "id": "f6048d05",
   "metadata": {},
   "outputs": [],
   "source": [
    "from gremlin_python import statics\n",
    "from gremlin_python.structure.graph import Graph\n",
    "from gremlin_python.process.graph_traversal import __\n",
    "from gremlin_python.process.strategies import *\n",
    "from gremlin_python.driver.driver_remote_connection import DriverRemoteConnection\n",
    "\n",
    "remoteConn = DriverRemoteConnection('wss://neptunecdkcluster6a0221d7-tf6zid0yicr7.cluster-cnhnmqpcjens.eu-west-1.neptune.amazonaws.com:8182/gremlin','g')\n",
    "g = Graph().traversal().withRemote(remoteConn)"
   ]
  },
  {
   "cell_type": "markdown",
   "id": "45507b07",
   "metadata": {},
   "source": [
    "Add a function that puts all the VCs into the database. Add credential subject information to the database for easy access. (But, actually, it works really slow. Maybe, it would've been better to store credential information in files of even in a separate array.) Add a function to construct edges."
   ]
  },
  {
   "cell_type": "code",
   "execution_count": 5,
   "id": "dfea92c8",
   "metadata": {},
   "outputs": [],
   "source": [
    "def add_vertices(namelist):\n",
    "    \"\"\"\n",
    "    Adds vertices with filenames from namelist. Return the added vertices.\n",
    "    \"\"\"\n",
    "    vertices = []\n",
    "    for name in namelist:\n",
    "        if name[:2] != 'vc':\n",
    "            continue\n",
    "        data = extract_dict(name)\n",
    "        v = g.addV('VC_ulyss').property('id', data['id']).next()\n",
    "        for key in data['credentialSubject'].keys():\n",
    "            if type(data['credentialSubject'][key]) is not dict and key != 'id':\n",
    "                g.V(v.id).property(key, data['credentialSubject'][key]).next()\n",
    "        vertices.append(v)\n",
    "    return vertices\n",
    "                \n",
    "                \n",
    "def add_edges(namelist):\n",
    "    \"\"\"\n",
    "    Add edges from vertices from namelist.\n",
    "    \"\"\"\n",
    "    for name in namelist:\n",
    "        if name[:2] != 'vc':\n",
    "            continue\n",
    "        data = extract_dict(name)\n",
    "        v1 = g.V().hasLabel('VC_ulyss').has('id', data['id']).next()\n",
    "        for id_ in find_mentioned_ids(data):\n",
    "            if id_ == data['id']:\n",
    "                continue\n",
    "            v2 = g.V().hasLabel('VC_ulyss').has('id', id_).next()\n",
    "            g.V(v1).addE('e').to(v2).next()\n",
    "            g.V(v2).addE('e_inv').to(v1).next()"
   ]
  },
  {
   "cell_type": "code",
   "execution_count": 6,
   "id": "b5b68ba6",
   "metadata": {},
   "outputs": [],
   "source": [
    "add_vertices(namelist)\n",
    "add_edges(namelist)"
   ]
  },
  {
   "cell_type": "markdown",
   "id": "79c97dd8",
   "metadata": {},
   "source": [
    "Visualize."
   ]
  },
  {
   "cell_type": "code",
   "execution_count": 7,
   "id": "f561ce16",
   "metadata": {
    "scrolled": false
   },
   "outputs": [
    {
     "data": {
      "application/vnd.jupyter.widget-view+json": {
       "model_id": "49a355a90001415198ecb9ec6c0481b7",
       "version_major": 2,
       "version_minor": 0
      },
      "text/plain": [
       "Tab(children=(Output(layout=Layout(max_height='600px', max_width='940px', overflow='scroll')), Force(network=<…"
      ]
     },
     "metadata": {},
     "output_type": "display_data"
    },
    {
     "data": {
      "text/html": [
       "<div>\n",
       "    \n",
       "        <style>\n",
       "            #results-pre{\n",
       "                overflow: scroll;\n",
       "                font-size: 1em !important;\n",
       "                font-family: \"Courier New\", Courier, monospace !important;\n",
       "            }\n",
       "        </style>\n",
       "    \n",
       "    <pre id=\"results-pre\">Query mode                  | query\n",
       "Request execution time (ms) | 83.7294921875\n",
       "# of results                | 77\n",
       "Response size (bytes)       | 696\n",
       "</pre>\n",
       "</div>"
      ],
      "text/plain": [
       "<IPython.core.display.HTML object>"
      ]
     },
     "metadata": {},
     "output_type": "display_data"
    },
    {
     "data": {
      "text/html": [
       "<table id=\"25e70c84-ef1f-4ad1-90ba-51c087517bc4\" class=\"display hover nowrap\"style=\"max-width:100%\"><thead>\n",
       "    <tr style=\"text-align: right;\">\n",
       "      <th>#</th>\n",
       "      <th>Result</th>\n",
       "    </tr>\n",
       "  </thead><tbody><tr><td>Loading... (need <a href=https://mwouts.github.io/itables/troubleshooting.html>help</a>?)</td></tr></tbody></table>\n",
       "<style>\n",
       "table td {\n",
       "    text-overflow: ellipsis;\n",
       "    overflow: hidden;\n",
       "}\n",
       "\n",
       "table th {\n",
       "    text-overflow: ellipsis;\n",
       "    overflow: hidden;\n",
       "}\n",
       "\n",
       "thead input {\n",
       "    width: 100%;\n",
       "    padding: 3px;\n",
       "    box-sizing: border-box;\n",
       "}\n",
       "\n",
       "tfoot input {\n",
       "    width: 100%;\n",
       "    padding: 3px;\n",
       "    box-sizing: border-box;\n",
       "}\n",
       "\n",
       "</style>\n",
       "<link rel=\"stylesheet\" type=\"text/css\" href=\"https://cdn.datatables.net/1.12.1/css/jquery.dataTables.min.css\">\n",
       "<script type=\"module\">\n",
       "    // Import jquery and DataTable\n",
       "    import 'https://code.jquery.com/jquery-3.6.0.min.js';\n",
       "    import dt from 'https://cdn.datatables.net/1.12.1/js/jquery.dataTables.mjs';\n",
       "    dt($);\n",
       "\n",
       "    // Define the table data\n",
       "    const data = [[1, \"path[{&lt;T.id: 1&gt;: &#39;32c23889-f66a-7049-203f-ec1de3ae2a88&#39;, &lt;T.label: 4&gt;: &#39;VC_ulyss&#39;, &#39;id&#39;: &#39;urn:uuid:c2967f05-1185-4fe3-8d5c-611930aa95a8&#39;, &#39;StartDate&#39;: &#39;2021-12-18&#39;, &#39;UtilityBill&#39;: &#39;urn:uuid:b70b0e63-636d-41f5-808f-522aa4382dd5&#39;, &#39;type&#39;: &#39;CandidateAgreement&#39;, &#39;JobOffer&#39;: &#39;urn:uuid:810a228b-8d18-4637-843e-012b8794193a&#39;, &#39;Passport&#39;: &#39;urn:uuid:0e5d5e59-8673-4c4b-8bb0-0c409e77fdbd&#39;}, {&lt;T.id: 1&gt;: &#39;38c23889-fcc3-2772-963b-9a6ac41de764&#39;, &lt;T.label: 4&gt;: &#39;e&#39;, &lt;Direction.IN: 2&gt;: {&lt;T.id: 1&gt;: &#39;c2c23889-f699-c88d-b3e9-5dc15a85ead1&#39;, &lt;T.label: 4&gt;: &#39;VC_ulyss&#39;}, &lt;Direction.OUT: 3&gt;: {&lt;T.id: 1&gt;: &#39;32c23889-f66a-7049-203f-ec1de3ae2a88&#39;, &lt;T.label: 4&gt;: &#39;VC_ulyss&#39;}}, {&lt;T.id: 1&gt;: &#39;c2c23889-f699-c88d-b3e9-5dc15a85ead1&#39;, &lt;T.label: 4&gt;: &#39;VC_ulyss&#39;, &#39;id&#39;: &#39;urn:uuid:810a228b-8d18-4637-843e-012b8794193a&#39;, &#39;IssueDate&#39;: &#39;2021-12-08&#39;, &#39;PlaceOfWork&#39;: &#39;Work Place&#39;, &#39;GrossSalary&#39;: 2500, &#39;Email&#39;: &#39;backend+test-EmployeeAgain@project-plato.com&#39;, &#39;OfferedPosition&#39;: &#39;Product Analyst&#39;, &#39;KvkExtract&#39;: &#39;urn:uuid:7e8f96fc-3617-45e5-92a6-a7711c5a7225&#39;, &#39;WorkWeekHours&#39;: 80, &#39;type&#39;: &#39;JobOffer&#39;, &#39;JobDescription&#39;: &#39;Do work&#39;, &#39;Name&#39;: &#39;EmployeeAgain&#39;, &#39;ResponseDate&#39;: &#39;2021-12-08&#39;, &#39;Surname&#39;: &#39;Larson&#39;, &#39;DirectorPassport&#39;: &#39;urn:uuid:00521aef-cbb0-40be-8e60-a56d2935f348&#39;, &#39;PeriodOfWorkMonths&#39;: 12, &#39;TrialPeriodMonths&#39;: 1}]\"], [2, \"path[{&lt;T.id: 1&gt;: &#39;32c23889-f66a-7049-203f-ec1de3ae2a88&#39;, &lt;T.label: 4&gt;: &#39;VC_ulyss&#39;, &#39;id&#39;: &#39;urn:uuid:c2967f05-1185-4fe3-8d5c-611930aa95a8&#39;, &#39;StartDate&#39;: &#39;2021-12-18&#39;, &#39;UtilityBill&#39;: &#39;urn:uuid:b70b0e63-636d-41f5-808f-522aa4382dd5&#39;, &#39;type&#39;: &#39;CandidateAgreement&#39;, &#39;JobOffer&#39;: &#39;urn:uuid:810a228b-8d18-4637-843e-012b8794193a&#39;, &#39;Passport&#39;: &#39;urn:uuid:0e5d5e59-8673-4c4b-8bb0-0c409e77fdbd&#39;}, {&lt;T.id: 1&gt;: &#39;a0c23889-fccc-9ad9-5ac8-d4ce3432c361&#39;, &lt;T.label: 4&gt;: &#39;e&#39;, &lt;Direction.IN: 2&gt;: {&lt;T.id: 1&gt;: &#39;16c23889-f760-b0db-1e3a-21b37ddd65bb&#39;, &lt;T.label: 4&gt;: &#39;VC_ulyss&#39;}, &lt;Direction.OUT: 3&gt;: {&lt;T.id: 1&gt;: &#39;32c23889-f66a-7049-203f-ec1de3ae2a88&#39;, &lt;T.label: 4&gt;: &#39;VC_ulyss&#39;}}, {&lt;T.id: 1&gt;: &#39;16c23889-f760-b0db-1e3a-21b37ddd65bb&#39;, &lt;T.label: 4&gt;: &#39;VC_ulyss&#39;, &#39;id&#39;: &#39;urn:uuid:0e5d5e59-8673-4c4b-8bb0-0c409e77fdbd&#39;, &#39;IssueDate&#39;: &#39;2017-11-03&#39;, &#39;DocumentNumber&#39;: &#39;9999&#39;, &#39;BirthPlace&#39;: &#39;place&#39;, &#39;Height&#39;: &#39;1m 76cm&#39;, &#39;Sex&#39;: &#39;sex&#39;, &#39;type&#39;: &#39;Passport&#39;, &#39;Surname&#39;: &#39;Larson&#39;, &#39;Authority&#39;: &#39;some authority&#39;, &#39;BirthDate&#39;: &#39;1997-11-03&#39;, &#39;ExpireDate&#39;: &#39;2032-11-03&#39;, &#39;GivenNames&#39;: &#39;EmployeeAgain&#39;, &#39;Nationality&#39;: &#39;nationality&#39;, &#39;Scan&#39;: &#39;https://big-plato.com/vc/urn:uuid:0e5d5e59-8673-4c4b-8bb0-0c409e77fdbd/evidence/1&#39;}]\"], [3, \"path[{&lt;T.id: 1&gt;: &#39;32c23889-f66a-7049-203f-ec1de3ae2a88&#39;, &lt;T.label: 4&gt;: &#39;VC_ulyss&#39;, &#39;id&#39;: &#39;urn:uuid:c2967f05-1185-4fe3-8d5c-611930aa95a8&#39;, &#39;StartDate&#39;: &#39;2021-12-18&#39;, &#39;UtilityBill&#39;: &#39;urn:uuid:b70b0e63-636d-41f5-808f-522aa4382dd5&#39;, &#39;type&#39;: &#39;CandidateAgreement&#39;, &#39;JobOffer&#39;: &#39;urn:uuid:810a228b-8d18-4637-843e-012b8794193a&#39;, &#39;Passport&#39;: &#39;urn:uuid:0e5d5e59-8673-4c4b-8bb0-0c409e77fdbd&#39;}, {&lt;T.id: 1&gt;: &#39;86c23889-fcd8-0e46-bd54-a1e292f6d8a5&#39;, &lt;T.label: 4&gt;: &#39;e&#39;, &lt;Direction.IN: 2&gt;: {&lt;T.id: 1&gt;: &#39;24c23889-f683-32b2-a045-483094bf88fb&#39;, &lt;T.label: 4&gt;: &#39;VC_ulyss&#39;}, &lt;Direction.OUT: 3&gt;: {&lt;T.id: 1&gt;: &#39;32c23889-f66a-7049-203f-ec1de3ae2a88&#39;, &lt;T.label: 4&gt;: &#39;VC_ulyss&#39;}}, {&lt;T.id: 1&gt;: &#39;24c23889-f683-32b2-a045-483094bf88fb&#39;, &lt;T.label: 4&gt;: &#39;VC_ulyss&#39;, &#39;id&#39;: &#39;urn:uuid:b70b0e63-636d-41f5-808f-522aa4382dd5&#39;, &#39;ResidentialAddress&#39;: &#39;res addr&#39;, &#39;type&#39;: &#39;UtilityBill&#39;, &#39;Name&#39;: &#39;EmployeeAgain&#39;, &#39;Surname&#39;: &#39;Larson&#39;, &#39;Scan&#39;: &#39;https://big-plato.com/vc/urn:uuid:b70b0e63-636d-41f5-808f-522aa4382dd5/evidence/1&#39;}]\"], [4, \"path[{&lt;T.id: 1&gt;: &#39;c2c23889-f699-c88d-b3e9-5dc15a85ead1&#39;, &lt;T.label: 4&gt;: &#39;VC_ulyss&#39;, &#39;id&#39;: &#39;urn:uuid:810a228b-8d18-4637-843e-012b8794193a&#39;, &#39;IssueDate&#39;: &#39;2021-12-08&#39;, &#39;PlaceOfWork&#39;: &#39;Work Place&#39;, &#39;GrossSalary&#39;: 2500, &#39;Email&#39;: &#39;backend+test-EmployeeAgain@project-plato.com&#39;, &#39;OfferedPosition&#39;: &#39;Product Analyst&#39;, &#39;KvkExtract&#39;: &#39;urn:uuid:7e8f96fc-3617-45e5-92a6-a7711c5a7225&#39;, &#39;WorkWeekHours&#39;: 80, &#39;type&#39;: &#39;JobOffer&#39;, &#39;JobDescription&#39;: &#39;Do work&#39;, &#39;Name&#39;: &#39;EmployeeAgain&#39;, &#39;ResponseDate&#39;: &#39;2021-12-08&#39;, &#39;Surname&#39;: &#39;Larson&#39;, &#39;DirectorPassport&#39;: &#39;urn:uuid:00521aef-cbb0-40be-8e60-a56d2935f348&#39;, &#39;PeriodOfWorkMonths&#39;: 12, &#39;TrialPeriodMonths&#39;: 1}, {&lt;T.id: 1&gt;: &#39;dcc23889-fced-4ff8-a229-efee2980e3da&#39;, &lt;T.label: 4&gt;: &#39;e&#39;, &lt;Direction.IN: 2&gt;: {&lt;T.id: 1&gt;: &#39;8ec23889-f6bf-11b7-4afe-3ec076d7af00&#39;, &lt;T.label: 4&gt;: &#39;VC_ulyss&#39;}, &lt;Direction.OUT: 3&gt;: {&lt;T.id: 1&gt;: &#39;c2c23889-f699-c88d-b3e9-5dc15a85ead1&#39;, &lt;T.label: 4&gt;: &#39;VC_ulyss&#39;}}, {&lt;T.id: 1&gt;: &#39;8ec23889-f6bf-11b7-4afe-3ec076d7af00&#39;, &lt;T.label: 4&gt;: &#39;VC_ulyss&#39;, &#39;id&#39;: &#39;urn:uuid:7e8f96fc-3617-45e5-92a6-a7711c5a7225&#39;, &#39;CompanyName&#39;: &#39;Great Company&#39;, &#39;RSIN&#39;: &#39;12345&#39;, &#39;ChamberOfCommerceNumber&#39;: &#39;12345&#39;, &#39;ExtractionDate&#39;: &#39;2021-11-03&#39;, &#39;type&#39;: &#39;KvkExtract&#39;, &#39;Scan&#39;: &#39;https://big-plato.com/vc/urn:uuid:7e8f96fc-3617-45e5-92a6-a7711c5a7225/evidence/1&#39;, &#39;DirectorName&#39;: &#39;Important&#39;, &#39;DirectorSurname&#39;: &#39;Director&#39;, &#39;RegisteredOfficeAddress&#39;: &#39;fake-registered-office-address&#39;}]\"], [5, \"path[{&lt;T.id: 1&gt;: &#39;c2c23889-f699-c88d-b3e9-5dc15a85ead1&#39;, &lt;T.label: 4&gt;: &#39;VC_ulyss&#39;, &#39;id&#39;: &#39;urn:uuid:810a228b-8d18-4637-843e-012b8794193a&#39;, &#39;IssueDate&#39;: &#39;2021-12-08&#39;, &#39;PlaceOfWork&#39;: &#39;Work Place&#39;, &#39;GrossSalary&#39;: 2500, &#39;Email&#39;: &#39;backend+test-EmployeeAgain@project-plato.com&#39;, &#39;OfferedPosition&#39;: &#39;Product Analyst&#39;, &#39;KvkExtract&#39;: &#39;urn:uuid:7e8f96fc-3617-45e5-92a6-a7711c5a7225&#39;, &#39;WorkWeekHours&#39;: 80, &#39;type&#39;: &#39;JobOffer&#39;, &#39;JobDescription&#39;: &#39;Do work&#39;, &#39;Name&#39;: &#39;EmployeeAgain&#39;, &#39;ResponseDate&#39;: &#39;2021-12-08&#39;, &#39;Surname&#39;: &#39;Larson&#39;, &#39;DirectorPassport&#39;: &#39;urn:uuid:00521aef-cbb0-40be-8e60-a56d2935f348&#39;, &#39;PeriodOfWorkMonths&#39;: 12, &#39;TrialPeriodMonths&#39;: 1}, {&lt;T.id: 1&gt;: &#39;42c23889-fce4-4299-2b06-01ee05adc2fe&#39;, &lt;T.label: 4&gt;: &#39;e&#39;, &lt;Direction.IN: 2&gt;: {&lt;T.id: 1&gt;: &#39;fec23889-f79d-64ea-9e82-aee7a4cd7666&#39;, &lt;T.label: 4&gt;: &#39;VC_ulyss&#39;}, &lt;Direction.OUT: 3&gt;: {&lt;T.id: 1&gt;: &#39;c2c23889-f699-c88d-b3e9-5dc15a85ead1&#39;, &lt;T.label: 4&gt;: &#39;VC_ulyss&#39;}}, {&lt;T.id: 1&gt;: &#39;fec23889-f79d-64ea-9e82-aee7a4cd7666&#39;, &lt;T.label: 4&gt;: &#39;VC_ulyss&#39;, &#39;id&#39;: &#39;urn:uuid:00521aef-cbb0-40be-8e60-a56d2935f348&#39;, &#39;IssueDate&#39;: &#39;2012-11-03&#39;, &#39;DocumentNumber&#39;: &#39;9999&#39;, &#39;BirthPlace&#39;: &#39;some place&#39;, &#39;Height&#39;: &#39;5 m&#39;, &#39;Sex&#39;: &#39;fake-sex&#39;, &#39;type&#39;: &#39;Passport&#39;, &#39;Surname&#39;: &#39;Director&#39;, &#39;Authority&#39;: &#39;God&#39;, &#39;BirthDate&#39;: &#39;1972-11-03&#39;, &#39;ExpireDate&#39;: &#39;2032-11-03&#39;, &#39;GivenNames&#39;: &#39;fake-given-names&#39;, &#39;Nationality&#39;: &#39;test nationality&#39;, &#39;Scan&#39;: &#39;https://big-plato.com/vc/urn:uuid:00521aef-cbb0-40be-8e60-a56d2935f348/evidence/1&#39;}]\"], [6, \"path[{&lt;T.id: 1&gt;: &#39;46c23889-f6fa-d51a-ab4c-a8f82e194521&#39;, &lt;T.label: 4&gt;: &#39;VC_ulyss&#39;, &#39;id&#39;: &#39;urn:uuid:3915e947-5e33-45d7-a63d-337f6f0aa1c8&#39;, &#39;IssueDate&#39;: &#39;2022-08-05&#39;, &#39;ResignationDate&#39;: &#39;2022-08-05&#39;, &#39;type&#39;: &#39;ResignationNotice&#39;, &#39;EmploymentAgreement&#39;: &#39;urn:uuid:725dbe4f-2551-4df6-bdfd-05cba85bc4d3&#39;}, {&lt;T.id: 1&gt;: &#39;eac23889-fd1f-6fb2-cb29-faeb6956cec1&#39;, &lt;T.label: 4&gt;: &#39;e&#39;, &lt;Direction.IN: 2&gt;: {&lt;T.id: 1&gt;: &#39;a8c23889-f6ea-485e-336c-01a49cdcfe95&#39;, &lt;T.label: 4&gt;: &#39;VC_ulyss&#39;}, &lt;Direction.OUT: 3&gt;: {&lt;T.id: 1&gt;: &#39;46c23889-f6fa-d51a-ab4c-a8f82e194521&#39;, &lt;T.label: 4&gt;: &#39;VC_ulyss&#39;}}, {&lt;T.id: 1&gt;: &#39;a8c23889-f6ea-485e-336c-01a49cdcfe95&#39;, &lt;T.label: 4&gt;: &#39;VC_ulyss&#39;, &#39;id&#39;: &#39;urn:uuid:725dbe4f-2551-4df6-bdfd-05cba85bc4d3&#39;, &#39;CandidateAgreement&#39;: &#39;urn:uuid:c2967f05-1185-4fe3-8d5c-611930aa95a8&#39;, &#39;type&#39;: &#39;EmploymentAgreement&#39;}]\"], [7, \"path[{&lt;T.id: 1&gt;: &#39;00c23889-f720-741e-90f2-e1482b7f62a5&#39;, &lt;T.label: 4&gt;: &#39;VC_ulyss&#39;, &#39;id&#39;: &#39;urn:uuid:1e42b32b-cd69-4821-953a-3efc9308c3c3&#39;, &#39;IssueDate&#39;: &#39;2022-10-04&#39;, &#39;PlaceOfWork&#39;: &#39;Work Place&#39;, &#39;GrossSalary&#39;: 3500, &#39;Email&#39;: &#39;backend+test-EmployeeAgain@project-plato.com&#39;, &#39;OfferedPosition&#39;: &#39;Product Owner&#39;, &#39;KvkExtract&#39;: &#39;urn:uuid:7e8f96fc-3617-45e5-92a6-a7711c5a7225&#39;, &#39;WorkWeekHours&#39;: 80, &#39;type&#39;: &#39;JobOffer&#39;, &#39;JobDescription&#39;: &#39;Do work&#39;, &#39;Name&#39;: &#39;EmployeeAgain&#39;, &#39;ResponseDate&#39;: &#39;2022-10-04&#39;, &#39;Surname&#39;: &#39;Larson&#39;, &#39;DirectorPassport&#39;: &#39;urn:uuid:00521aef-cbb0-40be-8e60-a56d2935f348&#39;, &#39;PeriodOfWorkMonths&#39;: 12, &#39;TrialPeriodMonths&#39;: 1}, {&lt;T.id: 1&gt;: &#39;4ac23889-fd40-3b9d-b940-2a9a79c60527&#39;, &lt;T.label: 4&gt;: &#39;e&#39;, &lt;Direction.IN: 2&gt;: {&lt;T.id: 1&gt;: &#39;8ec23889-f6bf-11b7-4afe-3ec076d7af00&#39;, &lt;T.label: 4&gt;: &#39;VC_ulyss&#39;}, &lt;Direction.OUT: 3&gt;: {&lt;T.id: 1&gt;: &#39;00c23889-f720-741e-90f2-e1482b7f62a5&#39;, &lt;T.label: 4&gt;: &#39;VC_ulyss&#39;}}, {&lt;T.id: 1&gt;: &#39;8ec23889-f6bf-11b7-4afe-3ec076d7af00&#39;, &lt;T.label: 4&gt;: &#39;VC_ulyss&#39;, &#39;id&#39;: &#39;urn:uuid:7e8f96fc-3617-45e5-92a6-a7711c5a7225&#39;, &#39;CompanyName&#39;: &#39;Great Company&#39;, &#39;RSIN&#39;: &#39;12345&#39;, &#39;ChamberOfCommerceNumber&#39;: &#39;12345&#39;, &#39;ExtractionDate&#39;: &#39;2021-11-03&#39;, &#39;type&#39;: &#39;KvkExtract&#39;, &#39;Scan&#39;: &#39;https://big-plato.com/vc/urn:uuid:7e8f96fc-3617-45e5-92a6-a7711c5a7225/evidence/1&#39;, &#39;DirectorName&#39;: &#39;Important&#39;, &#39;DirectorSurname&#39;: &#39;Director&#39;, &#39;RegisteredOfficeAddress&#39;: &#39;fake-registered-office-address&#39;}]\"], [8, \"path[{&lt;T.id: 1&gt;: &#39;00c23889-f720-741e-90f2-e1482b7f62a5&#39;, &lt;T.label: 4&gt;: &#39;VC_ulyss&#39;, &#39;id&#39;: &#39;urn:uuid:1e42b32b-cd69-4821-953a-3efc9308c3c3&#39;, &#39;IssueDate&#39;: &#39;2022-10-04&#39;, &#39;PlaceOfWork&#39;: &#39;Work Place&#39;, &#39;GrossSalary&#39;: 3500, &#39;Email&#39;: &#39;backend+test-EmployeeAgain@project-plato.com&#39;, &#39;OfferedPosition&#39;: &#39;Product Owner&#39;, &#39;KvkExtract&#39;: &#39;urn:uuid:7e8f96fc-3617-45e5-92a6-a7711c5a7225&#39;, &#39;WorkWeekHours&#39;: 80, &#39;type&#39;: &#39;JobOffer&#39;, &#39;JobDescription&#39;: &#39;Do work&#39;, &#39;Name&#39;: &#39;EmployeeAgain&#39;, &#39;ResponseDate&#39;: &#39;2022-10-04&#39;, &#39;Surname&#39;: &#39;Larson&#39;, &#39;DirectorPassport&#39;: &#39;urn:uuid:00521aef-cbb0-40be-8e60-a56d2935f348&#39;, &#39;PeriodOfWorkMonths&#39;: 12, &#39;TrialPeriodMonths&#39;: 1}, {&lt;T.id: 1&gt;: &#39;6ec23889-fd37-8715-ce99-967c5860c7b8&#39;, &lt;T.label: 4&gt;: &#39;e&#39;, &lt;Direction.IN: 2&gt;: {&lt;T.id: 1&gt;: &#39;fec23889-f79d-64ea-9e82-aee7a4cd7666&#39;, &lt;T.label: 4&gt;: &#39;VC_ulyss&#39;}, &lt;Direction.OUT: 3&gt;: {&lt;T.id: 1&gt;: &#39;00c23889-f720-741e-90f2-e1482b7f62a5&#39;, &lt;T.label: 4&gt;: &#39;VC_ulyss&#39;}}, {&lt;T.id: 1&gt;: &#39;fec23889-f79d-64ea-9e82-aee7a4cd7666&#39;, &lt;T.label: 4&gt;: &#39;VC_ulyss&#39;, &#39;id&#39;: &#39;urn:uuid:00521aef-cbb0-40be-8e60-a56d2935f348&#39;, &#39;IssueDate&#39;: &#39;2012-11-03&#39;, &#39;DocumentNumber&#39;: &#39;9999&#39;, &#39;BirthPlace&#39;: &#39;some place&#39;, &#39;Height&#39;: &#39;5 m&#39;, &#39;Sex&#39;: &#39;fake-sex&#39;, &#39;type&#39;: &#39;Passport&#39;, &#39;Surname&#39;: &#39;Director&#39;, &#39;Authority&#39;: &#39;God&#39;, &#39;BirthDate&#39;: &#39;1972-11-03&#39;, &#39;ExpireDate&#39;: &#39;2032-11-03&#39;, &#39;GivenNames&#39;: &#39;fake-given-names&#39;, &#39;Nationality&#39;: &#39;test nationality&#39;, &#39;Scan&#39;: &#39;https://big-plato.com/vc/urn:uuid:00521aef-cbb0-40be-8e60-a56d2935f348/evidence/1&#39;}]\"], [9, \"path[{&lt;T.id: 1&gt;: &#39;32c23889-f745-2b84-4a09-ec0db4345908&#39;, &lt;T.label: 4&gt;: &#39;VC_ulyss&#39;, &#39;id&#39;: &#39;urn:uuid:1b9af698-e70f-4f9e-bc5b-ca40b5563053&#39;, &#39;Position&#39;: &#39;bronchitis&#39;, &#39;PlaceOfWork&#39;: &#39;glacier&#39;, &#39;To&#39;: &#39;2046-04-01&#39;, &#39;MonthlyGrossSalary&#39;: 66754, &#39;From&#39;: &#39;2037-07-02&#39;, &#39;ReasonOfAmendments&#39;: &#39;caribou&#39;, &#39;type&#39;: &#39;CompanyAddendum&#39;, &#39;AgreeAsFollows&#39;: &#39;drawing&#39;, &#39;EmploymentAgreement&#39;: &#39;urn:uuid:3d5ae9c8-06e6-452a-935b-e86d42e20bfc&#39;, &#39;WorkingHoursPerWeek&#39;: 25681}, {&lt;T.id: 1&gt;: &#39;dcc23889-fd4a-1676-06c9-0a99cc187077&#39;, &lt;T.label: 4&gt;: &#39;e&#39;, &lt;Direction.IN: 2&gt;: {&lt;T.id: 1&gt;: &#39;fcc23889-f6f2-89ab-76e7-45edd0cfceb6&#39;, &lt;T.label: 4&gt;: &#39;VC_ulyss&#39;}, &lt;Direction.OUT: 3&gt;: {&lt;T.id: 1&gt;: &#39;32c23889-f745-2b84-4a09-ec0db4345908&#39;, &lt;T.label: 4&gt;: &#39;VC_ulyss&#39;}}, {&lt;T.id: 1&gt;: &#39;fcc23889-f6f2-89ab-76e7-45edd0cfceb6&#39;, &lt;T.label: 4&gt;: &#39;VC_ulyss&#39;, &#39;id&#39;: &#39;urn:uuid:3d5ae9c8-06e6-452a-935b-e86d42e20bfc&#39;, &#39;CandidateAgreement&#39;: &#39;urn:uuid:ec0fe111-4ac8-4883-b40d-dbc29ad03abe&#39;, &#39;type&#39;: &#39;EmploymentAgreement&#39;}]\"], [10, \"path[{&lt;T.id: 1&gt;: &#39;aac23889-f7db-e2d9-3914-cb97ab6e14cf&#39;, &lt;T.label: 4&gt;: &#39;VC_ulyss&#39;, &#39;id&#39;: &#39;urn:uuid:d9f3b02b-a4bf-473e-892e-a08c179efb6d&#39;, &#39;CandidateAgreement&#39;: &#39;urn:uuid:23a6f011-26fc-409e-8aab-57e53c999382&#39;, &#39;type&#39;: &#39;EmploymentAgreement&#39;}, {&lt;T.id: 1&gt;: &#39;fac23889-fd62-a676-1382-a86e28517921&#39;, &lt;T.label: 4&gt;: &#39;e&#39;, &lt;Direction.IN: 2&gt;: {&lt;T.id: 1&gt;: &#39;66c23889-f857-6915-2d53-e1a54ff478e4&#39;, &lt;T.label: 4&gt;: &#39;VC_ulyss&#39;}, &lt;Direction.OUT: 3&gt;: {&lt;T.id: 1&gt;: &#39;aac23889-f7db-e2d9-3914-cb97ab6e14cf&#39;, &lt;T.label: 4&gt;: &#39;VC_ulyss&#39;}}, {&lt;T.id: 1&gt;: &#39;66c23889-f857-6915-2d53-e1a54ff478e4&#39;, &lt;T.label: 4&gt;: &#39;VC_ulyss&#39;, &#39;id&#39;: &#39;urn:uuid:23a6f011-26fc-409e-8aab-57e53c999382&#39;, &#39;StartDate&#39;: &#39;2022-11-03&#39;, &#39;UtilityBill&#39;: &#39;urn:uuid:a4aa97e8-93d0-4966-a96d-6d1814a1b6e9&#39;, &#39;type&#39;: &#39;CandidateAgreement&#39;, &#39;JobOffer&#39;: &#39;urn:uuid:3fe8403a-15f0-4212-bfa3-adde5c7a290a&#39;, &#39;Passport&#39;: &#39;urn:uuid:daae90c7-2dd6-4544-8524-2c8610abbafe&#39;}]\"], [11, \"path[{&lt;T.id: 1&gt;: &#39;c8c23889-f826-962d-2ec0-4ae0de839f2e&#39;, &lt;T.label: 4&gt;: &#39;VC_ulyss&#39;, &#39;id&#39;: &#39;urn:uuid:3fe8403a-15f0-4212-bfa3-adde5c7a290a&#39;, &#39;IssueDate&#39;: &#39;2022-10-26&#39;, &#39;PlaceOfWork&#39;: &#39;Lafayette&#39;, &#39;GrossSalary&#39;: 7434, &#39;Email&#39;: &#39;qa-hr+mean-comic-27@project-plato.com&#39;, &#39;OfferedPosition&#39;: &#39;celebration engineer&#39;, &#39;KvkExtract&#39;: &#39;urn:uuid:7e8f96fc-3617-45e5-92a6-a7711c5a7225&#39;, &#39;WorkWeekHours&#39;: 21, &#39;type&#39;: &#39;JobOffer&#39;, &#39;JobDescription&#39;: &#39;leverage magnetic channels&#39;, &#39;Name&#39;: &#39;Icie&#39;, &#39;ResponseDate&#39;: &#39;2022-11-07&#39;, &#39;Surname&#39;: &#39;Will&#39;, &#39;DirectorPassport&#39;: &#39;urn:uuid:00521aef-cbb0-40be-8e60-a56d2935f348&#39;, &#39;PeriodOfWorkMonths&#39;: 5, &#39;TrialPeriodMonths&#39;: 364}, {&lt;T.id: 1&gt;: &#39;24c23889-fd8b-803d-96bf-991925640a38&#39;, &lt;T.label: 4&gt;: &#39;e&#39;, &lt;Direction.IN: 2&gt;: {&lt;T.id: 1&gt;: &#39;8ec23889-f6bf-11b7-4afe-3ec076d7af00&#39;, &lt;T.label: 4&gt;: &#39;VC_ulyss&#39;}, &lt;Direction.OUT: 3&gt;: {&lt;T.id: 1&gt;: &#39;c8c23889-f826-962d-2ec0-4ae0de839f2e&#39;, &lt;T.label: 4&gt;: &#39;VC_ulyss&#39;}}, {&lt;T.id: 1&gt;: &#39;8ec23889-f6bf-11b7-4afe-3ec076d7af00&#39;, &lt;T.label: 4&gt;: &#39;VC_ulyss&#39;, &#39;id&#39;: &#39;urn:uuid:7e8f96fc-3617-45e5-92a6-a7711c5a7225&#39;, &#39;CompanyName&#39;: &#39;Great Company&#39;, &#39;RSIN&#39;: &#39;12345&#39;, &#39;ChamberOfCommerceNumber&#39;: &#39;12345&#39;, &#39;ExtractionDate&#39;: &#39;2021-11-03&#39;, &#39;type&#39;: &#39;KvkExtract&#39;, &#39;Scan&#39;: &#39;https://big-plato.com/vc/urn:uuid:7e8f96fc-3617-45e5-92a6-a7711c5a7225/evidence/1&#39;, &#39;DirectorName&#39;: &#39;Important&#39;, &#39;DirectorSurname&#39;: &#39;Director&#39;, &#39;RegisteredOfficeAddress&#39;: &#39;fake-registered-office-address&#39;}]\"], [12, \"path[{&lt;T.id: 1&gt;: &#39;c8c23889-f826-962d-2ec0-4ae0de839f2e&#39;, &lt;T.label: 4&gt;: &#39;VC_ulyss&#39;, &#39;id&#39;: &#39;urn:uuid:3fe8403a-15f0-4212-bfa3-adde5c7a290a&#39;, &#39;IssueDate&#39;: &#39;2022-10-26&#39;, &#39;PlaceOfWork&#39;: &#39;Lafayette&#39;, &#39;GrossSalary&#39;: 7434, &#39;Email&#39;: &#39;qa-hr+mean-comic-27@project-plato.com&#39;, &#39;OfferedPosition&#39;: &#39;celebration engineer&#39;, &#39;KvkExtract&#39;: &#39;urn:uuid:7e8f96fc-3617-45e5-92a6-a7711c5a7225&#39;, &#39;WorkWeekHours&#39;: 21, &#39;type&#39;: &#39;JobOffer&#39;, &#39;JobDescription&#39;: &#39;leverage magnetic channels&#39;, &#39;Name&#39;: &#39;Icie&#39;, &#39;ResponseDate&#39;: &#39;2022-11-07&#39;, &#39;Surname&#39;: &#39;Will&#39;, &#39;DirectorPassport&#39;: &#39;urn:uuid:00521aef-cbb0-40be-8e60-a56d2935f348&#39;, &#39;PeriodOfWorkMonths&#39;: 5, &#39;TrialPeriodMonths&#39;: 364}, {&lt;T.id: 1&gt;: &#39;a4c23889-fd82-ca50-c7ef-104a498907bd&#39;, &lt;T.label: 4&gt;: &#39;e&#39;, &lt;Direction.IN: 2&gt;: {&lt;T.id: 1&gt;: &#39;fec23889-f79d-64ea-9e82-aee7a4cd7666&#39;, &lt;T.label: 4&gt;: &#39;VC_ulyss&#39;}, &lt;Direction.OUT: 3&gt;: {&lt;T.id: 1&gt;: &#39;c8c23889-f826-962d-2ec0-4ae0de839f2e&#39;, &lt;T.label: 4&gt;: &#39;VC_ulyss&#39;}}, {&lt;T.id: 1&gt;: &#39;fec23889-f79d-64ea-9e82-aee7a4cd7666&#39;, &lt;T.label: 4&gt;: &#39;VC_ulyss&#39;, &#39;id&#39;: &#39;urn:uuid:00521aef-cbb0-40be-8e60-a56d2935f348&#39;, &#39;IssueDate&#39;: &#39;2012-11-03&#39;, &#39;DocumentNumber&#39;: &#39;9999&#39;, &#39;BirthPlace&#39;: &#39;some place&#39;, &#39;Height&#39;: &#39;5 m&#39;, &#39;Sex&#39;: &#39;fake-sex&#39;, &#39;type&#39;: &#39;Passport&#39;, &#39;Surname&#39;: &#39;Director&#39;, &#39;Authority&#39;: &#39;God&#39;, &#39;BirthDate&#39;: &#39;1972-11-03&#39;, &#39;ExpireDate&#39;: &#39;2032-11-03&#39;, &#39;GivenNames&#39;: &#39;fake-given-names&#39;, &#39;Nationality&#39;: &#39;test nationality&#39;, &#39;Scan&#39;: &#39;https://big-plato.com/vc/urn:uuid:00521aef-cbb0-40be-8e60-a56d2935f348/evidence/1&#39;}]\"], [13, \"path[{&lt;T.id: 1&gt;: &#39;66c23889-f857-6915-2d53-e1a54ff478e4&#39;, &lt;T.label: 4&gt;: &#39;VC_ulyss&#39;, &#39;id&#39;: &#39;urn:uuid:23a6f011-26fc-409e-8aab-57e53c999382&#39;, &#39;StartDate&#39;: &#39;2022-11-03&#39;, &#39;UtilityBill&#39;: &#39;urn:uuid:a4aa97e8-93d0-4966-a96d-6d1814a1b6e9&#39;, &#39;type&#39;: &#39;CandidateAgreement&#39;, &#39;JobOffer&#39;: &#39;urn:uuid:3fe8403a-15f0-4212-bfa3-adde5c7a290a&#39;, &#39;Passport&#39;: &#39;urn:uuid:daae90c7-2dd6-4544-8524-2c8610abbafe&#39;}, {&lt;T.id: 1&gt;: &#39;c0c23889-fd96-3119-265b-6d79f16bbbc2&#39;, &lt;T.label: 4&gt;: &#39;e&#39;, &lt;Direction.IN: 2&gt;: {&lt;T.id: 1&gt;: &#39;c8c23889-f826-962d-2ec0-4ae0de839f2e&#39;, &lt;T.label: 4&gt;: &#39;VC_ulyss&#39;}, &lt;Direction.OUT: 3&gt;: {&lt;T.id: 1&gt;: &#39;66c23889-f857-6915-2d53-e1a54ff478e4&#39;, &lt;T.label: 4&gt;: &#39;VC_ulyss&#39;}}, {&lt;T.id: 1&gt;: &#39;c8c23889-f826-962d-2ec0-4ae0de839f2e&#39;, &lt;T.label: 4&gt;: &#39;VC_ulyss&#39;, &#39;id&#39;: &#39;urn:uuid:3fe8403a-15f0-4212-bfa3-adde5c7a290a&#39;, &#39;IssueDate&#39;: &#39;2022-10-26&#39;, &#39;PlaceOfWork&#39;: &#39;Lafayette&#39;, &#39;GrossSalary&#39;: 7434, &#39;Email&#39;: &#39;qa-hr+mean-comic-27@project-plato.com&#39;, &#39;OfferedPosition&#39;: &#39;celebration engineer&#39;, &#39;KvkExtract&#39;: &#39;urn:uuid:7e8f96fc-3617-45e5-92a6-a7711c5a7225&#39;, &#39;WorkWeekHours&#39;: 21, &#39;type&#39;: &#39;JobOffer&#39;, &#39;JobDescription&#39;: &#39;leverage magnetic channels&#39;, &#39;Name&#39;: &#39;Icie&#39;, &#39;ResponseDate&#39;: &#39;2022-11-07&#39;, &#39;Surname&#39;: &#39;Will&#39;, &#39;DirectorPassport&#39;: &#39;urn:uuid:00521aef-cbb0-40be-8e60-a56d2935f348&#39;, &#39;PeriodOfWorkMonths&#39;: 5, &#39;TrialPeriodMonths&#39;: 364}]\"], [14, \"path[{&lt;T.id: 1&gt;: &#39;66c23889-f857-6915-2d53-e1a54ff478e4&#39;, &lt;T.label: 4&gt;: &#39;VC_ulyss&#39;, &#39;id&#39;: &#39;urn:uuid:23a6f011-26fc-409e-8aab-57e53c999382&#39;, &#39;StartDate&#39;: &#39;2022-11-03&#39;, &#39;UtilityBill&#39;: &#39;urn:uuid:a4aa97e8-93d0-4966-a96d-6d1814a1b6e9&#39;, &#39;type&#39;: &#39;CandidateAgreement&#39;, &#39;JobOffer&#39;: &#39;urn:uuid:3fe8403a-15f0-4212-bfa3-adde5c7a290a&#39;, &#39;Passport&#39;: &#39;urn:uuid:daae90c7-2dd6-4544-8524-2c8610abbafe&#39;}, {&lt;T.id: 1&gt;: &#39;a0c23889-fd9e-f502-5be8-a0ca5046eda4&#39;, &lt;T.label: 4&gt;: &#39;e&#39;, &lt;Direction.IN: 2&gt;: {&lt;T.id: 1&gt;: &#39;e0c23889-f7bc-8ff1-3fc3-02b3ade896a8&#39;, &lt;T.label: 4&gt;: &#39;VC_ulyss&#39;}, &lt;Direction.OUT: 3&gt;: {&lt;T.id: 1&gt;: &#39;66c23889-f857-6915-2d53-e1a54ff478e4&#39;, &lt;T.label: 4&gt;: &#39;VC_ulyss&#39;}}, {&lt;T.id: 1&gt;: &#39;e0c23889-f7bc-8ff1-3fc3-02b3ade896a8&#39;, &lt;T.label: 4&gt;: &#39;VC_ulyss&#39;, &#39;id&#39;: &#39;urn:uuid:daae90c7-2dd6-4544-8524-2c8610abbafe&#39;, &#39;IssueDate&#39;: &#39;2021-04-01&#39;, &#39;DocumentNumber&#39;: &#39;123456&#39;, &#39;BirthPlace&#39;: &#39;Earth&#39;, &#39;Height&#39;: &#39;2&#39;, &#39;Sex&#39;: &#39;Yes&#39;, &#39;type&#39;: &#39;Passport&#39;, &#39;Surname&#39;: &#39;Ivanov&#39;, &#39;Authority&#39;: &#39;God&#39;, &#39;BirthDate&#39;: &#39;1990-03-11&#39;, &#39;ExpireDate&#39;: &#39;2036-12-12&#39;, &#39;GivenNames&#39;: &#39;Ivan&#39;, &#39;Nationality&#39;: &#39;Russian&#39;, &#39;Scan&#39;: &#39;https://big-plato.com/vc/urn:uuid:daae90c7-2dd6-4544-8524-2c8610abbafe/evidence/1&#39;}]\"], [15, \"path[{&lt;T.id: 1&gt;: &#39;66c23889-f857-6915-2d53-e1a54ff478e4&#39;, &lt;T.label: 4&gt;: &#39;VC_ulyss&#39;, &#39;id&#39;: &#39;urn:uuid:23a6f011-26fc-409e-8aab-57e53c999382&#39;, &#39;StartDate&#39;: &#39;2022-11-03&#39;, &#39;UtilityBill&#39;: &#39;urn:uuid:a4aa97e8-93d0-4966-a96d-6d1814a1b6e9&#39;, &#39;type&#39;: &#39;CandidateAgreement&#39;, &#39;JobOffer&#39;: &#39;urn:uuid:3fe8403a-15f0-4212-bfa3-adde5c7a290a&#39;, &#39;Passport&#39;: &#39;urn:uuid:daae90c7-2dd6-4544-8524-2c8610abbafe&#39;}, {&lt;T.id: 1&gt;: &#39;7ac23889-fda7-aac9-1108-3e8ac6d272aa&#39;, &lt;T.label: 4&gt;: &#39;e&#39;, &lt;Direction.IN: 2&gt;: {&lt;T.id: 1&gt;: &#39;3ec23889-f808-4382-2c57-5a75fa3d2dbc&#39;, &lt;T.label: 4&gt;: &#39;VC_ulyss&#39;}, &lt;Direction.OUT: 3&gt;: {&lt;T.id: 1&gt;: &#39;66c23889-f857-6915-2d53-e1a54ff478e4&#39;, &lt;T.label: 4&gt;: &#39;VC_ulyss&#39;}}, {&lt;T.id: 1&gt;: &#39;3ec23889-f808-4382-2c57-5a75fa3d2dbc&#39;, &lt;T.label: 4&gt;: &#39;VC_ulyss&#39;, &#39;id&#39;: &#39;urn:uuid:a4aa97e8-93d0-4966-a96d-6d1814a1b6e9&#39;, &#39;ResidentialAddress&#39;: &#39;Amsterdam&#39;, &#39;type&#39;: &#39;UtilityBill&#39;, &#39;Name&#39;: &#39;Bob&#39;, &#39;Surname&#39;: &#39;Bobkov&#39;, &#39;Scan&#39;: &#39;https://big-plato.com/vc/urn:uuid:a4aa97e8-93d0-4966-a96d-6d1814a1b6e9/evidence/1&#39;}]\"], [16, \"path[{&lt;T.id: 1&gt;: &#39;1ac23889-f878-25ef-2fcb-044f729bcf65&#39;, &lt;T.label: 4&gt;: &#39;VC_ulyss&#39;, &#39;id&#39;: &#39;urn:uuid:51291f6d-a662-4d36-9ace-61eacfc6512d&#39;, &#39;IssueDate&#39;: &#39;2022-11-01&#39;, &#39;PlaceOfWork&#39;: &#39;Work Place&#39;, &#39;GrossSalary&#39;: 4700, &#39;Email&#39;: &#39;backend+test-CandidateWithDocuments@project-plato.com&#39;, &#39;OfferedPosition&#39;: &#39;PR Manager&#39;, &#39;KvkExtract&#39;: &#39;urn:uuid:7e8f96fc-3617-45e5-92a6-a7711c5a7225&#39;, &#39;WorkWeekHours&#39;: 80, &#39;type&#39;: &#39;JobOffer&#39;, &#39;JobDescription&#39;: &#39;Do work&#39;, &#39;Name&#39;: &#39;CandidateWithDocuments&#39;, &#39;ResponseDate&#39;: &#39;2022-11-01&#39;, &#39;Surname&#39;: &#39;Bobkov&#39;, &#39;DirectorPassport&#39;: &#39;urn:uuid:00521aef-cbb0-40be-8e60-a56d2935f348&#39;, &#39;PeriodOfWorkMonths&#39;: 12, &#39;TrialPeriodMonths&#39;: 1}, {&lt;T.id: 1&gt;: &#39;eac23889-fdbb-549f-9e6b-2a5931ef58ed&#39;, &lt;T.label: 4&gt;: &#39;e&#39;, &lt;Direction.IN: 2&gt;: {&lt;T.id: 1&gt;: &#39;8ec23889-f6bf-11b7-4afe-3ec076d7af00&#39;, &lt;T.label: 4&gt;: &#39;VC_ulyss&#39;}, &lt;Direction.OUT: 3&gt;: {&lt;T.id: 1&gt;: &#39;1ac23889-f878-25ef-2fcb-044f729bcf65&#39;, &lt;T.label: 4&gt;: &#39;VC_ulyss&#39;}}, {&lt;T.id: 1&gt;: &#39;8ec23889-f6bf-11b7-4afe-3ec076d7af00&#39;, &lt;T.label: 4&gt;: &#39;VC_ulyss&#39;, &#39;id&#39;: &#39;urn:uuid:7e8f96fc-3617-45e5-92a6-a7711c5a7225&#39;, &#39;CompanyName&#39;: &#39;Great Company&#39;, &#39;RSIN&#39;: &#39;12345&#39;, &#39;ChamberOfCommerceNumber&#39;: &#39;12345&#39;, &#39;ExtractionDate&#39;: &#39;2021-11-03&#39;, &#39;type&#39;: &#39;KvkExtract&#39;, &#39;Scan&#39;: &#39;https://big-plato.com/vc/urn:uuid:7e8f96fc-3617-45e5-92a6-a7711c5a7225/evidence/1&#39;, &#39;DirectorName&#39;: &#39;Important&#39;, &#39;DirectorSurname&#39;: &#39;Director&#39;, &#39;RegisteredOfficeAddress&#39;: &#39;fake-registered-office-address&#39;}]\"], [17, \"path[{&lt;T.id: 1&gt;: &#39;1ac23889-f878-25ef-2fcb-044f729bcf65&#39;, &lt;T.label: 4&gt;: &#39;VC_ulyss&#39;, &#39;id&#39;: &#39;urn:uuid:51291f6d-a662-4d36-9ace-61eacfc6512d&#39;, &#39;IssueDate&#39;: &#39;2022-11-01&#39;, &#39;PlaceOfWork&#39;: &#39;Work Place&#39;, &#39;GrossSalary&#39;: 4700, &#39;Email&#39;: &#39;backend+test-CandidateWithDocuments@project-plato.com&#39;, &#39;OfferedPosition&#39;: &#39;PR Manager&#39;, &#39;KvkExtract&#39;: &#39;urn:uuid:7e8f96fc-3617-45e5-92a6-a7711c5a7225&#39;, &#39;WorkWeekHours&#39;: 80, &#39;type&#39;: &#39;JobOffer&#39;, &#39;JobDescription&#39;: &#39;Do work&#39;, &#39;Name&#39;: &#39;CandidateWithDocuments&#39;, &#39;ResponseDate&#39;: &#39;2022-11-01&#39;, &#39;Surname&#39;: &#39;Bobkov&#39;, &#39;DirectorPassport&#39;: &#39;urn:uuid:00521aef-cbb0-40be-8e60-a56d2935f348&#39;, &#39;PeriodOfWorkMonths&#39;: 12, &#39;TrialPeriodMonths&#39;: 1}, {&lt;T.id: 1&gt;: &#39;2cc23889-fdb2-852d-09d8-823929084554&#39;, &lt;T.label: 4&gt;: &#39;e&#39;, &lt;Direction.IN: 2&gt;: {&lt;T.id: 1&gt;: &#39;fec23889-f79d-64ea-9e82-aee7a4cd7666&#39;, &lt;T.label: 4&gt;: &#39;VC_ulyss&#39;}, &lt;Direction.OUT: 3&gt;: {&lt;T.id: 1&gt;: &#39;1ac23889-f878-25ef-2fcb-044f729bcf65&#39;, &lt;T.label: 4&gt;: &#39;VC_ulyss&#39;}}, {&lt;T.id: 1&gt;: &#39;fec23889-f79d-64ea-9e82-aee7a4cd7666&#39;, &lt;T.label: 4&gt;: &#39;VC_ulyss&#39;, &#39;id&#39;: &#39;urn:uuid:00521aef-cbb0-40be-8e60-a56d2935f348&#39;, &#39;IssueDate&#39;: &#39;2012-11-03&#39;, &#39;DocumentNumber&#39;: &#39;9999&#39;, &#39;BirthPlace&#39;: &#39;some place&#39;, &#39;Height&#39;: &#39;5 m&#39;, &#39;Sex&#39;: &#39;fake-sex&#39;, &#39;type&#39;: &#39;Passport&#39;, &#39;Surname&#39;: &#39;Director&#39;, &#39;Authority&#39;: &#39;God&#39;, &#39;BirthDate&#39;: &#39;1972-11-03&#39;, &#39;ExpireDate&#39;: &#39;2032-11-03&#39;, &#39;GivenNames&#39;: &#39;fake-given-names&#39;, &#39;Nationality&#39;: &#39;test nationality&#39;, &#39;Scan&#39;: &#39;https://big-plato.com/vc/urn:uuid:00521aef-cbb0-40be-8e60-a56d2935f348/evidence/1&#39;}]\"], [18, \"path[{&lt;T.id: 1&gt;: &#39;52c23889-f8d2-1261-282b-65a8668da13a&#39;, &lt;T.label: 4&gt;: &#39;VC_ulyss&#39;, &#39;id&#39;: &#39;urn:uuid:891c2b59-0806-4d75-912c-4b7b81b3cb96&#39;, &#39;IssueDate&#39;: &#39;2022-08-05&#39;, &#39;PlaceOfWork&#39;: &#39;Work Place&#39;, &#39;GrossSalary&#39;: 5900, &#39;Email&#39;: &#39;backend+test-Employee@project-plato.com&#39;, &#39;OfferedPosition&#39;: &#39;Engineer&#39;, &#39;KvkExtract&#39;: &#39;urn:uuid:7e8f96fc-3617-45e5-92a6-a7711c5a7225&#39;, &#39;WorkWeekHours&#39;: 80, &#39;type&#39;: &#39;JobOffer&#39;, &#39;JobDescription&#39;: &#39;Do work&#39;, &#39;Name&#39;: &#39;Employee&#39;, &#39;ResponseDate&#39;: &#39;2022-08-05&#39;, &#39;Surname&#39;: &#39;Davis&#39;, &#39;DirectorPassport&#39;: &#39;urn:uuid:00521aef-cbb0-40be-8e60-a56d2935f348&#39;, &#39;PeriodOfWorkMonths&#39;: 12, &#39;TrialPeriodMonths&#39;: 1}, {&lt;T.id: 1&gt;: &#39;16c23889-fded-b6c1-aee0-074a26f32672&#39;, &lt;T.label: 4&gt;: &#39;e&#39;, &lt;Direction.IN: 2&gt;: {&lt;T.id: 1&gt;: &#39;8ec23889-f6bf-11b7-4afe-3ec076d7af00&#39;, &lt;T.label: 4&gt;: &#39;VC_ulyss&#39;}, &lt;Direction.OUT: 3&gt;: {&lt;T.id: 1&gt;: &#39;52c23889-f8d2-1261-282b-65a8668da13a&#39;, &lt;T.label: 4&gt;: &#39;VC_ulyss&#39;}}, {&lt;T.id: 1&gt;: &#39;8ec23889-f6bf-11b7-4afe-3ec076d7af00&#39;, &lt;T.label: 4&gt;: &#39;VC_ulyss&#39;, &#39;id&#39;: &#39;urn:uuid:7e8f96fc-3617-45e5-92a6-a7711c5a7225&#39;, &#39;CompanyName&#39;: &#39;Great Company&#39;, &#39;RSIN&#39;: &#39;12345&#39;, &#39;ChamberOfCommerceNumber&#39;: &#39;12345&#39;, &#39;ExtractionDate&#39;: &#39;2021-11-03&#39;, &#39;type&#39;: &#39;KvkExtract&#39;, &#39;Scan&#39;: &#39;https://big-plato.com/vc/urn:uuid:7e8f96fc-3617-45e5-92a6-a7711c5a7225/evidence/1&#39;, &#39;DirectorName&#39;: &#39;Important&#39;, &#39;DirectorSurname&#39;: &#39;Director&#39;, &#39;RegisteredOfficeAddress&#39;: &#39;fake-registered-office-address&#39;}]\"], [19, \"path[{&lt;T.id: 1&gt;: &#39;52c23889-f8d2-1261-282b-65a8668da13a&#39;, &lt;T.label: 4&gt;: &#39;VC_ulyss&#39;, &#39;id&#39;: &#39;urn:uuid:891c2b59-0806-4d75-912c-4b7b81b3cb96&#39;, &#39;IssueDate&#39;: &#39;2022-08-05&#39;, &#39;PlaceOfWork&#39;: &#39;Work Place&#39;, &#39;GrossSalary&#39;: 5900, &#39;Email&#39;: &#39;backend+test-Employee@project-plato.com&#39;, &#39;OfferedPosition&#39;: &#39;Engineer&#39;, &#39;KvkExtract&#39;: &#39;urn:uuid:7e8f96fc-3617-45e5-92a6-a7711c5a7225&#39;, &#39;WorkWeekHours&#39;: 80, &#39;type&#39;: &#39;JobOffer&#39;, &#39;JobDescription&#39;: &#39;Do work&#39;, &#39;Name&#39;: &#39;Employee&#39;, &#39;ResponseDate&#39;: &#39;2022-08-05&#39;, &#39;Surname&#39;: &#39;Davis&#39;, &#39;DirectorPassport&#39;: &#39;urn:uuid:00521aef-cbb0-40be-8e60-a56d2935f348&#39;, &#39;PeriodOfWorkMonths&#39;: 12, &#39;TrialPeriodMonths&#39;: 1}, {&lt;T.id: 1&gt;: &#39;34c23889-fde4-7cad-49e5-8e3cf879ebd6&#39;, &lt;T.label: 4&gt;: &#39;e&#39;, &lt;Direction.IN: 2&gt;: {&lt;T.id: 1&gt;: &#39;fec23889-f79d-64ea-9e82-aee7a4cd7666&#39;, &lt;T.label: 4&gt;: &#39;VC_ulyss&#39;}, &lt;Direction.OUT: 3&gt;: {&lt;T.id: 1&gt;: &#39;52c23889-f8d2-1261-282b-65a8668da13a&#39;, &lt;T.label: 4&gt;: &#39;VC_ulyss&#39;}}, {&lt;T.id: 1&gt;: &#39;fec23889-f79d-64ea-9e82-aee7a4cd7666&#39;, &lt;T.label: 4&gt;: &#39;VC_ulyss&#39;, &#39;id&#39;: &#39;urn:uuid:00521aef-cbb0-40be-8e60-a56d2935f348&#39;, &#39;IssueDate&#39;: &#39;2012-11-03&#39;, &#39;DocumentNumber&#39;: &#39;9999&#39;, &#39;BirthPlace&#39;: &#39;some place&#39;, &#39;Height&#39;: &#39;5 m&#39;, &#39;Sex&#39;: &#39;fake-sex&#39;, &#39;type&#39;: &#39;Passport&#39;, &#39;Surname&#39;: &#39;Director&#39;, &#39;Authority&#39;: &#39;God&#39;, &#39;BirthDate&#39;: &#39;1972-11-03&#39;, &#39;ExpireDate&#39;: &#39;2032-11-03&#39;, &#39;GivenNames&#39;: &#39;fake-given-names&#39;, &#39;Nationality&#39;: &#39;test nationality&#39;, &#39;Scan&#39;: &#39;https://big-plato.com/vc/urn:uuid:00521aef-cbb0-40be-8e60-a56d2935f348/evidence/1&#39;}]\"], [20, \"path[{&lt;T.id: 1&gt;: &#39;c2c23889-f946-4a11-53a7-5a451cdf4044&#39;, &lt;T.label: 4&gt;: &#39;VC_ulyss&#39;, &#39;id&#39;: &#39;urn:uuid:841024b9-a36e-4155-b263-b3e3c9c465e7&#39;, &#39;IssueDate&#39;: &#39;2022-11-03&#39;, &#39;PlaceOfWork&#39;: &#39;Work Place&#39;, &#39;GrossSalary&#39;: 2500, &#39;Email&#39;: &#39;backend+test-Candidate@project-plato.com&#39;, &#39;OfferedPosition&#39;: &#39;Webmaster&#39;, &#39;KvkExtract&#39;: &#39;urn:uuid:7e8f96fc-3617-45e5-92a6-a7711c5a7225&#39;, &#39;WorkWeekHours&#39;: 80, &#39;type&#39;: &#39;JobOffer&#39;, &#39;JobDescription&#39;: &#39;Do work&#39;, &#39;Name&#39;: &#39;Candidate&#39;, &#39;ResponseDate&#39;: &#39;2022-11-03&#39;, &#39;Surname&#39;: &#39;Anderson&#39;, &#39;DirectorPassport&#39;: &#39;urn:uuid:00521aef-cbb0-40be-8e60-a56d2935f348&#39;, &#39;PeriodOfWorkMonths&#39;: 12, &#39;TrialPeriodMonths&#39;: 1}, {&lt;T.id: 1&gt;: &#39;22c23889-fe0f-fc99-d78c-42039d66c909&#39;, &lt;T.label: 4&gt;: &#39;e&#39;, &lt;Direction.IN: 2&gt;: {&lt;T.id: 1&gt;: &#39;8ec23889-f6bf-11b7-4afe-3ec076d7af00&#39;, &lt;T.label: 4&gt;: &#39;VC_ulyss&#39;}, &lt;Direction.OUT: 3&gt;: {&lt;T.id: 1&gt;: &#39;c2c23889-f946-4a11-53a7-5a451cdf4044&#39;, &lt;T.label: 4&gt;: &#39;VC_ulyss&#39;}}, {&lt;T.id: 1&gt;: &#39;8ec23889-f6bf-11b7-4afe-3ec076d7af00&#39;, &lt;T.label: 4&gt;: &#39;VC_ulyss&#39;, &#39;id&#39;: &#39;urn:uuid:7e8f96fc-3617-45e5-92a6-a7711c5a7225&#39;, &#39;CompanyName&#39;: &#39;Great Company&#39;, &#39;RSIN&#39;: &#39;12345&#39;, &#39;ChamberOfCommerceNumber&#39;: &#39;12345&#39;, &#39;ExtractionDate&#39;: &#39;2021-11-03&#39;, &#39;type&#39;: &#39;KvkExtract&#39;, &#39;Scan&#39;: &#39;https://big-plato.com/vc/urn:uuid:7e8f96fc-3617-45e5-92a6-a7711c5a7225/evidence/1&#39;, &#39;DirectorName&#39;: &#39;Important&#39;, &#39;DirectorSurname&#39;: &#39;Director&#39;, &#39;RegisteredOfficeAddress&#39;: &#39;fake-registered-office-address&#39;}]\"], [21, \"path[{&lt;T.id: 1&gt;: &#39;c2c23889-f946-4a11-53a7-5a451cdf4044&#39;, &lt;T.label: 4&gt;: &#39;VC_ulyss&#39;, &#39;id&#39;: &#39;urn:uuid:841024b9-a36e-4155-b263-b3e3c9c465e7&#39;, &#39;IssueDate&#39;: &#39;2022-11-03&#39;, &#39;PlaceOfWork&#39;: &#39;Work Place&#39;, &#39;GrossSalary&#39;: 2500, &#39;Email&#39;: &#39;backend+test-Candidate@project-plato.com&#39;, &#39;OfferedPosition&#39;: &#39;Webmaster&#39;, &#39;KvkExtract&#39;: &#39;urn:uuid:7e8f96fc-3617-45e5-92a6-a7711c5a7225&#39;, &#39;WorkWeekHours&#39;: 80, &#39;type&#39;: &#39;JobOffer&#39;, &#39;JobDescription&#39;: &#39;Do work&#39;, &#39;Name&#39;: &#39;Candidate&#39;, &#39;ResponseDate&#39;: &#39;2022-11-03&#39;, &#39;Surname&#39;: &#39;Anderson&#39;, &#39;DirectorPassport&#39;: &#39;urn:uuid:00521aef-cbb0-40be-8e60-a56d2935f348&#39;, &#39;PeriodOfWorkMonths&#39;: 12, &#39;TrialPeriodMonths&#39;: 1}, {&lt;T.id: 1&gt;: &#39;0ec23889-fe06-92a0-2e29-9199a4cba23b&#39;, &lt;T.label: 4&gt;: &#39;e&#39;, &lt;Direction.IN: 2&gt;: {&lt;T.id: 1&gt;: &#39;fec23889-f79d-64ea-9e82-aee7a4cd7666&#39;, &lt;T.label: 4&gt;: &#39;VC_ulyss&#39;}, &lt;Direction.OUT: 3&gt;: {&lt;T.id: 1&gt;: &#39;c2c23889-f946-4a11-53a7-5a451cdf4044&#39;, &lt;T.label: 4&gt;: &#39;VC_ulyss&#39;}}, {&lt;T.id: 1&gt;: &#39;fec23889-f79d-64ea-9e82-aee7a4cd7666&#39;, &lt;T.label: 4&gt;: &#39;VC_ulyss&#39;, &#39;id&#39;: &#39;urn:uuid:00521aef-cbb0-40be-8e60-a56d2935f348&#39;, &#39;IssueDate&#39;: &#39;2012-11-03&#39;, &#39;DocumentNumber&#39;: &#39;9999&#39;, &#39;BirthPlace&#39;: &#39;some place&#39;, &#39;Height&#39;: &#39;5 m&#39;, &#39;Sex&#39;: &#39;fake-sex&#39;, &#39;type&#39;: &#39;Passport&#39;, &#39;Surname&#39;: &#39;Director&#39;, &#39;Authority&#39;: &#39;God&#39;, &#39;BirthDate&#39;: &#39;1972-11-03&#39;, &#39;ExpireDate&#39;: &#39;2032-11-03&#39;, &#39;GivenNames&#39;: &#39;fake-given-names&#39;, &#39;Nationality&#39;: &#39;test nationality&#39;, &#39;Scan&#39;: &#39;https://big-plato.com/vc/urn:uuid:00521aef-cbb0-40be-8e60-a56d2935f348/evidence/1&#39;}]\"], [22, \"path[{&lt;T.id: 1&gt;: &#39;1ac23889-f9ab-4967-9885-b4a6099668dc&#39;, &lt;T.label: 4&gt;: &#39;VC_ulyss&#39;, &#39;id&#39;: &#39;urn:uuid:9b38551e-b641-41c9-96a0-af56cad14c8d&#39;, &#39;CandidateAgreement&#39;: &#39;urn:uuid:1c48d7a4-56b3-4350-bff8-6a1970bb5bd7&#39;, &#39;type&#39;: &#39;EmploymentAgreement&#39;}, {&lt;T.id: 1&gt;: &#39;46c23889-fe1d-7140-e28c-af2a1a1777f2&#39;, &lt;T.label: 4&gt;: &#39;e&#39;, &lt;Direction.IN: 2&gt;: {&lt;T.id: 1&gt;: &#39;10c23889-f9dd-913b-c5db-15191dc17f9f&#39;, &lt;T.label: 4&gt;: &#39;VC_ulyss&#39;}, &lt;Direction.OUT: 3&gt;: {&lt;T.id: 1&gt;: &#39;1ac23889-f9ab-4967-9885-b4a6099668dc&#39;, &lt;T.label: 4&gt;: &#39;VC_ulyss&#39;}}, {&lt;T.id: 1&gt;: &#39;10c23889-f9dd-913b-c5db-15191dc17f9f&#39;, &lt;T.label: 4&gt;: &#39;VC_ulyss&#39;, &#39;id&#39;: &#39;urn:uuid:1c48d7a4-56b3-4350-bff8-6a1970bb5bd7&#39;, &#39;StartDate&#39;: &#39;2022-06-16&#39;, &#39;UtilityBill&#39;: &#39;urn:uuid:bab0b678-1d7c-40e5-a579-a76828fd8ccd&#39;, &#39;type&#39;: &#39;CandidateAgreement&#39;, &#39;JobOffer&#39;: &#39;urn:uuid:4a674e00-080d-41b1-bd4f-af3305f7c579&#39;, &#39;Passport&#39;: &#39;urn:uuid:fcd7285a-650c-493a-b705-a32c97edf679&#39;}]\"], [23, \"path[{&lt;T.id: 1&gt;: &#39;b6c23889-fa2a-677d-adcc-0c2777c9bd5f&#39;, &lt;T.label: 4&gt;: &#39;VC_ulyss&#39;, &#39;id&#39;: &#39;urn:uuid:8f54da1a-cd0c-46ef-b9da-5088755a6a46&#39;, &#39;CompanyAddendum&#39;: &#39;urn:uuid:862bb334-a49c-45d9-be75-87e0d97b8e8e&#39;, &#39;type&#39;: &#39;EmploymentAddendum&#39;}, {&lt;T.id: 1&gt;: &#39;6cc23889-fe84-52b9-b12e-0dc5e4f140dd&#39;, &lt;T.label: 4&gt;: &#39;e&#39;, &lt;Direction.IN: 2&gt;: {&lt;T.id: 1&gt;: &#39;fac23889-fa35-be75-ded9-a89d57213ae8&#39;, &lt;T.label: 4&gt;: &#39;VC_ulyss&#39;}, &lt;Direction.OUT: 3&gt;: {&lt;T.id: 1&gt;: &#39;b6c23889-fa2a-677d-adcc-0c2777c9bd5f&#39;, &lt;T.label: 4&gt;: &#39;VC_ulyss&#39;}}, {&lt;T.id: 1&gt;: &#39;fac23889-fa35-be75-ded9-a89d57213ae8&#39;, &lt;T.label: 4&gt;: &#39;VC_ulyss&#39;, &#39;id&#39;: &#39;urn:uuid:862bb334-a49c-45d9-be75-87e0d97b8e8e&#39;, &#39;Position&#39;: &#39;CFO&#39;, &#39;MonthlyGrossSalary&#39;: 3500, &#39;AddendumToEmploymentAgreement&#39;: &#39;urn:uuid:12420ab7-8cd5-4557-be3b-d11d1e4d0cf9&#39;, &#39;From&#39;: &#39;2022-10-04&#39;, &#39;type&#39;: &#39;CompanyAddendum&#39;, &#39;AgreeAsFollows&#39;: &#39;some agreement CFO&#39;, &#39;EmploymentAgreement&#39;: &#39;urn:uuid:d20348a2-7740-4ea1-98f4-59fe90396a27&#39;}]\"], [24, \"path[{&lt;T.id: 1&gt;: &#39;eac23889-fa8f-adde-7b5a-0c259142af6f&#39;, &lt;T.label: 4&gt;: &#39;VC_ulyss&#39;, &#39;id&#39;: &#39;urn:uuid:22343abc-ca87-4a3f-b5dd-f6bb92c24076&#39;, &#39;IssueDate&#39;: &#39;2022-01-07&#39;, &#39;PlaceOfWork&#39;: &#39;Work Place&#39;, &#39;GrossSalary&#39;: 1400, &#39;Email&#39;: &#39;backend+test-EmployeeWithAddendums@project-plato.com&#39;, &#39;OfferedPosition&#39;: &#39;Finance manager&#39;, &#39;KvkExtract&#39;: &#39;urn:uuid:7e8f96fc-3617-45e5-92a6-a7711c5a7225&#39;, &#39;WorkWeekHours&#39;: 80, &#39;type&#39;: &#39;JobOffer&#39;, &#39;JobDescription&#39;: &#39;Do work&#39;, &#39;Name&#39;: &#39;EmployeeWithAddendums&#39;, &#39;ResponseDate&#39;: &#39;2022-01-07&#39;, &#39;Surname&#39;: &#39;Jones&#39;, &#39;DirectorPassport&#39;: &#39;urn:uuid:00521aef-cbb0-40be-8e60-a56d2935f348&#39;, &#39;PeriodOfWorkMonths&#39;: 12, &#39;TrialPeriodMonths&#39;: 1}, {&lt;T.id: 1&gt;: &#39;c2c23889-fecf-d5c6-34f7-5e0d7e86058a&#39;, &lt;T.label: 4&gt;: &#39;e&#39;, &lt;Direction.IN: 2&gt;: {&lt;T.id: 1&gt;: &#39;8ec23889-f6bf-11b7-4afe-3ec076d7af00&#39;, &lt;T.label: 4&gt;: &#39;VC_ulyss&#39;}, &lt;Direction.OUT: 3&gt;: {&lt;T.id: 1&gt;: &#39;eac23889-fa8f-adde-7b5a-0c259142af6f&#39;, &lt;T.label: 4&gt;: &#39;VC_ulyss&#39;}}, {&lt;T.id: 1&gt;: &#39;8ec23889-f6bf-11b7-4afe-3ec076d7af00&#39;, &lt;T.label: 4&gt;: &#39;VC_ulyss&#39;, &#39;id&#39;: &#39;urn:uuid:7e8f96fc-3617-45e5-92a6-a7711c5a7225&#39;, &#39;CompanyName&#39;: &#39;Great Company&#39;, &#39;RSIN&#39;: &#39;12345&#39;, &#39;ChamberOfCommerceNumber&#39;: &#39;12345&#39;, &#39;ExtractionDate&#39;: &#39;2021-11-03&#39;, &#39;type&#39;: &#39;KvkExtract&#39;, &#39;Scan&#39;: &#39;https://big-plato.com/vc/urn:uuid:7e8f96fc-3617-45e5-92a6-a7711c5a7225/evidence/1&#39;, &#39;DirectorName&#39;: &#39;Important&#39;, &#39;DirectorSurname&#39;: &#39;Director&#39;, &#39;RegisteredOfficeAddress&#39;: &#39;fake-registered-office-address&#39;}]\"], [25, \"path[{&lt;T.id: 1&gt;: &#39;eac23889-fa8f-adde-7b5a-0c259142af6f&#39;, &lt;T.label: 4&gt;: &#39;VC_ulyss&#39;, &#39;id&#39;: &#39;urn:uuid:22343abc-ca87-4a3f-b5dd-f6bb92c24076&#39;, &#39;IssueDate&#39;: &#39;2022-01-07&#39;, &#39;PlaceOfWork&#39;: &#39;Work Place&#39;, &#39;GrossSalary&#39;: 1400, &#39;Email&#39;: &#39;backend+test-EmployeeWithAddendums@project-plato.com&#39;, &#39;OfferedPosition&#39;: &#39;Finance manager&#39;, &#39;KvkExtract&#39;: &#39;urn:uuid:7e8f96fc-3617-45e5-92a6-a7711c5a7225&#39;, &#39;WorkWeekHours&#39;: 80, &#39;type&#39;: &#39;JobOffer&#39;, &#39;JobDescription&#39;: &#39;Do work&#39;, &#39;Name&#39;: &#39;EmployeeWithAddendums&#39;, &#39;ResponseDate&#39;: &#39;2022-01-07&#39;, &#39;Surname&#39;: &#39;Jones&#39;, &#39;DirectorPassport&#39;: &#39;urn:uuid:00521aef-cbb0-40be-8e60-a56d2935f348&#39;, &#39;PeriodOfWorkMonths&#39;: 12, &#39;TrialPeriodMonths&#39;: 1}, {&lt;T.id: 1&gt;: &#39;5cc23889-fec6-ab1f-1df5-050b2d2d8e28&#39;, &lt;T.label: 4&gt;: &#39;e&#39;, &lt;Direction.IN: 2&gt;: {&lt;T.id: 1&gt;: &#39;fec23889-f79d-64ea-9e82-aee7a4cd7666&#39;, &lt;T.label: 4&gt;: &#39;VC_ulyss&#39;}, &lt;Direction.OUT: 3&gt;: {&lt;T.id: 1&gt;: &#39;eac23889-fa8f-adde-7b5a-0c259142af6f&#39;, &lt;T.label: 4&gt;: &#39;VC_ulyss&#39;}}, {&lt;T.id: 1&gt;: &#39;fec23889-f79d-64ea-9e82-aee7a4cd7666&#39;, &lt;T.label: 4&gt;: &#39;VC_ulyss&#39;, &#39;id&#39;: &#39;urn:uuid:00521aef-cbb0-40be-8e60-a56d2935f348&#39;, &#39;IssueDate&#39;: &#39;2012-11-03&#39;, &#39;DocumentNumber&#39;: &#39;9999&#39;, &#39;BirthPlace&#39;: &#39;some place&#39;, &#39;Height&#39;: &#39;5 m&#39;, &#39;Sex&#39;: &#39;fake-sex&#39;, &#39;type&#39;: &#39;Passport&#39;, &#39;Surname&#39;: &#39;Director&#39;, &#39;Authority&#39;: &#39;God&#39;, &#39;BirthDate&#39;: &#39;1972-11-03&#39;, &#39;ExpireDate&#39;: &#39;2032-11-03&#39;, &#39;GivenNames&#39;: &#39;fake-given-names&#39;, &#39;Nationality&#39;: &#39;test nationality&#39;, &#39;Scan&#39;: &#39;https://big-plato.com/vc/urn:uuid:00521aef-cbb0-40be-8e60-a56d2935f348/evidence/1&#39;}]\"], [26, \"path[{&lt;T.id: 1&gt;: &#39;04c23889-fab6-8d51-6668-2ae770602511&#39;, &lt;T.label: 4&gt;: &#39;VC_ulyss&#39;, &#39;id&#39;: &#39;urn:uuid:12420ab7-8cd5-4557-be3b-d11d1e4d0cf9&#39;, &#39;CompanyAddendum&#39;: &#39;urn:uuid:47661103-33bb-4fdb-8fc6-5acaec17a005&#39;, &#39;type&#39;: &#39;EmploymentAddendum&#39;}, {&lt;T.id: 1&gt;: &#39;e4c23889-feda-12f3-cb92-dc7a431d5f37&#39;, &lt;T.label: 4&gt;: &#39;e&#39;, &lt;Direction.IN: 2&gt;: {&lt;T.id: 1&gt;: &#39;e4c23889-fa63-a61e-da57-6976d9fb4ad9&#39;, &lt;T.label: 4&gt;: &#39;VC_ulyss&#39;}, &lt;Direction.OUT: 3&gt;: {&lt;T.id: 1&gt;: &#39;04c23889-fab6-8d51-6668-2ae770602511&#39;, &lt;T.label: 4&gt;: &#39;VC_ulyss&#39;}}, {&lt;T.id: 1&gt;: &#39;e4c23889-fa63-a61e-da57-6976d9fb4ad9&#39;, &lt;T.label: 4&gt;: &#39;VC_ulyss&#39;, &#39;id&#39;: &#39;urn:uuid:47661103-33bb-4fdb-8fc6-5acaec17a005&#39;, &#39;Position&#39;: &#39;Senior finance manager&#39;, &#39;MonthlyGrossSalary&#39;: 2000, &#39;AddendumToEmploymentAgreement&#39;: &#39;urn:uuid:27df455b-56ca-4a73-abba-16a6d61ccd38&#39;, &#39;From&#39;: &#39;2022-08-05&#39;, &#39;type&#39;: &#39;CompanyAddendum&#39;, &#39;AgreeAsFollows&#39;: &#39;some agreement Senior finance manager&#39;, &#39;EmploymentAgreement&#39;: &#39;urn:uuid:d20348a2-7740-4ea1-98f4-59fe90396a27&#39;}]\"], [27, \"path[{&lt;T.id: 1&gt;: &#39;dcc23889-fb2f-3348-48e8-24a329afc62f&#39;, &lt;T.label: 4&gt;: &#39;VC_ulyss&#39;, &#39;id&#39;: &#39;urn:uuid:310220d6-c96d-4ec7-ab22-dc8b8ce73993&#39;, &#39;StartDate&#39;: &#39;2022-05-17&#39;, &#39;UtilityBill&#39;: &#39;urn:uuid:e8af8a04-6fe5-478d-a45f-7c78a857c904&#39;, &#39;type&#39;: &#39;CandidateAgreement&#39;, &#39;JobOffer&#39;: &#39;urn:uuid:c0b103b0-181e-4aca-8e2a-bea48dfa2b49&#39;, &#39;Passport&#39;: &#39;urn:uuid:0ff6573f-29dd-4819-a218-16a6a551df14&#39;}, {&lt;T.id: 1&gt;: &#39;f8c23889-ff23-464a-1695-ae3d2cfbe861&#39;, &lt;T.label: 4&gt;: &#39;e&#39;, &lt;Direction.IN: 2&gt;: {&lt;T.id: 1&gt;: &#39;96c23889-fae8-99d8-cfce-d1bb741349c9&#39;, &lt;T.label: 4&gt;: &#39;VC_ulyss&#39;}, &lt;Direction.OUT: 3&gt;: {&lt;T.id: 1&gt;: &#39;dcc23889-fb2f-3348-48e8-24a329afc62f&#39;, &lt;T.label: 4&gt;: &#39;VC_ulyss&#39;}}, {&lt;T.id: 1&gt;: &#39;96c23889-fae8-99d8-cfce-d1bb741349c9&#39;, &lt;T.label: 4&gt;: &#39;VC_ulyss&#39;, &#39;id&#39;: &#39;urn:uuid:e8af8a04-6fe5-478d-a45f-7c78a857c904&#39;, &#39;ResidentialAddress&#39;: &#39;res addr&#39;, &#39;type&#39;: &#39;UtilityBill&#39;, &#39;Name&#39;: &#39;EmployeeWithDraftResignationNotice&#39;, &#39;Surname&#39;: &#39;Evans&#39;, &#39;Scan&#39;: &#39;https://big-plato.com/vc/urn:uuid:e8af8a04-6fe5-478d-a45f-7c78a857c904/evidence/1&#39;}]\"], [28, \"path[{&lt;T.id: 1&gt;: &#39;dcc23889-fb2f-3348-48e8-24a329afc62f&#39;, &lt;T.label: 4&gt;: &#39;VC_ulyss&#39;, &#39;id&#39;: &#39;urn:uuid:310220d6-c96d-4ec7-ab22-dc8b8ce73993&#39;, &#39;StartDate&#39;: &#39;2022-05-17&#39;, &#39;UtilityBill&#39;: &#39;urn:uuid:e8af8a04-6fe5-478d-a45f-7c78a857c904&#39;, &#39;type&#39;: &#39;CandidateAgreement&#39;, &#39;JobOffer&#39;: &#39;urn:uuid:c0b103b0-181e-4aca-8e2a-bea48dfa2b49&#39;, &#39;Passport&#39;: &#39;urn:uuid:0ff6573f-29dd-4819-a218-16a6a551df14&#39;}, {&lt;T.id: 1&gt;: &#39;60c23889-ff12-d48b-3933-45c972d02d6d&#39;, &lt;T.label: 4&gt;: &#39;e&#39;, &lt;Direction.IN: 2&gt;: {&lt;T.id: 1&gt;: &#39;54c23889-faf8-be91-2825-6917f8664722&#39;, &lt;T.label: 4&gt;: &#39;VC_ulyss&#39;}, &lt;Direction.OUT: 3&gt;: {&lt;T.id: 1&gt;: &#39;dcc23889-fb2f-3348-48e8-24a329afc62f&#39;, &lt;T.label: 4&gt;: &#39;VC_ulyss&#39;}}, {&lt;T.id: 1&gt;: &#39;54c23889-faf8-be91-2825-6917f8664722&#39;, &lt;T.label: 4&gt;: &#39;VC_ulyss&#39;, &#39;id&#39;: &#39;urn:uuid:c0b103b0-181e-4aca-8e2a-bea48dfa2b49&#39;, &#39;IssueDate&#39;: &#39;2022-05-07&#39;, &#39;PlaceOfWork&#39;: &#39;Work Place&#39;, &#39;GrossSalary&#39;: 1100, &#39;Email&#39;: &#39;backend+test-EmployeeWithDraftResignationNotice@project-plato.com&#39;, &#39;OfferedPosition&#39;: &#39;Editor&#39;, &#39;KvkExtract&#39;: &#39;urn:uuid:7e8f96fc-3617-45e5-92a6-a7711c5a7225&#39;, &#39;WorkWeekHours&#39;: 80, &#39;type&#39;: &#39;JobOffer&#39;, &#39;JobDescription&#39;: &#39;Do work&#39;, &#39;Name&#39;: &#39;EmployeeWithDraftResignationNotice&#39;, &#39;ResponseDate&#39;: &#39;2022-05-07&#39;, &#39;Surname&#39;: &#39;Evans&#39;, &#39;DirectorPassport&#39;: &#39;urn:uuid:00521aef-cbb0-40be-8e60-a56d2935f348&#39;, &#39;PeriodOfWorkMonths&#39;: 12, &#39;TrialPeriodMonths&#39;: 1}]\"], [29, \"path[{&lt;T.id: 1&gt;: &#39;dcc23889-fb2f-3348-48e8-24a329afc62f&#39;, &lt;T.label: 4&gt;: &#39;VC_ulyss&#39;, &#39;id&#39;: &#39;urn:uuid:310220d6-c96d-4ec7-ab22-dc8b8ce73993&#39;, &#39;StartDate&#39;: &#39;2022-05-17&#39;, &#39;UtilityBill&#39;: &#39;urn:uuid:e8af8a04-6fe5-478d-a45f-7c78a857c904&#39;, &#39;type&#39;: &#39;CandidateAgreement&#39;, &#39;JobOffer&#39;: &#39;urn:uuid:c0b103b0-181e-4aca-8e2a-bea48dfa2b49&#39;, &#39;Passport&#39;: &#39;urn:uuid:0ff6573f-29dd-4819-a218-16a6a551df14&#39;}, {&lt;T.id: 1&gt;: &#39;d6c23889-ff1a-cf0d-756c-28f41e44c228&#39;, &lt;T.label: 4&gt;: &#39;e&#39;, &lt;Direction.IN: 2&gt;: {&lt;T.id: 1&gt;: &#39;7cc23889-fb40-8ef0-9965-ca21cb752ab9&#39;, &lt;T.label: 4&gt;: &#39;VC_ulyss&#39;}, &lt;Direction.OUT: 3&gt;: {&lt;T.id: 1&gt;: &#39;dcc23889-fb2f-3348-48e8-24a329afc62f&#39;, &lt;T.label: 4&gt;: &#39;VC_ulyss&#39;}}, {&lt;T.id: 1&gt;: &#39;7cc23889-fb40-8ef0-9965-ca21cb752ab9&#39;, &lt;T.label: 4&gt;: &#39;VC_ulyss&#39;, &#39;id&#39;: &#39;urn:uuid:0ff6573f-29dd-4819-a218-16a6a551df14&#39;, &#39;IssueDate&#39;: &#39;2017-11-03&#39;, &#39;DocumentNumber&#39;: &#39;9999&#39;, &#39;BirthPlace&#39;: &#39;place&#39;, &#39;Height&#39;: &#39;1m 76cm&#39;, &#39;Sex&#39;: &#39;sex&#39;, &#39;type&#39;: &#39;Passport&#39;, &#39;Surname&#39;: &#39;Evans&#39;, &#39;Authority&#39;: &#39;some authority&#39;, &#39;BirthDate&#39;: &#39;1997-11-03&#39;, &#39;ExpireDate&#39;: &#39;2032-11-03&#39;, &#39;GivenNames&#39;: &#39;EmployeeWithDraftResignationNotice&#39;, &#39;Nationality&#39;: &#39;nationality&#39;, &#39;Scan&#39;: &#39;https://big-plato.com/vc/urn:uuid:0ff6573f-29dd-4819-a218-16a6a551df14/evidence/1&#39;}]\"], [30, \"path[{&lt;T.id: 1&gt;: &#39;18c23889-fb8f-9867-5af8-5175e4781fb8&#39;, &lt;T.label: 4&gt;: &#39;VC_ulyss&#39;, &#39;id&#39;: &#39;urn:uuid:e74ddcfd-7e31-4985-b061-c12c919b6d90&#39;, &#39;IssueDate&#39;: &#39;2022-11-23&#39;, &#39;ResignationDate&#39;: &#39;2022-11-23&#39;, &#39;type&#39;: &#39;ResignationNotice&#39;, &#39;EmploymentAgreement&#39;: &#39;urn:uuid:be7da832-ad60-4d37-a0d9-980c797672e3&#39;}, {&lt;T.id: 1&gt;: &#39;24c23889-ff4b-9451-31b8-d3e1c4d602ba&#39;, &lt;T.label: 4&gt;: &#39;e&#39;, &lt;Direction.IN: 2&gt;: {&lt;T.id: 1&gt;: &#39;c2c23889-fbdf-63a4-29c1-759fb040ef9d&#39;, &lt;T.label: 4&gt;: &#39;VC_ulyss&#39;}, &lt;Direction.OUT: 3&gt;: {&lt;T.id: 1&gt;: &#39;18c23889-fb8f-9867-5af8-5175e4781fb8&#39;, &lt;T.label: 4&gt;: &#39;VC_ulyss&#39;}}, {&lt;T.id: 1&gt;: &#39;c2c23889-fbdf-63a4-29c1-759fb040ef9d&#39;, &lt;T.label: 4&gt;: &#39;VC_ulyss&#39;, &#39;id&#39;: &#39;urn:uuid:be7da832-ad60-4d37-a0d9-980c797672e3&#39;, &#39;CandidateAgreement&#39;: &#39;urn:uuid:eadd9210-7655-4edc-b0e3-74c7307a5dc1&#39;, &#39;type&#39;: &#39;EmploymentAgreement&#39;}]\"], [31, \"path[{&lt;T.id: 1&gt;: &#39;00c23889-fc5b-f16a-2193-7d44ad1d44bc&#39;, &lt;T.label: 4&gt;: &#39;VC_ulyss&#39;, &#39;id&#39;: &#39;urn:uuid:7bdeb4ab-4409-4391-b262-8020f16e085a&#39;, &#39;IssueDate&#39;: &#39;2022-10-29&#39;, &#39;PlaceOfWork&#39;: &#39;Work Place&#39;, &#39;GrossSalary&#39;: 3200, &#39;Email&#39;: &#39;backend+test-CandidateWithContractAgreement@project-plato.com&#39;, &#39;OfferedPosition&#39;: &#39;Sales Manager&#39;, &#39;KvkExtract&#39;: &#39;urn:uuid:7e8f96fc-3617-45e5-92a6-a7711c5a7225&#39;, &#39;WorkWeekHours&#39;: 80, &#39;type&#39;: &#39;JobOffer&#39;, &#39;JobDescription&#39;: &#39;Do work&#39;, &#39;Name&#39;: &#39;CandidateWithContractAgreement&#39;, &#39;ResponseDate&#39;: &#39;2022-10-29&#39;, &#39;Surname&#39;: &#39;Clark&#39;, &#39;DirectorPassport&#39;: &#39;urn:uuid:00521aef-cbb0-40be-8e60-a56d2935f348&#39;, &#39;PeriodOfWorkMonths&#39;: 12, &#39;TrialPeriodMonths&#39;: 1}, {&lt;T.id: 1&gt;: &#39;10c23889-ffa0-8219-c2f3-0b46a1effad2&#39;, &lt;T.label: 4&gt;: &#39;e&#39;, &lt;Direction.IN: 2&gt;: {&lt;T.id: 1&gt;: &#39;8ec23889-f6bf-11b7-4afe-3ec076d7af00&#39;, &lt;T.label: 4&gt;: &#39;VC_ulyss&#39;}, &lt;Direction.OUT: 3&gt;: {&lt;T.id: 1&gt;: &#39;00c23889-fc5b-f16a-2193-7d44ad1d44bc&#39;, &lt;T.label: 4&gt;: &#39;VC_ulyss&#39;}}, {&lt;T.id: 1&gt;: &#39;8ec23889-f6bf-11b7-4afe-3ec076d7af00&#39;, &lt;T.label: 4&gt;: &#39;VC_ulyss&#39;, &#39;id&#39;: &#39;urn:uuid:7e8f96fc-3617-45e5-92a6-a7711c5a7225&#39;, &#39;CompanyName&#39;: &#39;Great Company&#39;, &#39;RSIN&#39;: &#39;12345&#39;, &#39;ChamberOfCommerceNumber&#39;: &#39;12345&#39;, &#39;ExtractionDate&#39;: &#39;2021-11-03&#39;, &#39;type&#39;: &#39;KvkExtract&#39;, &#39;Scan&#39;: &#39;https://big-plato.com/vc/urn:uuid:7e8f96fc-3617-45e5-92a6-a7711c5a7225/evidence/1&#39;, &#39;DirectorName&#39;: &#39;Important&#39;, &#39;DirectorSurname&#39;: &#39;Director&#39;, &#39;RegisteredOfficeAddress&#39;: &#39;fake-registered-office-address&#39;}]\"], [32, \"path[{&lt;T.id: 1&gt;: &#39;00c23889-fc5b-f16a-2193-7d44ad1d44bc&#39;, &lt;T.label: 4&gt;: &#39;VC_ulyss&#39;, &#39;id&#39;: &#39;urn:uuid:7bdeb4ab-4409-4391-b262-8020f16e085a&#39;, &#39;IssueDate&#39;: &#39;2022-10-29&#39;, &#39;PlaceOfWork&#39;: &#39;Work Place&#39;, &#39;GrossSalary&#39;: 3200, &#39;Email&#39;: &#39;backend+test-CandidateWithContractAgreement@project-plato.com&#39;, &#39;OfferedPosition&#39;: &#39;Sales Manager&#39;, &#39;KvkExtract&#39;: &#39;urn:uuid:7e8f96fc-3617-45e5-92a6-a7711c5a7225&#39;, &#39;WorkWeekHours&#39;: 80, &#39;type&#39;: &#39;JobOffer&#39;, &#39;JobDescription&#39;: &#39;Do work&#39;, &#39;Name&#39;: &#39;CandidateWithContractAgreement&#39;, &#39;ResponseDate&#39;: &#39;2022-10-29&#39;, &#39;Surname&#39;: &#39;Clark&#39;, &#39;DirectorPassport&#39;: &#39;urn:uuid:00521aef-cbb0-40be-8e60-a56d2935f348&#39;, &#39;PeriodOfWorkMonths&#39;: 12, &#39;TrialPeriodMonths&#39;: 1}, {&lt;T.id: 1&gt;: &#39;66c23889-ff98-627f-1d29-81fe6c58e214&#39;, &lt;T.label: 4&gt;: &#39;e&#39;, &lt;Direction.IN: 2&gt;: {&lt;T.id: 1&gt;: &#39;fec23889-f79d-64ea-9e82-aee7a4cd7666&#39;, &lt;T.label: 4&gt;: &#39;VC_ulyss&#39;}, &lt;Direction.OUT: 3&gt;: {&lt;T.id: 1&gt;: &#39;00c23889-fc5b-f16a-2193-7d44ad1d44bc&#39;, &lt;T.label: 4&gt;: &#39;VC_ulyss&#39;}}, {&lt;T.id: 1&gt;: &#39;fec23889-f79d-64ea-9e82-aee7a4cd7666&#39;, &lt;T.label: 4&gt;: &#39;VC_ulyss&#39;, &#39;id&#39;: &#39;urn:uuid:00521aef-cbb0-40be-8e60-a56d2935f348&#39;, &#39;IssueDate&#39;: &#39;2012-11-03&#39;, &#39;DocumentNumber&#39;: &#39;9999&#39;, &#39;BirthPlace&#39;: &#39;some place&#39;, &#39;Height&#39;: &#39;5 m&#39;, &#39;Sex&#39;: &#39;fake-sex&#39;, &#39;type&#39;: &#39;Passport&#39;, &#39;Surname&#39;: &#39;Director&#39;, &#39;Authority&#39;: &#39;God&#39;, &#39;BirthDate&#39;: &#39;1972-11-03&#39;, &#39;ExpireDate&#39;: &#39;2032-11-03&#39;, &#39;GivenNames&#39;: &#39;fake-given-names&#39;, &#39;Nationality&#39;: &#39;test nationality&#39;, &#39;Scan&#39;: &#39;https://big-plato.com/vc/urn:uuid:00521aef-cbb0-40be-8e60-a56d2935f348/evidence/1&#39;}]\"], [33, \"path[{&lt;T.id: 1&gt;: &#39;9ac23889-f606-1351-d45b-fc908e447253&#39;, &lt;T.label: 4&gt;: &#39;VC_ulyss&#39;, &#39;id&#39;: &#39;urn:uuid:fbfb6b58-da20-46f0-b119-8c34b5a40537&#39;, &#39;Position&#39;: &#39;major-league&#39;, &#39;PlaceOfWork&#39;: &#39;proximity&#39;, &#39;To&#39;: &#39;2098-08-23&#39;, &#39;MonthlyGrossSalary&#39;: 22070, &#39;From&#39;: &#39;2057-09-16&#39;, &#39;ReasonOfAmendments&#39;: &#39;otter&#39;, &#39;type&#39;: &#39;CompanyAddendum&#39;, &#39;AgreeAsFollows&#39;: &#39;plover&#39;, &#39;EmploymentAgreement&#39;: &#39;urn:uuid:3d5ae9c8-06e6-452a-935b-e86d42e20bfc&#39;, &#39;WorkingHoursPerWeek&#39;: 43653}, {&lt;T.id: 1&gt;: &#39;0ac23889-fc94-d0b3-357c-d7697edc09cc&#39;, &lt;T.label: 4&gt;: &#39;e&#39;, &lt;Direction.IN: 2&gt;: {&lt;T.id: 1&gt;: &#39;fcc23889-f6f2-89ab-76e7-45edd0cfceb6&#39;, &lt;T.label: 4&gt;: &#39;VC_ulyss&#39;}, &lt;Direction.OUT: 3&gt;: {&lt;T.id: 1&gt;: &#39;9ac23889-f606-1351-d45b-fc908e447253&#39;, &lt;T.label: 4&gt;: &#39;VC_ulyss&#39;}}, {&lt;T.id: 1&gt;: &#39;fcc23889-f6f2-89ab-76e7-45edd0cfceb6&#39;, &lt;T.label: 4&gt;: &#39;VC_ulyss&#39;, &#39;id&#39;: &#39;urn:uuid:3d5ae9c8-06e6-452a-935b-e86d42e20bfc&#39;, &#39;CandidateAgreement&#39;: &#39;urn:uuid:ec0fe111-4ac8-4883-b40d-dbc29ad03abe&#39;, &#39;type&#39;: &#39;EmploymentAgreement&#39;}]\"], [34, \"path[{&lt;T.id: 1&gt;: &#39;bcc23889-f7e3-aec4-d05a-a87d82670036&#39;, &lt;T.label: 4&gt;: &#39;VC_ulyss&#39;, &#39;id&#39;: &#39;urn:uuid:d46088bc-20f9-467e-9f0f-8da8ab992e8b&#39;, &#39;IssueDate&#39;: &#39;2023-12-12&#39;, &#39;EndDate&#39;: &#39;2023-12-12&#39;, &#39;ContinuedObligations&#39;: &#39;lorem ipsum&#39;, &#39;ReturnCompanyPropertyDate&#39;: &#39;2023-12-12&#39;, &#39;type&#39;: &#39;ResignationConfirmation&#39;, &#39;LastWorkingDay&#39;: &#39;2023-12-12&#39;, &#39;ResignationNotice&#39;: &#39;urn:uuid:99935ca1-f3ce-4e15-b8cb-76034ebc6a01&#39;}, {&lt;T.id: 1&gt;: &#39;66c23889-fd6c-0b58-c608-50ef1c6d7ce4&#39;, &lt;T.label: 4&gt;: &#39;e&#39;, &lt;Direction.IN: 2&gt;: {&lt;T.id: 1&gt;: &#39;24c23889-f818-1f81-949d-9d09239360f6&#39;, &lt;T.label: 4&gt;: &#39;VC_ulyss&#39;}, &lt;Direction.OUT: 3&gt;: {&lt;T.id: 1&gt;: &#39;bcc23889-f7e3-aec4-d05a-a87d82670036&#39;, &lt;T.label: 4&gt;: &#39;VC_ulyss&#39;}}, {&lt;T.id: 1&gt;: &#39;24c23889-f818-1f81-949d-9d09239360f6&#39;, &lt;T.label: 4&gt;: &#39;VC_ulyss&#39;, &#39;id&#39;: &#39;urn:uuid:99935ca1-f3ce-4e15-b8cb-76034ebc6a01&#39;, &#39;IssueDate&#39;: &#39;2023-12-12&#39;, &#39;ResignationDate&#39;: &#39;2023-12-12&#39;, &#39;type&#39;: &#39;ResignationNotice&#39;, &#39;EmploymentAgreement&#39;: &#39;urn:uuid:d9f3b02b-a4bf-473e-892e-a08c179efb6d&#39;}]\"], [35, \"path[{&lt;T.id: 1&gt;: &#39;24c23889-f818-1f81-949d-9d09239360f6&#39;, &lt;T.label: 4&gt;: &#39;VC_ulyss&#39;, &#39;id&#39;: &#39;urn:uuid:99935ca1-f3ce-4e15-b8cb-76034ebc6a01&#39;, &#39;IssueDate&#39;: &#39;2023-12-12&#39;, &#39;ResignationDate&#39;: &#39;2023-12-12&#39;, &#39;type&#39;: &#39;ResignationNotice&#39;, &#39;EmploymentAgreement&#39;: &#39;urn:uuid:d9f3b02b-a4bf-473e-892e-a08c179efb6d&#39;}, {&lt;T.id: 1&gt;: &#39;94c23889-fd78-d1a6-b492-7c199ad3c13f&#39;, &lt;T.label: 4&gt;: &#39;e&#39;, &lt;Direction.IN: 2&gt;: {&lt;T.id: 1&gt;: &#39;aac23889-f7db-e2d9-3914-cb97ab6e14cf&#39;, &lt;T.label: 4&gt;: &#39;VC_ulyss&#39;}, &lt;Direction.OUT: 3&gt;: {&lt;T.id: 1&gt;: &#39;24c23889-f818-1f81-949d-9d09239360f6&#39;, &lt;T.label: 4&gt;: &#39;VC_ulyss&#39;}}, {&lt;T.id: 1&gt;: &#39;aac23889-f7db-e2d9-3914-cb97ab6e14cf&#39;, &lt;T.label: 4&gt;: &#39;VC_ulyss&#39;, &#39;id&#39;: &#39;urn:uuid:d9f3b02b-a4bf-473e-892e-a08c179efb6d&#39;, &#39;CandidateAgreement&#39;: &#39;urn:uuid:23a6f011-26fc-409e-8aab-57e53c999382&#39;, &#39;type&#39;: &#39;EmploymentAgreement&#39;}]\"], [36, \"path[{&lt;T.id: 1&gt;: &#39;aec23889-f9b3-feb8-26bd-e243714e7807&#39;, &lt;T.label: 4&gt;: &#39;VC_ulyss&#39;, &#39;id&#39;: &#39;urn:uuid:4a674e00-080d-41b1-bd4f-af3305f7c579&#39;, &#39;IssueDate&#39;: &#39;2022-06-06&#39;, &#39;PlaceOfWork&#39;: &#39;Work Place&#39;, &#39;GrossSalary&#39;: 2800, &#39;Email&#39;: &#39;backend+test-EmployeeWithAddendumDraft@project-plato.com&#39;, &#39;OfferedPosition&#39;: &#39;Support Engineer&#39;, &#39;KvkExtract&#39;: &#39;urn:uuid:7e8f96fc-3617-45e5-92a6-a7711c5a7225&#39;, &#39;WorkWeekHours&#39;: 80, &#39;type&#39;: &#39;JobOffer&#39;, &#39;JobDescription&#39;: &#39;Do work&#39;, &#39;Name&#39;: &#39;EmployeeWithAddendumDraft&#39;, &#39;ResponseDate&#39;: &#39;2022-06-06&#39;, &#39;Surname&#39;: &#39;Hernandez&#39;, &#39;DirectorPassport&#39;: &#39;urn:uuid:00521aef-cbb0-40be-8e60-a56d2935f348&#39;, &#39;PeriodOfWorkMonths&#39;: 12, &#39;TrialPeriodMonths&#39;: 1}, {&lt;T.id: 1&gt;: &#39;f0c23889-fe34-5ded-8ebe-d79358b53f8a&#39;, &lt;T.label: 4&gt;: &#39;e&#39;, &lt;Direction.IN: 2&gt;: {&lt;T.id: 1&gt;: &#39;8ec23889-f6bf-11b7-4afe-3ec076d7af00&#39;, &lt;T.label: 4&gt;: &#39;VC_ulyss&#39;}, &lt;Direction.OUT: 3&gt;: {&lt;T.id: 1&gt;: &#39;aec23889-f9b3-feb8-26bd-e243714e7807&#39;, &lt;T.label: 4&gt;: &#39;VC_ulyss&#39;}}, {&lt;T.id: 1&gt;: &#39;8ec23889-f6bf-11b7-4afe-3ec076d7af00&#39;, &lt;T.label: 4&gt;: &#39;VC_ulyss&#39;, &#39;id&#39;: &#39;urn:uuid:7e8f96fc-3617-45e5-92a6-a7711c5a7225&#39;, &#39;CompanyName&#39;: &#39;Great Company&#39;, &#39;RSIN&#39;: &#39;12345&#39;, &#39;ChamberOfCommerceNumber&#39;: &#39;12345&#39;, &#39;ExtractionDate&#39;: &#39;2021-11-03&#39;, &#39;type&#39;: &#39;KvkExtract&#39;, &#39;Scan&#39;: &#39;https://big-plato.com/vc/urn:uuid:7e8f96fc-3617-45e5-92a6-a7711c5a7225/evidence/1&#39;, &#39;DirectorName&#39;: &#39;Important&#39;, &#39;DirectorSurname&#39;: &#39;Director&#39;, &#39;RegisteredOfficeAddress&#39;: &#39;fake-registered-office-address&#39;}]\"], [37, \"path[{&lt;T.id: 1&gt;: &#39;aec23889-f9b3-feb8-26bd-e243714e7807&#39;, &lt;T.label: 4&gt;: &#39;VC_ulyss&#39;, &#39;id&#39;: &#39;urn:uuid:4a674e00-080d-41b1-bd4f-af3305f7c579&#39;, &#39;IssueDate&#39;: &#39;2022-06-06&#39;, &#39;PlaceOfWork&#39;: &#39;Work Place&#39;, &#39;GrossSalary&#39;: 2800, &#39;Email&#39;: &#39;backend+test-EmployeeWithAddendumDraft@project-plato.com&#39;, &#39;OfferedPosition&#39;: &#39;Support Engineer&#39;, &#39;KvkExtract&#39;: &#39;urn:uuid:7e8f96fc-3617-45e5-92a6-a7711c5a7225&#39;, &#39;WorkWeekHours&#39;: 80, &#39;type&#39;: &#39;JobOffer&#39;, &#39;JobDescription&#39;: &#39;Do work&#39;, &#39;Name&#39;: &#39;EmployeeWithAddendumDraft&#39;, &#39;ResponseDate&#39;: &#39;2022-06-06&#39;, &#39;Surname&#39;: &#39;Hernandez&#39;, &#39;DirectorPassport&#39;: &#39;urn:uuid:00521aef-cbb0-40be-8e60-a56d2935f348&#39;, &#39;PeriodOfWorkMonths&#39;: 12, &#39;TrialPeriodMonths&#39;: 1}, {&lt;T.id: 1&gt;: &#39;52c23889-fe29-8808-f925-e135a422d089&#39;, &lt;T.label: 4&gt;: &#39;e&#39;, &lt;Direction.IN: 2&gt;: {&lt;T.id: 1&gt;: &#39;fec23889-f79d-64ea-9e82-aee7a4cd7666&#39;, &lt;T.label: 4&gt;: &#39;VC_ulyss&#39;}, &lt;Direction.OUT: 3&gt;: {&lt;T.id: 1&gt;: &#39;aec23889-f9b3-feb8-26bd-e243714e7807&#39;, &lt;T.label: 4&gt;: &#39;VC_ulyss&#39;}}, {&lt;T.id: 1&gt;: &#39;fec23889-f79d-64ea-9e82-aee7a4cd7666&#39;, &lt;T.label: 4&gt;: &#39;VC_ulyss&#39;, &#39;id&#39;: &#39;urn:uuid:00521aef-cbb0-40be-8e60-a56d2935f348&#39;, &#39;IssueDate&#39;: &#39;2012-11-03&#39;, &#39;DocumentNumber&#39;: &#39;9999&#39;, &#39;BirthPlace&#39;: &#39;some place&#39;, &#39;Height&#39;: &#39;5 m&#39;, &#39;Sex&#39;: &#39;fake-sex&#39;, &#39;type&#39;: &#39;Passport&#39;, &#39;Surname&#39;: &#39;Director&#39;, &#39;Authority&#39;: &#39;God&#39;, &#39;BirthDate&#39;: &#39;1972-11-03&#39;, &#39;ExpireDate&#39;: &#39;2032-11-03&#39;, &#39;GivenNames&#39;: &#39;fake-given-names&#39;, &#39;Nationality&#39;: &#39;test nationality&#39;, &#39;Scan&#39;: &#39;https://big-plato.com/vc/urn:uuid:00521aef-cbb0-40be-8e60-a56d2935f348/evidence/1&#39;}]\"], [38, \"path[{&lt;T.id: 1&gt;: &#39;10c23889-f9dd-913b-c5db-15191dc17f9f&#39;, &lt;T.label: 4&gt;: &#39;VC_ulyss&#39;, &#39;id&#39;: &#39;urn:uuid:1c48d7a4-56b3-4350-bff8-6a1970bb5bd7&#39;, &#39;StartDate&#39;: &#39;2022-06-16&#39;, &#39;UtilityBill&#39;: &#39;urn:uuid:bab0b678-1d7c-40e5-a579-a76828fd8ccd&#39;, &#39;type&#39;: &#39;CandidateAgreement&#39;, &#39;JobOffer&#39;: &#39;urn:uuid:4a674e00-080d-41b1-bd4f-af3305f7c579&#39;, &#39;Passport&#39;: &#39;urn:uuid:fcd7285a-650c-493a-b705-a32c97edf679&#39;}, {&lt;T.id: 1&gt;: &#39;86c23889-fe47-aa69-138c-9cd4d225c5d6&#39;, &lt;T.label: 4&gt;: &#39;e&#39;, &lt;Direction.IN: 2&gt;: {&lt;T.id: 1&gt;: &#39;90c23889-f973-ae6d-d162-c9a346c51376&#39;, &lt;T.label: 4&gt;: &#39;VC_ulyss&#39;}, &lt;Direction.OUT: 3&gt;: {&lt;T.id: 1&gt;: &#39;10c23889-f9dd-913b-c5db-15191dc17f9f&#39;, &lt;T.label: 4&gt;: &#39;VC_ulyss&#39;}}, {&lt;T.id: 1&gt;: &#39;90c23889-f973-ae6d-d162-c9a346c51376&#39;, &lt;T.label: 4&gt;: &#39;VC_ulyss&#39;, &#39;id&#39;: &#39;urn:uuid:fcd7285a-650c-493a-b705-a32c97edf679&#39;, &#39;IssueDate&#39;: &#39;2017-11-03&#39;, &#39;DocumentNumber&#39;: &#39;9999&#39;, &#39;BirthPlace&#39;: &#39;place&#39;, &#39;Height&#39;: &#39;1m 76cm&#39;, &#39;Sex&#39;: &#39;sex&#39;, &#39;type&#39;: &#39;Passport&#39;, &#39;Surname&#39;: &#39;Hernandez&#39;, &#39;Authority&#39;: &#39;some authority&#39;, &#39;BirthDate&#39;: &#39;1997-11-03&#39;, &#39;ExpireDate&#39;: &#39;2032-11-03&#39;, &#39;GivenNames&#39;: &#39;EmployeeWithAddendumDraft&#39;, &#39;Nationality&#39;: &#39;nationality&#39;, &#39;Scan&#39;: &#39;https://big-plato.com/vc/urn:uuid:fcd7285a-650c-493a-b705-a32c97edf679/evidence/1&#39;}]\"], [39, \"path[{&lt;T.id: 1&gt;: &#39;10c23889-f9dd-913b-c5db-15191dc17f9f&#39;, &lt;T.label: 4&gt;: &#39;VC_ulyss&#39;, &#39;id&#39;: &#39;urn:uuid:1c48d7a4-56b3-4350-bff8-6a1970bb5bd7&#39;, &#39;StartDate&#39;: &#39;2022-06-16&#39;, &#39;UtilityBill&#39;: &#39;urn:uuid:bab0b678-1d7c-40e5-a579-a76828fd8ccd&#39;, &#39;type&#39;: &#39;CandidateAgreement&#39;, &#39;JobOffer&#39;: &#39;urn:uuid:4a674e00-080d-41b1-bd4f-af3305f7c579&#39;, &#39;Passport&#39;: &#39;urn:uuid:fcd7285a-650c-493a-b705-a32c97edf679&#39;}, {&lt;T.id: 1&gt;: &#39;1cc23889-fe3e-f722-ea7b-4450a120c51d&#39;, &lt;T.label: 4&gt;: &#39;e&#39;, &lt;Direction.IN: 2&gt;: {&lt;T.id: 1&gt;: &#39;aec23889-f9b3-feb8-26bd-e243714e7807&#39;, &lt;T.label: 4&gt;: &#39;VC_ulyss&#39;}, &lt;Direction.OUT: 3&gt;: {&lt;T.id: 1&gt;: &#39;10c23889-f9dd-913b-c5db-15191dc17f9f&#39;, &lt;T.label: 4&gt;: &#39;VC_ulyss&#39;}}, {&lt;T.id: 1&gt;: &#39;aec23889-f9b3-feb8-26bd-e243714e7807&#39;, &lt;T.label: 4&gt;: &#39;VC_ulyss&#39;, &#39;id&#39;: &#39;urn:uuid:4a674e00-080d-41b1-bd4f-af3305f7c579&#39;, &#39;IssueDate&#39;: &#39;2022-06-06&#39;, &#39;PlaceOfWork&#39;: &#39;Work Place&#39;, &#39;GrossSalary&#39;: 2800, &#39;Email&#39;: &#39;backend+test-EmployeeWithAddendumDraft@project-plato.com&#39;, &#39;OfferedPosition&#39;: &#39;Support Engineer&#39;, &#39;KvkExtract&#39;: &#39;urn:uuid:7e8f96fc-3617-45e5-92a6-a7711c5a7225&#39;, &#39;WorkWeekHours&#39;: 80, &#39;type&#39;: &#39;JobOffer&#39;, &#39;JobDescription&#39;: &#39;Do work&#39;, &#39;Name&#39;: &#39;EmployeeWithAddendumDraft&#39;, &#39;ResponseDate&#39;: &#39;2022-06-06&#39;, &#39;Surname&#39;: &#39;Hernandez&#39;, &#39;DirectorPassport&#39;: &#39;urn:uuid:00521aef-cbb0-40be-8e60-a56d2935f348&#39;, &#39;PeriodOfWorkMonths&#39;: 12, &#39;TrialPeriodMonths&#39;: 1}]\"], [40, \"path[{&lt;T.id: 1&gt;: &#39;10c23889-f9dd-913b-c5db-15191dc17f9f&#39;, &lt;T.label: 4&gt;: &#39;VC_ulyss&#39;, &#39;id&#39;: &#39;urn:uuid:1c48d7a4-56b3-4350-bff8-6a1970bb5bd7&#39;, &#39;StartDate&#39;: &#39;2022-06-16&#39;, &#39;UtilityBill&#39;: &#39;urn:uuid:bab0b678-1d7c-40e5-a579-a76828fd8ccd&#39;, &#39;type&#39;: &#39;CandidateAgreement&#39;, &#39;JobOffer&#39;: &#39;urn:uuid:4a674e00-080d-41b1-bd4f-af3305f7c579&#39;, &#39;Passport&#39;: &#39;urn:uuid:fcd7285a-650c-493a-b705-a32c97edf679&#39;}, {&lt;T.id: 1&gt;: &#39;36c23889-fe51-e538-971f-8022fd041b92&#39;, &lt;T.label: 4&gt;: &#39;e&#39;, &lt;Direction.IN: 2&gt;: {&lt;T.id: 1&gt;: &#39;a0c23889-f99a-ac30-fa65-b262b3a2308f&#39;, &lt;T.label: 4&gt;: &#39;VC_ulyss&#39;}, &lt;Direction.OUT: 3&gt;: {&lt;T.id: 1&gt;: &#39;10c23889-f9dd-913b-c5db-15191dc17f9f&#39;, &lt;T.label: 4&gt;: &#39;VC_ulyss&#39;}}, {&lt;T.id: 1&gt;: &#39;a0c23889-f99a-ac30-fa65-b262b3a2308f&#39;, &lt;T.label: 4&gt;: &#39;VC_ulyss&#39;, &#39;id&#39;: &#39;urn:uuid:bab0b678-1d7c-40e5-a579-a76828fd8ccd&#39;, &#39;ResidentialAddress&#39;: &#39;res addr&#39;, &#39;type&#39;: &#39;UtilityBill&#39;, &#39;Name&#39;: &#39;EmployeeWithAddendumDraft&#39;, &#39;Surname&#39;: &#39;Hernandez&#39;, &#39;Scan&#39;: &#39;https://big-plato.com/vc/urn:uuid:bab0b678-1d7c-40e5-a579-a76828fd8ccd/evidence/1&#39;}]\"], [41, \"path[{&lt;T.id: 1&gt;: &#39;3ac23889-fa10-ccd0-3f49-8be75cfb4046&#39;, &lt;T.label: 4&gt;: &#39;VC_ulyss&#39;, &#39;id&#39;: &#39;urn:uuid:d20348a2-7740-4ea1-98f4-59fe90396a27&#39;, &#39;CandidateAgreement&#39;: &#39;urn:uuid:a2dfc13b-e885-4b66-b755-b23c3d1095fb&#39;, &#39;type&#39;: &#39;EmploymentAgreement&#39;}, {&lt;T.id: 1&gt;: &#39;9ec23889-fe5d-4a03-d831-f809a8e50afa&#39;, &lt;T.label: 4&gt;: &#39;e&#39;, &lt;Direction.IN: 2&gt;: {&lt;T.id: 1&gt;: &#39;8ec23889-fa18-cf80-cfe6-9282b14bb476&#39;, &lt;T.label: 4&gt;: &#39;VC_ulyss&#39;}, &lt;Direction.OUT: 3&gt;: {&lt;T.id: 1&gt;: &#39;3ac23889-fa10-ccd0-3f49-8be75cfb4046&#39;, &lt;T.label: 4&gt;: &#39;VC_ulyss&#39;}}, {&lt;T.id: 1&gt;: &#39;8ec23889-fa18-cf80-cfe6-9282b14bb476&#39;, &lt;T.label: 4&gt;: &#39;VC_ulyss&#39;, &#39;id&#39;: &#39;urn:uuid:a2dfc13b-e885-4b66-b755-b23c3d1095fb&#39;, &#39;StartDate&#39;: &#39;2022-01-17&#39;, &#39;UtilityBill&#39;: &#39;urn:uuid:30fe9b21-6caf-4739-99a7-2cd8d304f15e&#39;, &#39;type&#39;: &#39;CandidateAgreement&#39;, &#39;JobOffer&#39;: &#39;urn:uuid:22343abc-ca87-4a3f-b5dd-f6bb92c24076&#39;, &#39;Passport&#39;: &#39;urn:uuid:edbf4364-4c1c-4741-9f1c-b0db92ea2b99&#39;}]\"], [42, \"path[{&lt;T.id: 1&gt;: &#39;fac23889-fa35-be75-ded9-a89d57213ae8&#39;, &lt;T.label: 4&gt;: &#39;VC_ulyss&#39;, &#39;id&#39;: &#39;urn:uuid:862bb334-a49c-45d9-be75-87e0d97b8e8e&#39;, &#39;Position&#39;: &#39;CFO&#39;, &#39;MonthlyGrossSalary&#39;: 3500, &#39;AddendumToEmploymentAgreement&#39;: &#39;urn:uuid:12420ab7-8cd5-4557-be3b-d11d1e4d0cf9&#39;, &#39;From&#39;: &#39;2022-10-04&#39;, &#39;type&#39;: &#39;CompanyAddendum&#39;, &#39;AgreeAsFollows&#39;: &#39;some agreement CFO&#39;, &#39;EmploymentAgreement&#39;: &#39;urn:uuid:d20348a2-7740-4ea1-98f4-59fe90396a27&#39;}, {&lt;T.id: 1&gt;: &#39;ccc23889-fe8d-80a9-f451-1be170790106&#39;, &lt;T.label: 4&gt;: &#39;e&#39;, &lt;Direction.IN: 2&gt;: {&lt;T.id: 1&gt;: &#39;04c23889-fab6-8d51-6668-2ae770602511&#39;, &lt;T.label: 4&gt;: &#39;VC_ulyss&#39;}, &lt;Direction.OUT: 3&gt;: {&lt;T.id: 1&gt;: &#39;fac23889-fa35-be75-ded9-a89d57213ae8&#39;, &lt;T.label: 4&gt;: &#39;VC_ulyss&#39;}}, {&lt;T.id: 1&gt;: &#39;04c23889-fab6-8d51-6668-2ae770602511&#39;, &lt;T.label: 4&gt;: &#39;VC_ulyss&#39;, &#39;id&#39;: &#39;urn:uuid:12420ab7-8cd5-4557-be3b-d11d1e4d0cf9&#39;, &#39;CompanyAddendum&#39;: &#39;urn:uuid:47661103-33bb-4fdb-8fc6-5acaec17a005&#39;, &#39;type&#39;: &#39;EmploymentAddendum&#39;}]\"], [43, \"path[{&lt;T.id: 1&gt;: &#39;fac23889-fa35-be75-ded9-a89d57213ae8&#39;, &lt;T.label: 4&gt;: &#39;VC_ulyss&#39;, &#39;id&#39;: &#39;urn:uuid:862bb334-a49c-45d9-be75-87e0d97b8e8e&#39;, &#39;Position&#39;: &#39;CFO&#39;, &#39;MonthlyGrossSalary&#39;: 3500, &#39;AddendumToEmploymentAgreement&#39;: &#39;urn:uuid:12420ab7-8cd5-4557-be3b-d11d1e4d0cf9&#39;, &#39;From&#39;: &#39;2022-10-04&#39;, &#39;type&#39;: &#39;CompanyAddendum&#39;, &#39;AgreeAsFollows&#39;: &#39;some agreement CFO&#39;, &#39;EmploymentAgreement&#39;: &#39;urn:uuid:d20348a2-7740-4ea1-98f4-59fe90396a27&#39;}, {&lt;T.id: 1&gt;: &#39;cac23889-fe96-2a87-193a-7d22536c95fe&#39;, &lt;T.label: 4&gt;: &#39;e&#39;, &lt;Direction.IN: 2&gt;: {&lt;T.id: 1&gt;: &#39;3ac23889-fa10-ccd0-3f49-8be75cfb4046&#39;, &lt;T.label: 4&gt;: &#39;VC_ulyss&#39;}, &lt;Direction.OUT: 3&gt;: {&lt;T.id: 1&gt;: &#39;fac23889-fa35-be75-ded9-a89d57213ae8&#39;, &lt;T.label: 4&gt;: &#39;VC_ulyss&#39;}}, {&lt;T.id: 1&gt;: &#39;3ac23889-fa10-ccd0-3f49-8be75cfb4046&#39;, &lt;T.label: 4&gt;: &#39;VC_ulyss&#39;, &#39;id&#39;: &#39;urn:uuid:d20348a2-7740-4ea1-98f4-59fe90396a27&#39;, &#39;CandidateAgreement&#39;: &#39;urn:uuid:a2dfc13b-e885-4b66-b755-b23c3d1095fb&#39;, &#39;type&#39;: &#39;EmploymentAgreement&#39;}]\"], [44, \"path[{&lt;T.id: 1&gt;: &#39;c8c23889-fa4e-e318-1664-a46a89dc8ab9&#39;, &lt;T.label: 4&gt;: &#39;VC_ulyss&#39;, &#39;id&#39;: &#39;urn:uuid:5ea39fca-344e-4a9f-bb43-9d2e4d255264&#39;, &#39;Position&#39;: &#39;Associate finance manager&#39;, &#39;To&#39;: &#39;2022-06-06&#39;, &#39;MonthlyGrossSalary&#39;: 1100, &#39;From&#39;: &#39;2021-11-28&#39;, &#39;type&#39;: &#39;CompanyAddendum&#39;, &#39;AgreeAsFollows&#39;: &#39;some agreement&#39;, &#39;EmploymentAgreement&#39;: &#39;urn:uuid:d20348a2-7740-4ea1-98f4-59fe90396a27&#39;}, {&lt;T.id: 1&gt;: &#39;02c23889-fe9f-ebd8-4749-b72452a29142&#39;, &lt;T.label: 4&gt;: &#39;e&#39;, &lt;Direction.IN: 2&gt;: {&lt;T.id: 1&gt;: &#39;3ac23889-fa10-ccd0-3f49-8be75cfb4046&#39;, &lt;T.label: 4&gt;: &#39;VC_ulyss&#39;}, &lt;Direction.OUT: 3&gt;: {&lt;T.id: 1&gt;: &#39;c8c23889-fa4e-e318-1664-a46a89dc8ab9&#39;, &lt;T.label: 4&gt;: &#39;VC_ulyss&#39;}}, {&lt;T.id: 1&gt;: &#39;3ac23889-fa10-ccd0-3f49-8be75cfb4046&#39;, &lt;T.label: 4&gt;: &#39;VC_ulyss&#39;, &#39;id&#39;: &#39;urn:uuid:d20348a2-7740-4ea1-98f4-59fe90396a27&#39;, &#39;CandidateAgreement&#39;: &#39;urn:uuid:a2dfc13b-e885-4b66-b755-b23c3d1095fb&#39;, &#39;type&#39;: &#39;EmploymentAgreement&#39;}]\"], [45, \"path[{&lt;T.id: 1&gt;: &#39;e4c23889-fa63-a61e-da57-6976d9fb4ad9&#39;, &lt;T.label: 4&gt;: &#39;VC_ulyss&#39;, &#39;id&#39;: &#39;urn:uuid:47661103-33bb-4fdb-8fc6-5acaec17a005&#39;, &#39;Position&#39;: &#39;Senior finance manager&#39;, &#39;MonthlyGrossSalary&#39;: 2000, &#39;AddendumToEmploymentAgreement&#39;: &#39;urn:uuid:27df455b-56ca-4a73-abba-16a6d61ccd38&#39;, &#39;From&#39;: &#39;2022-08-05&#39;, &#39;type&#39;: &#39;CompanyAddendum&#39;, &#39;AgreeAsFollows&#39;: &#39;some agreement Senior finance manager&#39;, &#39;EmploymentAgreement&#39;: &#39;urn:uuid:d20348a2-7740-4ea1-98f4-59fe90396a27&#39;}, {&lt;T.id: 1&gt;: &#39;94c23889-feb1-868a-76f0-4f15b660f2f8&#39;, &lt;T.label: 4&gt;: &#39;e&#39;, &lt;Direction.IN: 2&gt;: {&lt;T.id: 1&gt;: &#39;3ac23889-fa10-ccd0-3f49-8be75cfb4046&#39;, &lt;T.label: 4&gt;: &#39;VC_ulyss&#39;}, &lt;Direction.OUT: 3&gt;: {&lt;T.id: 1&gt;: &#39;e4c23889-fa63-a61e-da57-6976d9fb4ad9&#39;, &lt;T.label: 4&gt;: &#39;VC_ulyss&#39;}}, {&lt;T.id: 1&gt;: &#39;3ac23889-fa10-ccd0-3f49-8be75cfb4046&#39;, &lt;T.label: 4&gt;: &#39;VC_ulyss&#39;, &#39;id&#39;: &#39;urn:uuid:d20348a2-7740-4ea1-98f4-59fe90396a27&#39;, &#39;CandidateAgreement&#39;: &#39;urn:uuid:a2dfc13b-e885-4b66-b755-b23c3d1095fb&#39;, &#39;type&#39;: &#39;EmploymentAgreement&#39;}]\"], [46, \"path[{&lt;T.id: 1&gt;: &#39;e4c23889-fa63-a61e-da57-6976d9fb4ad9&#39;, &lt;T.label: 4&gt;: &#39;VC_ulyss&#39;, &#39;id&#39;: &#39;urn:uuid:47661103-33bb-4fdb-8fc6-5acaec17a005&#39;, &#39;Position&#39;: &#39;Senior finance manager&#39;, &#39;MonthlyGrossSalary&#39;: 2000, &#39;AddendumToEmploymentAgreement&#39;: &#39;urn:uuid:27df455b-56ca-4a73-abba-16a6d61ccd38&#39;, &#39;From&#39;: &#39;2022-08-05&#39;, &#39;type&#39;: &#39;CompanyAddendum&#39;, &#39;AgreeAsFollows&#39;: &#39;some agreement Senior finance manager&#39;, &#39;EmploymentAgreement&#39;: &#39;urn:uuid:d20348a2-7740-4ea1-98f4-59fe90396a27&#39;}, {&lt;T.id: 1&gt;: &#39;82c23889-fea9-5e3c-7def-54eb911fc494&#39;, &lt;T.label: 4&gt;: &#39;e&#39;, &lt;Direction.IN: 2&gt;: {&lt;T.id: 1&gt;: &#39;c6c23889-fa87-39db-cf78-c18e517fc10e&#39;, &lt;T.label: 4&gt;: &#39;VC_ulyss&#39;}, &lt;Direction.OUT: 3&gt;: {&lt;T.id: 1&gt;: &#39;e4c23889-fa63-a61e-da57-6976d9fb4ad9&#39;, &lt;T.label: 4&gt;: &#39;VC_ulyss&#39;}}, {&lt;T.id: 1&gt;: &#39;c6c23889-fa87-39db-cf78-c18e517fc10e&#39;, &lt;T.label: 4&gt;: &#39;VC_ulyss&#39;, &#39;id&#39;: &#39;urn:uuid:27df455b-56ca-4a73-abba-16a6d61ccd38&#39;, &#39;CompanyAddendum&#39;: &#39;urn:uuid:5ea39fca-344e-4a9f-bb43-9d2e4d255264&#39;, &#39;type&#39;: &#39;EmploymentAddendum&#39;}]\"], [47, \"path[{&lt;T.id: 1&gt;: &#39;60c23889-fabe-b365-72c0-6f466bb593f0&#39;, &lt;T.label: 4&gt;: &#39;VC_ulyss&#39;, &#39;id&#39;: &#39;urn:uuid:62297119-b49a-47e3-afcf-26d73b5bbfc7&#39;, &#39;IssueDate&#39;: &#39;2022-10-18&#39;, &#39;PlaceOfWork&#39;: &#39;Lakewood&#39;, &#39;GrossSalary&#39;: 1509, &#39;Email&#39;: &#39;qa-hr+flippant-harbor-2@project-plato.com&#39;, &#39;OfferedPosition&#39;: &#39;annual engineer&#39;, &#39;KvkExtract&#39;: &#39;urn:uuid:7e8f96fc-3617-45e5-92a6-a7711c5a7225&#39;, &#39;WorkWeekHours&#39;: 48, &#39;type&#39;: &#39;JobOffer&#39;, &#39;JobDescription&#39;: &#39;synergize back-end channels&#39;, &#39;Name&#39;: &#39;Wilhelmine&#39;, &#39;ResponseDate&#39;: &#39;2022-11-22&#39;, &#39;Surname&#39;: &#39;Treutel&#39;, &#39;DirectorPassport&#39;: &#39;urn:uuid:00521aef-cbb0-40be-8e60-a56d2935f348&#39;, &#39;PeriodOfWorkMonths&#39;: 57, &#39;TrialPeriodMonths&#39;: 102}, {&lt;T.id: 1&gt;: &#39;7ec23889-feec-bfe1-ec31-65e0199b2e37&#39;, &lt;T.label: 4&gt;: &#39;e&#39;, &lt;Direction.IN: 2&gt;: {&lt;T.id: 1&gt;: &#39;8ec23889-f6bf-11b7-4afe-3ec076d7af00&#39;, &lt;T.label: 4&gt;: &#39;VC_ulyss&#39;}, &lt;Direction.OUT: 3&gt;: {&lt;T.id: 1&gt;: &#39;60c23889-fabe-b365-72c0-6f466bb593f0&#39;, &lt;T.label: 4&gt;: &#39;VC_ulyss&#39;}}, {&lt;T.id: 1&gt;: &#39;8ec23889-f6bf-11b7-4afe-3ec076d7af00&#39;, &lt;T.label: 4&gt;: &#39;VC_ulyss&#39;, &#39;id&#39;: &#39;urn:uuid:7e8f96fc-3617-45e5-92a6-a7711c5a7225&#39;, &#39;CompanyName&#39;: &#39;Great Company&#39;, &#39;RSIN&#39;: &#39;12345&#39;, &#39;ChamberOfCommerceNumber&#39;: &#39;12345&#39;, &#39;ExtractionDate&#39;: &#39;2021-11-03&#39;, &#39;type&#39;: &#39;KvkExtract&#39;, &#39;Scan&#39;: &#39;https://big-plato.com/vc/urn:uuid:7e8f96fc-3617-45e5-92a6-a7711c5a7225/evidence/1&#39;, &#39;DirectorName&#39;: &#39;Important&#39;, &#39;DirectorSurname&#39;: &#39;Director&#39;, &#39;RegisteredOfficeAddress&#39;: &#39;fake-registered-office-address&#39;}]\"], [48, \"path[{&lt;T.id: 1&gt;: &#39;60c23889-fabe-b365-72c0-6f466bb593f0&#39;, &lt;T.label: 4&gt;: &#39;VC_ulyss&#39;, &#39;id&#39;: &#39;urn:uuid:62297119-b49a-47e3-afcf-26d73b5bbfc7&#39;, &#39;IssueDate&#39;: &#39;2022-10-18&#39;, &#39;PlaceOfWork&#39;: &#39;Lakewood&#39;, &#39;GrossSalary&#39;: 1509, &#39;Email&#39;: &#39;qa-hr+flippant-harbor-2@project-plato.com&#39;, &#39;OfferedPosition&#39;: &#39;annual engineer&#39;, &#39;KvkExtract&#39;: &#39;urn:uuid:7e8f96fc-3617-45e5-92a6-a7711c5a7225&#39;, &#39;WorkWeekHours&#39;: 48, &#39;type&#39;: &#39;JobOffer&#39;, &#39;JobDescription&#39;: &#39;synergize back-end channels&#39;, &#39;Name&#39;: &#39;Wilhelmine&#39;, &#39;ResponseDate&#39;: &#39;2022-11-22&#39;, &#39;Surname&#39;: &#39;Treutel&#39;, &#39;DirectorPassport&#39;: &#39;urn:uuid:00521aef-cbb0-40be-8e60-a56d2935f348&#39;, &#39;PeriodOfWorkMonths&#39;: 57, &#39;TrialPeriodMonths&#39;: 102}, {&lt;T.id: 1&gt;: &#39;5cc23889-fee4-aa75-ef65-a62a4a3e1123&#39;, &lt;T.label: 4&gt;: &#39;e&#39;, &lt;Direction.IN: 2&gt;: {&lt;T.id: 1&gt;: &#39;fec23889-f79d-64ea-9e82-aee7a4cd7666&#39;, &lt;T.label: 4&gt;: &#39;VC_ulyss&#39;}, &lt;Direction.OUT: 3&gt;: {&lt;T.id: 1&gt;: &#39;60c23889-fabe-b365-72c0-6f466bb593f0&#39;, &lt;T.label: 4&gt;: &#39;VC_ulyss&#39;}}, {&lt;T.id: 1&gt;: &#39;fec23889-f79d-64ea-9e82-aee7a4cd7666&#39;, &lt;T.label: 4&gt;: &#39;VC_ulyss&#39;, &#39;id&#39;: &#39;urn:uuid:00521aef-cbb0-40be-8e60-a56d2935f348&#39;, &#39;IssueDate&#39;: &#39;2012-11-03&#39;, &#39;DocumentNumber&#39;: &#39;9999&#39;, &#39;BirthPlace&#39;: &#39;some place&#39;, &#39;Height&#39;: &#39;5 m&#39;, &#39;Sex&#39;: &#39;fake-sex&#39;, &#39;type&#39;: &#39;Passport&#39;, &#39;Surname&#39;: &#39;Director&#39;, &#39;Authority&#39;: &#39;God&#39;, &#39;BirthDate&#39;: &#39;1972-11-03&#39;, &#39;ExpireDate&#39;: &#39;2032-11-03&#39;, &#39;GivenNames&#39;: &#39;fake-given-names&#39;, &#39;Nationality&#39;: &#39;test nationality&#39;, &#39;Scan&#39;: &#39;https://big-plato.com/vc/urn:uuid:00521aef-cbb0-40be-8e60-a56d2935f348/evidence/1&#39;}]\"], [49, \"path[{&lt;T.id: 1&gt;: &#39;16c23889-f654-9895-a6f2-9aa31132c1e8&#39;, &lt;T.label: 4&gt;: &#39;VC_ulyss&#39;, &#39;id&#39;: &#39;urn:uuid:ec0fe111-4ac8-4883-b40d-dbc29ad03abe&#39;, &#39;StartDate&#39;: &#39;2022-10-14&#39;, &#39;UtilityBill&#39;: &#39;urn:uuid:b70b0e63-636d-41f5-808f-522aa4382dd5&#39;, &#39;type&#39;: &#39;CandidateAgreement&#39;, &#39;JobOffer&#39;: &#39;urn:uuid:1e42b32b-cd69-4821-953a-3efc9308c3c3&#39;, &#39;Passport&#39;: &#39;urn:uuid:0e5d5e59-8673-4c4b-8bb0-0c409e77fdbd&#39;}, {&lt;T.id: 1&gt;: &#39;88c23889-fca2-c12a-f168-09a636817223&#39;, &lt;T.label: 4&gt;: &#39;e&#39;, &lt;Direction.IN: 2&gt;: {&lt;T.id: 1&gt;: &#39;00c23889-f720-741e-90f2-e1482b7f62a5&#39;, &lt;T.label: 4&gt;: &#39;VC_ulyss&#39;}, &lt;Direction.OUT: 3&gt;: {&lt;T.id: 1&gt;: &#39;16c23889-f654-9895-a6f2-9aa31132c1e8&#39;, &lt;T.label: 4&gt;: &#39;VC_ulyss&#39;}}, {&lt;T.id: 1&gt;: &#39;00c23889-f720-741e-90f2-e1482b7f62a5&#39;, &lt;T.label: 4&gt;: &#39;VC_ulyss&#39;, &#39;id&#39;: &#39;urn:uuid:1e42b32b-cd69-4821-953a-3efc9308c3c3&#39;, &#39;IssueDate&#39;: &#39;2022-10-04&#39;, &#39;PlaceOfWork&#39;: &#39;Work Place&#39;, &#39;GrossSalary&#39;: 3500, &#39;Email&#39;: &#39;backend+test-EmployeeAgain@project-plato.com&#39;, &#39;OfferedPosition&#39;: &#39;Product Owner&#39;, &#39;KvkExtract&#39;: &#39;urn:uuid:7e8f96fc-3617-45e5-92a6-a7711c5a7225&#39;, &#39;WorkWeekHours&#39;: 80, &#39;type&#39;: &#39;JobOffer&#39;, &#39;JobDescription&#39;: &#39;Do work&#39;, &#39;Name&#39;: &#39;EmployeeAgain&#39;, &#39;ResponseDate&#39;: &#39;2022-10-04&#39;, &#39;Surname&#39;: &#39;Larson&#39;, &#39;DirectorPassport&#39;: &#39;urn:uuid:00521aef-cbb0-40be-8e60-a56d2935f348&#39;, &#39;PeriodOfWorkMonths&#39;: 12, &#39;TrialPeriodMonths&#39;: 1}]\"], [50, \"path[{&lt;T.id: 1&gt;: &#39;16c23889-f654-9895-a6f2-9aa31132c1e8&#39;, &lt;T.label: 4&gt;: &#39;VC_ulyss&#39;, &#39;id&#39;: &#39;urn:uuid:ec0fe111-4ac8-4883-b40d-dbc29ad03abe&#39;, &#39;StartDate&#39;: &#39;2022-10-14&#39;, &#39;UtilityBill&#39;: &#39;urn:uuid:b70b0e63-636d-41f5-808f-522aa4382dd5&#39;, &#39;type&#39;: &#39;CandidateAgreement&#39;, &#39;JobOffer&#39;: &#39;urn:uuid:1e42b32b-cd69-4821-953a-3efc9308c3c3&#39;, &#39;Passport&#39;: &#39;urn:uuid:0e5d5e59-8673-4c4b-8bb0-0c409e77fdbd&#39;}, {&lt;T.id: 1&gt;: &#39;0ec23889-fcad-7419-2a94-f37b45ccbf5a&#39;, &lt;T.label: 4&gt;: &#39;e&#39;, &lt;Direction.IN: 2&gt;: {&lt;T.id: 1&gt;: &#39;16c23889-f760-b0db-1e3a-21b37ddd65bb&#39;, &lt;T.label: 4&gt;: &#39;VC_ulyss&#39;}, &lt;Direction.OUT: 3&gt;: {&lt;T.id: 1&gt;: &#39;16c23889-f654-9895-a6f2-9aa31132c1e8&#39;, &lt;T.label: 4&gt;: &#39;VC_ulyss&#39;}}, {&lt;T.id: 1&gt;: &#39;16c23889-f760-b0db-1e3a-21b37ddd65bb&#39;, &lt;T.label: 4&gt;: &#39;VC_ulyss&#39;, &#39;id&#39;: &#39;urn:uuid:0e5d5e59-8673-4c4b-8bb0-0c409e77fdbd&#39;, &#39;IssueDate&#39;: &#39;2017-11-03&#39;, &#39;DocumentNumber&#39;: &#39;9999&#39;, &#39;BirthPlace&#39;: &#39;place&#39;, &#39;Height&#39;: &#39;1m 76cm&#39;, &#39;Sex&#39;: &#39;sex&#39;, &#39;type&#39;: &#39;Passport&#39;, &#39;Surname&#39;: &#39;Larson&#39;, &#39;Authority&#39;: &#39;some authority&#39;, &#39;BirthDate&#39;: &#39;1997-11-03&#39;, &#39;ExpireDate&#39;: &#39;2032-11-03&#39;, &#39;GivenNames&#39;: &#39;EmployeeAgain&#39;, &#39;Nationality&#39;: &#39;nationality&#39;, &#39;Scan&#39;: &#39;https://big-plato.com/vc/urn:uuid:0e5d5e59-8673-4c4b-8bb0-0c409e77fdbd/evidence/1&#39;}]\"], [51, \"path[{&lt;T.id: 1&gt;: &#39;16c23889-f654-9895-a6f2-9aa31132c1e8&#39;, &lt;T.label: 4&gt;: &#39;VC_ulyss&#39;, &#39;id&#39;: &#39;urn:uuid:ec0fe111-4ac8-4883-b40d-dbc29ad03abe&#39;, &#39;StartDate&#39;: &#39;2022-10-14&#39;, &#39;UtilityBill&#39;: &#39;urn:uuid:b70b0e63-636d-41f5-808f-522aa4382dd5&#39;, &#39;type&#39;: &#39;CandidateAgreement&#39;, &#39;JobOffer&#39;: &#39;urn:uuid:1e42b32b-cd69-4821-953a-3efc9308c3c3&#39;, &#39;Passport&#39;: &#39;urn:uuid:0e5d5e59-8673-4c4b-8bb0-0c409e77fdbd&#39;}, {&lt;T.id: 1&gt;: &#39;b4c23889-fcb8-4966-27bd-82bcb3698817&#39;, &lt;T.label: 4&gt;: &#39;e&#39;, &lt;Direction.IN: 2&gt;: {&lt;T.id: 1&gt;: &#39;24c23889-f683-32b2-a045-483094bf88fb&#39;, &lt;T.label: 4&gt;: &#39;VC_ulyss&#39;}, &lt;Direction.OUT: 3&gt;: {&lt;T.id: 1&gt;: &#39;16c23889-f654-9895-a6f2-9aa31132c1e8&#39;, &lt;T.label: 4&gt;: &#39;VC_ulyss&#39;}}, {&lt;T.id: 1&gt;: &#39;24c23889-f683-32b2-a045-483094bf88fb&#39;, &lt;T.label: 4&gt;: &#39;VC_ulyss&#39;, &#39;id&#39;: &#39;urn:uuid:b70b0e63-636d-41f5-808f-522aa4382dd5&#39;, &#39;ResidentialAddress&#39;: &#39;res addr&#39;, &#39;type&#39;: &#39;UtilityBill&#39;, &#39;Name&#39;: &#39;EmployeeAgain&#39;, &#39;Surname&#39;: &#39;Larson&#39;, &#39;Scan&#39;: &#39;https://big-plato.com/vc/urn:uuid:b70b0e63-636d-41f5-808f-522aa4382dd5/evidence/1&#39;}]\"], [52, \"path[{&lt;T.id: 1&gt;: &#39;94c23889-f6d6-fbe1-23b0-c5fd370205db&#39;, &lt;T.label: 4&gt;: &#39;VC_ulyss&#39;, &#39;id&#39;: &#39;urn:uuid:78cac123-0714-4809-8e88-8cf90d843b1d&#39;, &#39;IssueDate&#39;: &#39;2022-08-15&#39;, &#39;EndDate&#39;: &#39;2022-08-05&#39;, &#39;ContinuedObligations&#39;: &#39;whatever&#39;, &#39;ReturnCompanyPropertyDate&#39;: &#39;2022-08-05&#39;, &#39;type&#39;: &#39;ResignationConfirmation&#39;, &#39;LastWorkingDay&#39;: &#39;2022-08-05&#39;, &#39;ResignationNotice&#39;: &#39;urn:uuid:3915e947-5e33-45d7-a63d-337f6f0aa1c8&#39;}, {&lt;T.id: 1&gt;: &#39;ecc23889-fcfe-2c3e-7460-1c65e7d986be&#39;, &lt;T.label: 4&gt;: &#39;e&#39;, &lt;Direction.IN: 2&gt;: {&lt;T.id: 1&gt;: &#39;46c23889-f6fa-d51a-ab4c-a8f82e194521&#39;, &lt;T.label: 4&gt;: &#39;VC_ulyss&#39;}, &lt;Direction.OUT: 3&gt;: {&lt;T.id: 1&gt;: &#39;94c23889-f6d6-fbe1-23b0-c5fd370205db&#39;, &lt;T.label: 4&gt;: &#39;VC_ulyss&#39;}}, {&lt;T.id: 1&gt;: &#39;46c23889-f6fa-d51a-ab4c-a8f82e194521&#39;, &lt;T.label: 4&gt;: &#39;VC_ulyss&#39;, &#39;id&#39;: &#39;urn:uuid:3915e947-5e33-45d7-a63d-337f6f0aa1c8&#39;, &#39;IssueDate&#39;: &#39;2022-08-05&#39;, &#39;ResignationDate&#39;: &#39;2022-08-05&#39;, &#39;type&#39;: &#39;ResignationNotice&#39;, &#39;EmploymentAgreement&#39;: &#39;urn:uuid:725dbe4f-2551-4df6-bdfd-05cba85bc4d3&#39;}]\"], [53, \"path[{&lt;T.id: 1&gt;: &#39;a8c23889-f6ea-485e-336c-01a49cdcfe95&#39;, &lt;T.label: 4&gt;: &#39;VC_ulyss&#39;, &#39;id&#39;: &#39;urn:uuid:725dbe4f-2551-4df6-bdfd-05cba85bc4d3&#39;, &#39;CandidateAgreement&#39;: &#39;urn:uuid:c2967f05-1185-4fe3-8d5c-611930aa95a8&#39;, &#39;type&#39;: &#39;EmploymentAgreement&#39;}, {&lt;T.id: 1&gt;: &#39;f4c23889-fd08-89ea-2a4d-14d8d909032f&#39;, &lt;T.label: 4&gt;: &#39;e&#39;, &lt;Direction.IN: 2&gt;: {&lt;T.id: 1&gt;: &#39;32c23889-f66a-7049-203f-ec1de3ae2a88&#39;, &lt;T.label: 4&gt;: &#39;VC_ulyss&#39;}, &lt;Direction.OUT: 3&gt;: {&lt;T.id: 1&gt;: &#39;a8c23889-f6ea-485e-336c-01a49cdcfe95&#39;, &lt;T.label: 4&gt;: &#39;VC_ulyss&#39;}}, {&lt;T.id: 1&gt;: &#39;32c23889-f66a-7049-203f-ec1de3ae2a88&#39;, &lt;T.label: 4&gt;: &#39;VC_ulyss&#39;, &#39;id&#39;: &#39;urn:uuid:c2967f05-1185-4fe3-8d5c-611930aa95a8&#39;, &#39;StartDate&#39;: &#39;2021-12-18&#39;, &#39;UtilityBill&#39;: &#39;urn:uuid:b70b0e63-636d-41f5-808f-522aa4382dd5&#39;, &#39;type&#39;: &#39;CandidateAgreement&#39;, &#39;JobOffer&#39;: &#39;urn:uuid:810a228b-8d18-4637-843e-012b8794193a&#39;, &#39;Passport&#39;: &#39;urn:uuid:0e5d5e59-8673-4c4b-8bb0-0c409e77fdbd&#39;}]\"], [54, \"path[{&lt;T.id: 1&gt;: &#39;fcc23889-f6f2-89ab-76e7-45edd0cfceb6&#39;, &lt;T.label: 4&gt;: &#39;VC_ulyss&#39;, &#39;id&#39;: &#39;urn:uuid:3d5ae9c8-06e6-452a-935b-e86d42e20bfc&#39;, &#39;CandidateAgreement&#39;: &#39;urn:uuid:ec0fe111-4ac8-4883-b40d-dbc29ad03abe&#39;, &#39;type&#39;: &#39;EmploymentAgreement&#39;}, {&lt;T.id: 1&gt;: &#39;38c23889-fd13-eb80-d876-148be682ff56&#39;, &lt;T.label: 4&gt;: &#39;e&#39;, &lt;Direction.IN: 2&gt;: {&lt;T.id: 1&gt;: &#39;16c23889-f654-9895-a6f2-9aa31132c1e8&#39;, &lt;T.label: 4&gt;: &#39;VC_ulyss&#39;}, &lt;Direction.OUT: 3&gt;: {&lt;T.id: 1&gt;: &#39;fcc23889-f6f2-89ab-76e7-45edd0cfceb6&#39;, &lt;T.label: 4&gt;: &#39;VC_ulyss&#39;}}, {&lt;T.id: 1&gt;: &#39;16c23889-f654-9895-a6f2-9aa31132c1e8&#39;, &lt;T.label: 4&gt;: &#39;VC_ulyss&#39;, &#39;id&#39;: &#39;urn:uuid:ec0fe111-4ac8-4883-b40d-dbc29ad03abe&#39;, &#39;StartDate&#39;: &#39;2022-10-14&#39;, &#39;UtilityBill&#39;: &#39;urn:uuid:b70b0e63-636d-41f5-808f-522aa4382dd5&#39;, &#39;type&#39;: &#39;CandidateAgreement&#39;, &#39;JobOffer&#39;: &#39;urn:uuid:1e42b32b-cd69-4821-953a-3efc9308c3c3&#39;, &#39;Passport&#39;: &#39;urn:uuid:0e5d5e59-8673-4c4b-8bb0-0c409e77fdbd&#39;}]\"], [55, \"path[{&lt;T.id: 1&gt;: &#39;26c23889-f707-e3f7-39e4-3b1f7d0fcd53&#39;, &lt;T.label: 4&gt;: &#39;VC_ulyss&#39;, &#39;id&#39;: &#39;urn:uuid:22fffa88-60d9-4c27-9f56-5dca609a6a83&#39;, &#39;Position&#39;: &#39;hiring&#39;, &#39;PlaceOfWork&#39;: &#39;nucleotide&#39;, &#39;To&#39;: &#39;2005-01-25&#39;, &#39;MonthlyGrossSalary&#39;: 77880, &#39;From&#39;: &#39;2045-09-21&#39;, &#39;ReasonOfAmendments&#39;: &#39;screw-up&#39;, &#39;type&#39;: &#39;CompanyAddendum&#39;, &#39;AgreeAsFollows&#39;: &#39;golf&#39;, &#39;EmploymentAgreement&#39;: &#39;urn:uuid:3d5ae9c8-06e6-452a-935b-e86d42e20bfc&#39;, &#39;WorkingHoursPerWeek&#39;: 91515}, {&lt;T.id: 1&gt;: &#39;1cc23889-fd2d-8f88-687e-e2feebc90db3&#39;, &lt;T.label: 4&gt;: &#39;e&#39;, &lt;Direction.IN: 2&gt;: {&lt;T.id: 1&gt;: &#39;fcc23889-f6f2-89ab-76e7-45edd0cfceb6&#39;, &lt;T.label: 4&gt;: &#39;VC_ulyss&#39;}, &lt;Direction.OUT: 3&gt;: {&lt;T.id: 1&gt;: &#39;26c23889-f707-e3f7-39e4-3b1f7d0fcd53&#39;, &lt;T.label: 4&gt;: &#39;VC_ulyss&#39;}}, {&lt;T.id: 1&gt;: &#39;fcc23889-f6f2-89ab-76e7-45edd0cfceb6&#39;, &lt;T.label: 4&gt;: &#39;VC_ulyss&#39;, &#39;id&#39;: &#39;urn:uuid:3d5ae9c8-06e6-452a-935b-e86d42e20bfc&#39;, &#39;CandidateAgreement&#39;: &#39;urn:uuid:ec0fe111-4ac8-4883-b40d-dbc29ad03abe&#39;, &#39;type&#39;: &#39;EmploymentAgreement&#39;}]\"], [56, \"path[{&lt;T.id: 1&gt;: &#39;b4c23889-f782-f144-4176-dfc095dbcd26&#39;, &lt;T.label: 4&gt;: &#39;VC_ulyss&#39;, &#39;id&#39;: &#39;urn:uuid:0a6a9f01-d202-4971-85db-5b60624bbc11&#39;, &#39;Position&#39;: &#39;lymphocyte&#39;, &#39;PlaceOfWork&#39;: &#39;swath&#39;, &#39;To&#39;: &#39;2087-05-21&#39;, &#39;MonthlyGrossSalary&#39;: 90462, &#39;From&#39;: &#39;1992-12-22&#39;, &#39;ReasonOfAmendments&#39;: &#39;respite&#39;, &#39;type&#39;: &#39;CompanyAddendum&#39;, &#39;AgreeAsFollows&#39;: &#39;stage&#39;, &#39;EmploymentAgreement&#39;: &#39;urn:uuid:3d5ae9c8-06e6-452a-935b-e86d42e20bfc&#39;, &#39;WorkingHoursPerWeek&#39;: 20831}, {&lt;T.id: 1&gt;: &#39;88c23889-fd56-1054-d133-c04368f474ac&#39;, &lt;T.label: 4&gt;: &#39;e&#39;, &lt;Direction.IN: 2&gt;: {&lt;T.id: 1&gt;: &#39;fcc23889-f6f2-89ab-76e7-45edd0cfceb6&#39;, &lt;T.label: 4&gt;: &#39;VC_ulyss&#39;}, &lt;Direction.OUT: 3&gt;: {&lt;T.id: 1&gt;: &#39;b4c23889-f782-f144-4176-dfc095dbcd26&#39;, &lt;T.label: 4&gt;: &#39;VC_ulyss&#39;}}, {&lt;T.id: 1&gt;: &#39;fcc23889-f6f2-89ab-76e7-45edd0cfceb6&#39;, &lt;T.label: 4&gt;: &#39;VC_ulyss&#39;, &#39;id&#39;: &#39;urn:uuid:3d5ae9c8-06e6-452a-935b-e86d42e20bfc&#39;, &#39;CandidateAgreement&#39;: &#39;urn:uuid:ec0fe111-4ac8-4883-b40d-dbc29ad03abe&#39;, &#39;type&#39;: &#39;EmploymentAgreement&#39;}]\"], [57, \"path[{&lt;T.id: 1&gt;: &#39;2ac23889-f8c3-0538-d68e-3489d717c98b&#39;, &lt;T.label: 4&gt;: &#39;VC_ulyss&#39;, &#39;id&#39;: &#39;urn:uuid:e624bd3d-63c7-43c2-9b9b-96313cc9bb5c&#39;, &#39;StartDate&#39;: &#39;2022-08-15&#39;, &#39;UtilityBill&#39;: &#39;urn:uuid:728238c7-8fc3-4b42-b3f1-e312039626da&#39;, &#39;type&#39;: &#39;CandidateAgreement&#39;, &#39;JobOffer&#39;: &#39;urn:uuid:891c2b59-0806-4d75-912c-4b7b81b3cb96&#39;, &#39;Passport&#39;: &#39;urn:uuid:5fc49859-f9b6-474d-8cce-735b408584d0&#39;}, {&lt;T.id: 1&gt;: &#39;0ec23889-fdc5-e602-60bb-b1342f66babe&#39;, &lt;T.label: 4&gt;: &#39;e&#39;, &lt;Direction.IN: 2&gt;: {&lt;T.id: 1&gt;: &#39;52c23889-f8d2-1261-282b-65a8668da13a&#39;, &lt;T.label: 4&gt;: &#39;VC_ulyss&#39;}, &lt;Direction.OUT: 3&gt;: {&lt;T.id: 1&gt;: &#39;2ac23889-f8c3-0538-d68e-3489d717c98b&#39;, &lt;T.label: 4&gt;: &#39;VC_ulyss&#39;}}, {&lt;T.id: 1&gt;: &#39;52c23889-f8d2-1261-282b-65a8668da13a&#39;, &lt;T.label: 4&gt;: &#39;VC_ulyss&#39;, &#39;id&#39;: &#39;urn:uuid:891c2b59-0806-4d75-912c-4b7b81b3cb96&#39;, &#39;IssueDate&#39;: &#39;2022-08-05&#39;, &#39;PlaceOfWork&#39;: &#39;Work Place&#39;, &#39;GrossSalary&#39;: 5900, &#39;Email&#39;: &#39;backend+test-Employee@project-plato.com&#39;, &#39;OfferedPosition&#39;: &#39;Engineer&#39;, &#39;KvkExtract&#39;: &#39;urn:uuid:7e8f96fc-3617-45e5-92a6-a7711c5a7225&#39;, &#39;WorkWeekHours&#39;: 80, &#39;type&#39;: &#39;JobOffer&#39;, &#39;JobDescription&#39;: &#39;Do work&#39;, &#39;Name&#39;: &#39;Employee&#39;, &#39;ResponseDate&#39;: &#39;2022-08-05&#39;, &#39;Surname&#39;: &#39;Davis&#39;, &#39;DirectorPassport&#39;: &#39;urn:uuid:00521aef-cbb0-40be-8e60-a56d2935f348&#39;, &#39;PeriodOfWorkMonths&#39;: 12, &#39;TrialPeriodMonths&#39;: 1}]\"], [58, \"path[{&lt;T.id: 1&gt;: &#39;2ac23889-f8c3-0538-d68e-3489d717c98b&#39;, &lt;T.label: 4&gt;: &#39;VC_ulyss&#39;, &#39;id&#39;: &#39;urn:uuid:e624bd3d-63c7-43c2-9b9b-96313cc9bb5c&#39;, &#39;StartDate&#39;: &#39;2022-08-15&#39;, &#39;UtilityBill&#39;: &#39;urn:uuid:728238c7-8fc3-4b42-b3f1-e312039626da&#39;, &#39;type&#39;: &#39;CandidateAgreement&#39;, &#39;JobOffer&#39;: &#39;urn:uuid:891c2b59-0806-4d75-912c-4b7b81b3cb96&#39;, &#39;Passport&#39;: &#39;urn:uuid:5fc49859-f9b6-474d-8cce-735b408584d0&#39;}, {&lt;T.id: 1&gt;: &#39;62c23889-fdd7-9d8c-f7fc-8caa38ea34ea&#39;, &lt;T.label: 4&gt;: &#39;e&#39;, &lt;Direction.IN: 2&gt;: {&lt;T.id: 1&gt;: &#39;72c23889-f8fa-7961-4bc0-ef05813d7c1b&#39;, &lt;T.label: 4&gt;: &#39;VC_ulyss&#39;}, &lt;Direction.OUT: 3&gt;: {&lt;T.id: 1&gt;: &#39;2ac23889-f8c3-0538-d68e-3489d717c98b&#39;, &lt;T.label: 4&gt;: &#39;VC_ulyss&#39;}}, {&lt;T.id: 1&gt;: &#39;72c23889-f8fa-7961-4bc0-ef05813d7c1b&#39;, &lt;T.label: 4&gt;: &#39;VC_ulyss&#39;, &#39;id&#39;: &#39;urn:uuid:728238c7-8fc3-4b42-b3f1-e312039626da&#39;, &#39;ResidentialAddress&#39;: &#39;res addr&#39;, &#39;type&#39;: &#39;UtilityBill&#39;, &#39;Name&#39;: &#39;Employee&#39;, &#39;Surname&#39;: &#39;Davis&#39;, &#39;Scan&#39;: &#39;https://big-plato.com/vc/urn:uuid:728238c7-8fc3-4b42-b3f1-e312039626da/evidence/1&#39;}]\"], [59, \"path[{&lt;T.id: 1&gt;: &#39;2ac23889-f8c3-0538-d68e-3489d717c98b&#39;, &lt;T.label: 4&gt;: &#39;VC_ulyss&#39;, &#39;id&#39;: &#39;urn:uuid:e624bd3d-63c7-43c2-9b9b-96313cc9bb5c&#39;, &#39;StartDate&#39;: &#39;2022-08-15&#39;, &#39;UtilityBill&#39;: &#39;urn:uuid:728238c7-8fc3-4b42-b3f1-e312039626da&#39;, &#39;type&#39;: &#39;CandidateAgreement&#39;, &#39;JobOffer&#39;: &#39;urn:uuid:891c2b59-0806-4d75-912c-4b7b81b3cb96&#39;, &#39;Passport&#39;: &#39;urn:uuid:5fc49859-f9b6-474d-8cce-735b408584d0&#39;}, {&lt;T.id: 1&gt;: &#39;78c23889-fdce-eaad-57b5-de8630324f76&#39;, &lt;T.label: 4&gt;: &#39;e&#39;, &lt;Direction.IN: 2&gt;: {&lt;T.id: 1&gt;: &#39;b2c23889-f90a-8d33-c26c-cdefd9ada2ce&#39;, &lt;T.label: 4&gt;: &#39;VC_ulyss&#39;}, &lt;Direction.OUT: 3&gt;: {&lt;T.id: 1&gt;: &#39;2ac23889-f8c3-0538-d68e-3489d717c98b&#39;, &lt;T.label: 4&gt;: &#39;VC_ulyss&#39;}}, {&lt;T.id: 1&gt;: &#39;b2c23889-f90a-8d33-c26c-cdefd9ada2ce&#39;, &lt;T.label: 4&gt;: &#39;VC_ulyss&#39;, &#39;id&#39;: &#39;urn:uuid:5fc49859-f9b6-474d-8cce-735b408584d0&#39;, &#39;IssueDate&#39;: &#39;2017-11-03&#39;, &#39;DocumentNumber&#39;: &#39;9999&#39;, &#39;BirthPlace&#39;: &#39;place&#39;, &#39;Height&#39;: &#39;1m 76cm&#39;, &#39;Sex&#39;: &#39;sex&#39;, &#39;type&#39;: &#39;Passport&#39;, &#39;Surname&#39;: &#39;Davis&#39;, &#39;Authority&#39;: &#39;some authority&#39;, &#39;BirthDate&#39;: &#39;1997-11-03&#39;, &#39;ExpireDate&#39;: &#39;2032-11-03&#39;, &#39;GivenNames&#39;: &#39;Employee&#39;, &#39;Nationality&#39;: &#39;nationality&#39;, &#39;Scan&#39;: &#39;https://big-plato.com/vc/urn:uuid:5fc49859-f9b6-474d-8cce-735b408584d0/evidence/1&#39;}]\"], [60, \"path[{&lt;T.id: 1&gt;: &#39;9ac23889-f93d-7db8-85d9-2a53fe1e4364&#39;, &lt;T.label: 4&gt;: &#39;VC_ulyss&#39;, &#39;id&#39;: &#39;urn:uuid:4d2c9391-b692-4169-ac61-aa50b9c0a43d&#39;, &#39;CandidateAgreement&#39;: &#39;urn:uuid:e624bd3d-63c7-43c2-9b9b-96313cc9bb5c&#39;, &#39;type&#39;: &#39;EmploymentAgreement&#39;}, {&lt;T.id: 1&gt;: &#39;9cc23889-fdfd-3b76-8a16-fd155af3b13a&#39;, &lt;T.label: 4&gt;: &#39;e&#39;, &lt;Direction.IN: 2&gt;: {&lt;T.id: 1&gt;: &#39;2ac23889-f8c3-0538-d68e-3489d717c98b&#39;, &lt;T.label: 4&gt;: &#39;VC_ulyss&#39;}, &lt;Direction.OUT: 3&gt;: {&lt;T.id: 1&gt;: &#39;9ac23889-f93d-7db8-85d9-2a53fe1e4364&#39;, &lt;T.label: 4&gt;: &#39;VC_ulyss&#39;}}, {&lt;T.id: 1&gt;: &#39;2ac23889-f8c3-0538-d68e-3489d717c98b&#39;, &lt;T.label: 4&gt;: &#39;VC_ulyss&#39;, &#39;id&#39;: &#39;urn:uuid:e624bd3d-63c7-43c2-9b9b-96313cc9bb5c&#39;, &#39;StartDate&#39;: &#39;2022-08-15&#39;, &#39;UtilityBill&#39;: &#39;urn:uuid:728238c7-8fc3-4b42-b3f1-e312039626da&#39;, &#39;type&#39;: &#39;CandidateAgreement&#39;, &#39;JobOffer&#39;: &#39;urn:uuid:891c2b59-0806-4d75-912c-4b7b81b3cb96&#39;, &#39;Passport&#39;: &#39;urn:uuid:5fc49859-f9b6-474d-8cce-735b408584d0&#39;}]\"], [61, \"path[{&lt;T.id: 1&gt;: &#39;8ec23889-fa18-cf80-cfe6-9282b14bb476&#39;, &lt;T.label: 4&gt;: &#39;VC_ulyss&#39;, &#39;id&#39;: &#39;urn:uuid:a2dfc13b-e885-4b66-b755-b23c3d1095fb&#39;, &#39;StartDate&#39;: &#39;2022-01-17&#39;, &#39;UtilityBill&#39;: &#39;urn:uuid:30fe9b21-6caf-4739-99a7-2cd8d304f15e&#39;, &#39;type&#39;: &#39;CandidateAgreement&#39;, &#39;JobOffer&#39;: &#39;urn:uuid:22343abc-ca87-4a3f-b5dd-f6bb92c24076&#39;, &#39;Passport&#39;: &#39;urn:uuid:edbf4364-4c1c-4741-9f1c-b0db92ea2b99&#39;}, {&lt;T.id: 1&gt;: &#39;dec23889-fe68-0fbb-1fd2-f260a85a97a2&#39;, &lt;T.label: 4&gt;: &#39;e&#39;, &lt;Direction.IN: 2&gt;: {&lt;T.id: 1&gt;: &#39;eac23889-fa8f-adde-7b5a-0c259142af6f&#39;, &lt;T.label: 4&gt;: &#39;VC_ulyss&#39;}, &lt;Direction.OUT: 3&gt;: {&lt;T.id: 1&gt;: &#39;8ec23889-fa18-cf80-cfe6-9282b14bb476&#39;, &lt;T.label: 4&gt;: &#39;VC_ulyss&#39;}}, {&lt;T.id: 1&gt;: &#39;eac23889-fa8f-adde-7b5a-0c259142af6f&#39;, &lt;T.label: 4&gt;: &#39;VC_ulyss&#39;, &#39;id&#39;: &#39;urn:uuid:22343abc-ca87-4a3f-b5dd-f6bb92c24076&#39;, &#39;IssueDate&#39;: &#39;2022-01-07&#39;, &#39;PlaceOfWork&#39;: &#39;Work Place&#39;, &#39;GrossSalary&#39;: 1400, &#39;Email&#39;: &#39;backend+test-EmployeeWithAddendums@project-plato.com&#39;, &#39;OfferedPosition&#39;: &#39;Finance manager&#39;, &#39;KvkExtract&#39;: &#39;urn:uuid:7e8f96fc-3617-45e5-92a6-a7711c5a7225&#39;, &#39;WorkWeekHours&#39;: 80, &#39;type&#39;: &#39;JobOffer&#39;, &#39;JobDescription&#39;: &#39;Do work&#39;, &#39;Name&#39;: &#39;EmployeeWithAddendums&#39;, &#39;ResponseDate&#39;: &#39;2022-01-07&#39;, &#39;Surname&#39;: &#39;Jones&#39;, &#39;DirectorPassport&#39;: &#39;urn:uuid:00521aef-cbb0-40be-8e60-a56d2935f348&#39;, &#39;PeriodOfWorkMonths&#39;: 12, &#39;TrialPeriodMonths&#39;: 1}]\"], [62, \"path[{&lt;T.id: 1&gt;: &#39;8ec23889-fa18-cf80-cfe6-9282b14bb476&#39;, &lt;T.label: 4&gt;: &#39;VC_ulyss&#39;, &#39;id&#39;: &#39;urn:uuid:a2dfc13b-e885-4b66-b755-b23c3d1095fb&#39;, &#39;StartDate&#39;: &#39;2022-01-17&#39;, &#39;UtilityBill&#39;: &#39;urn:uuid:30fe9b21-6caf-4739-99a7-2cd8d304f15e&#39;, &#39;type&#39;: &#39;CandidateAgreement&#39;, &#39;JobOffer&#39;: &#39;urn:uuid:22343abc-ca87-4a3f-b5dd-f6bb92c24076&#39;, &#39;Passport&#39;: &#39;urn:uuid:edbf4364-4c1c-4741-9f1c-b0db92ea2b99&#39;}, {&lt;T.id: 1&gt;: &#39;cec23889-fe79-7250-85ea-4369987970a9&#39;, &lt;T.label: 4&gt;: &#39;e&#39;, &lt;Direction.IN: 2&gt;: {&lt;T.id: 1&gt;: &#39;bac23889-fa78-522c-4d50-82d1c3cbe72a&#39;, &lt;T.label: 4&gt;: &#39;VC_ulyss&#39;}, &lt;Direction.OUT: 3&gt;: {&lt;T.id: 1&gt;: &#39;8ec23889-fa18-cf80-cfe6-9282b14bb476&#39;, &lt;T.label: 4&gt;: &#39;VC_ulyss&#39;}}, {&lt;T.id: 1&gt;: &#39;bac23889-fa78-522c-4d50-82d1c3cbe72a&#39;, &lt;T.label: 4&gt;: &#39;VC_ulyss&#39;, &#39;id&#39;: &#39;urn:uuid:30fe9b21-6caf-4739-99a7-2cd8d304f15e&#39;, &#39;ResidentialAddress&#39;: &#39;res addr&#39;, &#39;type&#39;: &#39;UtilityBill&#39;, &#39;Name&#39;: &#39;EmployeeWithAddendums&#39;, &#39;Surname&#39;: &#39;Jones&#39;, &#39;Scan&#39;: &#39;https://big-plato.com/vc/urn:uuid:30fe9b21-6caf-4739-99a7-2cd8d304f15e/evidence/1&#39;}]\"], [63, \"path[{&lt;T.id: 1&gt;: &#39;8ec23889-fa18-cf80-cfe6-9282b14bb476&#39;, &lt;T.label: 4&gt;: &#39;VC_ulyss&#39;, &#39;id&#39;: &#39;urn:uuid:a2dfc13b-e885-4b66-b755-b23c3d1095fb&#39;, &#39;StartDate&#39;: &#39;2022-01-17&#39;, &#39;UtilityBill&#39;: &#39;urn:uuid:30fe9b21-6caf-4739-99a7-2cd8d304f15e&#39;, &#39;type&#39;: &#39;CandidateAgreement&#39;, &#39;JobOffer&#39;: &#39;urn:uuid:22343abc-ca87-4a3f-b5dd-f6bb92c24076&#39;, &#39;Passport&#39;: &#39;urn:uuid:edbf4364-4c1c-4741-9f1c-b0db92ea2b99&#39;}, {&lt;T.id: 1&gt;: &#39;48c23889-fe70-99e1-b55b-ab13c924ac8a&#39;, &lt;T.label: 4&gt;: &#39;e&#39;, &lt;Direction.IN: 2&gt;: {&lt;T.id: 1&gt;: &#39;a2c23889-f9ee-252c-c6e2-983c14929fca&#39;, &lt;T.label: 4&gt;: &#39;VC_ulyss&#39;}, &lt;Direction.OUT: 3&gt;: {&lt;T.id: 1&gt;: &#39;8ec23889-fa18-cf80-cfe6-9282b14bb476&#39;, &lt;T.label: 4&gt;: &#39;VC_ulyss&#39;}}, {&lt;T.id: 1&gt;: &#39;a2c23889-f9ee-252c-c6e2-983c14929fca&#39;, &lt;T.label: 4&gt;: &#39;VC_ulyss&#39;, &#39;id&#39;: &#39;urn:uuid:edbf4364-4c1c-4741-9f1c-b0db92ea2b99&#39;, &#39;IssueDate&#39;: &#39;2017-11-03&#39;, &#39;DocumentNumber&#39;: &#39;9999&#39;, &#39;BirthPlace&#39;: &#39;place&#39;, &#39;Height&#39;: &#39;1m 76cm&#39;, &#39;Sex&#39;: &#39;sex&#39;, &#39;type&#39;: &#39;Passport&#39;, &#39;Surname&#39;: &#39;Jones&#39;, &#39;Authority&#39;: &#39;some authority&#39;, &#39;BirthDate&#39;: &#39;1997-11-03&#39;, &#39;ExpireDate&#39;: &#39;2032-11-03&#39;, &#39;GivenNames&#39;: &#39;EmployeeWithAddendums&#39;, &#39;Nationality&#39;: &#39;nationality&#39;, &#39;Scan&#39;: &#39;https://big-plato.com/vc/urn:uuid:edbf4364-4c1c-4741-9f1c-b0db92ea2b99/evidence/1&#39;}]\"], [64, \"path[{&lt;T.id: 1&gt;: &#39;c6c23889-fa87-39db-cf78-c18e517fc10e&#39;, &lt;T.label: 4&gt;: &#39;VC_ulyss&#39;, &#39;id&#39;: &#39;urn:uuid:27df455b-56ca-4a73-abba-16a6d61ccd38&#39;, &#39;CompanyAddendum&#39;: &#39;urn:uuid:5ea39fca-344e-4a9f-bb43-9d2e4d255264&#39;, &#39;type&#39;: &#39;EmploymentAddendum&#39;}, {&lt;T.id: 1&gt;: &#39;b8c23889-febc-bb41-577e-169a9aa8f931&#39;, &lt;T.label: 4&gt;: &#39;e&#39;, &lt;Direction.IN: 2&gt;: {&lt;T.id: 1&gt;: &#39;c8c23889-fa4e-e318-1664-a46a89dc8ab9&#39;, &lt;T.label: 4&gt;: &#39;VC_ulyss&#39;}, &lt;Direction.OUT: 3&gt;: {&lt;T.id: 1&gt;: &#39;c6c23889-fa87-39db-cf78-c18e517fc10e&#39;, &lt;T.label: 4&gt;: &#39;VC_ulyss&#39;}}, {&lt;T.id: 1&gt;: &#39;c8c23889-fa4e-e318-1664-a46a89dc8ab9&#39;, &lt;T.label: 4&gt;: &#39;VC_ulyss&#39;, &#39;id&#39;: &#39;urn:uuid:5ea39fca-344e-4a9f-bb43-9d2e4d255264&#39;, &#39;Position&#39;: &#39;Associate finance manager&#39;, &#39;To&#39;: &#39;2022-06-06&#39;, &#39;MonthlyGrossSalary&#39;: 1100, &#39;From&#39;: &#39;2021-11-28&#39;, &#39;type&#39;: &#39;CompanyAddendum&#39;, &#39;AgreeAsFollows&#39;: &#39;some agreement&#39;, &#39;EmploymentAgreement&#39;: &#39;urn:uuid:d20348a2-7740-4ea1-98f4-59fe90396a27&#39;}]\"], [65, \"path[{&lt;T.id: 1&gt;: &#39;54c23889-faf8-be91-2825-6917f8664722&#39;, &lt;T.label: 4&gt;: &#39;VC_ulyss&#39;, &#39;id&#39;: &#39;urn:uuid:c0b103b0-181e-4aca-8e2a-bea48dfa2b49&#39;, &#39;IssueDate&#39;: &#39;2022-05-07&#39;, &#39;PlaceOfWork&#39;: &#39;Work Place&#39;, &#39;GrossSalary&#39;: 1100, &#39;Email&#39;: &#39;backend+test-EmployeeWithDraftResignationNotice@project-plato.com&#39;, &#39;OfferedPosition&#39;: &#39;Editor&#39;, &#39;KvkExtract&#39;: &#39;urn:uuid:7e8f96fc-3617-45e5-92a6-a7711c5a7225&#39;, &#39;WorkWeekHours&#39;: 80, &#39;type&#39;: &#39;JobOffer&#39;, &#39;JobDescription&#39;: &#39;Do work&#39;, &#39;Name&#39;: &#39;EmployeeWithDraftResignationNotice&#39;, &#39;ResponseDate&#39;: &#39;2022-05-07&#39;, &#39;Surname&#39;: &#39;Evans&#39;, &#39;DirectorPassport&#39;: &#39;urn:uuid:00521aef-cbb0-40be-8e60-a56d2935f348&#39;, &#39;PeriodOfWorkMonths&#39;: 12, &#39;TrialPeriodMonths&#39;: 1}, {&lt;T.id: 1&gt;: &#39;46c23889-feff-af7b-57d5-0b40e7303a1e&#39;, &lt;T.label: 4&gt;: &#39;e&#39;, &lt;Direction.IN: 2&gt;: {&lt;T.id: 1&gt;: &#39;8ec23889-f6bf-11b7-4afe-3ec076d7af00&#39;, &lt;T.label: 4&gt;: &#39;VC_ulyss&#39;}, &lt;Direction.OUT: 3&gt;: {&lt;T.id: 1&gt;: &#39;54c23889-faf8-be91-2825-6917f8664722&#39;, &lt;T.label: 4&gt;: &#39;VC_ulyss&#39;}}, {&lt;T.id: 1&gt;: &#39;8ec23889-f6bf-11b7-4afe-3ec076d7af00&#39;, &lt;T.label: 4&gt;: &#39;VC_ulyss&#39;, &#39;id&#39;: &#39;urn:uuid:7e8f96fc-3617-45e5-92a6-a7711c5a7225&#39;, &#39;CompanyName&#39;: &#39;Great Company&#39;, &#39;RSIN&#39;: &#39;12345&#39;, &#39;ChamberOfCommerceNumber&#39;: &#39;12345&#39;, &#39;ExtractionDate&#39;: &#39;2021-11-03&#39;, &#39;type&#39;: &#39;KvkExtract&#39;, &#39;Scan&#39;: &#39;https://big-plato.com/vc/urn:uuid:7e8f96fc-3617-45e5-92a6-a7711c5a7225/evidence/1&#39;, &#39;DirectorName&#39;: &#39;Important&#39;, &#39;DirectorSurname&#39;: &#39;Director&#39;, &#39;RegisteredOfficeAddress&#39;: &#39;fake-registered-office-address&#39;}]\"], [66, \"path[{&lt;T.id: 1&gt;: &#39;54c23889-faf8-be91-2825-6917f8664722&#39;, &lt;T.label: 4&gt;: &#39;VC_ulyss&#39;, &#39;id&#39;: &#39;urn:uuid:c0b103b0-181e-4aca-8e2a-bea48dfa2b49&#39;, &#39;IssueDate&#39;: &#39;2022-05-07&#39;, &#39;PlaceOfWork&#39;: &#39;Work Place&#39;, &#39;GrossSalary&#39;: 1100, &#39;Email&#39;: &#39;backend+test-EmployeeWithDraftResignationNotice@project-plato.com&#39;, &#39;OfferedPosition&#39;: &#39;Editor&#39;, &#39;KvkExtract&#39;: &#39;urn:uuid:7e8f96fc-3617-45e5-92a6-a7711c5a7225&#39;, &#39;WorkWeekHours&#39;: 80, &#39;type&#39;: &#39;JobOffer&#39;, &#39;JobDescription&#39;: &#39;Do work&#39;, &#39;Name&#39;: &#39;EmployeeWithDraftResignationNotice&#39;, &#39;ResponseDate&#39;: &#39;2022-05-07&#39;, &#39;Surname&#39;: &#39;Evans&#39;, &#39;DirectorPassport&#39;: &#39;urn:uuid:00521aef-cbb0-40be-8e60-a56d2935f348&#39;, &#39;PeriodOfWorkMonths&#39;: 12, &#39;TrialPeriodMonths&#39;: 1}, {&lt;T.id: 1&gt;: &#39;d2c23889-fef7-63f1-3136-18278c3d3521&#39;, &lt;T.label: 4&gt;: &#39;e&#39;, &lt;Direction.IN: 2&gt;: {&lt;T.id: 1&gt;: &#39;fec23889-f79d-64ea-9e82-aee7a4cd7666&#39;, &lt;T.label: 4&gt;: &#39;VC_ulyss&#39;}, &lt;Direction.OUT: 3&gt;: {&lt;T.id: 1&gt;: &#39;54c23889-faf8-be91-2825-6917f8664722&#39;, &lt;T.label: 4&gt;: &#39;VC_ulyss&#39;}}, {&lt;T.id: 1&gt;: &#39;fec23889-f79d-64ea-9e82-aee7a4cd7666&#39;, &lt;T.label: 4&gt;: &#39;VC_ulyss&#39;, &#39;id&#39;: &#39;urn:uuid:00521aef-cbb0-40be-8e60-a56d2935f348&#39;, &#39;IssueDate&#39;: &#39;2012-11-03&#39;, &#39;DocumentNumber&#39;: &#39;9999&#39;, &#39;BirthPlace&#39;: &#39;some place&#39;, &#39;Height&#39;: &#39;5 m&#39;, &#39;Sex&#39;: &#39;fake-sex&#39;, &#39;type&#39;: &#39;Passport&#39;, &#39;Surname&#39;: &#39;Director&#39;, &#39;Authority&#39;: &#39;God&#39;, &#39;BirthDate&#39;: &#39;1972-11-03&#39;, &#39;ExpireDate&#39;: &#39;2032-11-03&#39;, &#39;GivenNames&#39;: &#39;fake-given-names&#39;, &#39;Nationality&#39;: &#39;test nationality&#39;, &#39;Scan&#39;: &#39;https://big-plato.com/vc/urn:uuid:00521aef-cbb0-40be-8e60-a56d2935f348/evidence/1&#39;}]\"], [67, \"path[{&lt;T.id: 1&gt;: &#39;e2c23889-fb22-39da-5414-1f176ced1769&#39;, &lt;T.label: 4&gt;: &#39;VC_ulyss&#39;, &#39;id&#39;: &#39;urn:uuid:44dae738-cb39-4bd2-a851-5a28c30c69bb&#39;, &#39;CandidateAgreement&#39;: &#39;urn:uuid:310220d6-c96d-4ec7-ab22-dc8b8ce73993&#39;, &#39;type&#39;: &#39;EmploymentAgreement&#39;}, {&lt;T.id: 1&gt;: &#39;16c23889-ff09-065e-45f2-a5e042bf7a44&#39;, &lt;T.label: 4&gt;: &#39;e&#39;, &lt;Direction.IN: 2&gt;: {&lt;T.id: 1&gt;: &#39;dcc23889-fb2f-3348-48e8-24a329afc62f&#39;, &lt;T.label: 4&gt;: &#39;VC_ulyss&#39;}, &lt;Direction.OUT: 3&gt;: {&lt;T.id: 1&gt;: &#39;e2c23889-fb22-39da-5414-1f176ced1769&#39;, &lt;T.label: 4&gt;: &#39;VC_ulyss&#39;}}, {&lt;T.id: 1&gt;: &#39;dcc23889-fb2f-3348-48e8-24a329afc62f&#39;, &lt;T.label: 4&gt;: &#39;VC_ulyss&#39;, &#39;id&#39;: &#39;urn:uuid:310220d6-c96d-4ec7-ab22-dc8b8ce73993&#39;, &#39;StartDate&#39;: &#39;2022-05-17&#39;, &#39;UtilityBill&#39;: &#39;urn:uuid:e8af8a04-6fe5-478d-a45f-7c78a857c904&#39;, &#39;type&#39;: &#39;CandidateAgreement&#39;, &#39;JobOffer&#39;: &#39;urn:uuid:c0b103b0-181e-4aca-8e2a-bea48dfa2b49&#39;, &#39;Passport&#39;: &#39;urn:uuid:0ff6573f-29dd-4819-a218-16a6a551df14&#39;}]\"], [68, \"path[{&lt;T.id: 1&gt;: &#39;24c23889-fb7d-8363-462b-c0ee12b1639c&#39;, &lt;T.label: 4&gt;: &#39;VC_ulyss&#39;, &#39;id&#39;: &#39;urn:uuid:eadd9210-7655-4edc-b0e3-74c7307a5dc1&#39;, &#39;StartDate&#39;: &#39;2022-04-17&#39;, &#39;UtilityBill&#39;: &#39;urn:uuid:fb3a89a2-3406-46b7-be7b-c02f264aa6fe&#39;, &#39;type&#39;: &#39;CandidateAgreement&#39;, &#39;JobOffer&#39;: &#39;urn:uuid:c8c9b98c-144f-45d6-9f0a-c99ccd32301a&#39;, &#39;Passport&#39;: &#39;urn:uuid:40de4691-f268-481c-9a5e-fd2bfa8eb3f8&#39;}, {&lt;T.id: 1&gt;: &#39;16c23889-ff42-98ab-1bb2-fd0d2ee02819&#39;, &lt;T.label: 4&gt;: &#39;e&#39;, &lt;Direction.IN: 2&gt;: {&lt;T.id: 1&gt;: &#39;42c23889-fb6d-224e-5e5d-6e74f7521c2f&#39;, &lt;T.label: 4&gt;: &#39;VC_ulyss&#39;}, &lt;Direction.OUT: 3&gt;: {&lt;T.id: 1&gt;: &#39;24c23889-fb7d-8363-462b-c0ee12b1639c&#39;, &lt;T.label: 4&gt;: &#39;VC_ulyss&#39;}}, {&lt;T.id: 1&gt;: &#39;42c23889-fb6d-224e-5e5d-6e74f7521c2f&#39;, &lt;T.label: 4&gt;: &#39;VC_ulyss&#39;, &#39;id&#39;: &#39;urn:uuid:fb3a89a2-3406-46b7-be7b-c02f264aa6fe&#39;, &#39;ResidentialAddress&#39;: &#39;res addr&#39;, &#39;type&#39;: &#39;UtilityBill&#39;, &#39;Name&#39;: &#39;EmployeeWithDraftResignationConfirmation&#39;, &#39;Surname&#39;: &#39;Franco&#39;, &#39;Scan&#39;: &#39;https://big-plato.com/vc/urn:uuid:fb3a89a2-3406-46b7-be7b-c02f264aa6fe/evidence/1&#39;}]\"], [69, \"path[{&lt;T.id: 1&gt;: &#39;24c23889-fb7d-8363-462b-c0ee12b1639c&#39;, &lt;T.label: 4&gt;: &#39;VC_ulyss&#39;, &#39;id&#39;: &#39;urn:uuid:eadd9210-7655-4edc-b0e3-74c7307a5dc1&#39;, &#39;StartDate&#39;: &#39;2022-04-17&#39;, &#39;UtilityBill&#39;: &#39;urn:uuid:fb3a89a2-3406-46b7-be7b-c02f264aa6fe&#39;, &#39;type&#39;: &#39;CandidateAgreement&#39;, &#39;JobOffer&#39;: &#39;urn:uuid:c8c9b98c-144f-45d6-9f0a-c99ccd32301a&#39;, &#39;Passport&#39;: &#39;urn:uuid:40de4691-f268-481c-9a5e-fd2bfa8eb3f8&#39;}, {&lt;T.id: 1&gt;: &#39;76c23889-ff39-dfda-7571-ebde885b139e&#39;, &lt;T.label: 4&gt;: &#39;e&#39;, &lt;Direction.IN: 2&gt;: {&lt;T.id: 1&gt;: &#39;eac23889-fbe8-2fcb-63fb-2e8a68f9884a&#39;, &lt;T.label: 4&gt;: &#39;VC_ulyss&#39;}, &lt;Direction.OUT: 3&gt;: {&lt;T.id: 1&gt;: &#39;24c23889-fb7d-8363-462b-c0ee12b1639c&#39;, &lt;T.label: 4&gt;: &#39;VC_ulyss&#39;}}, {&lt;T.id: 1&gt;: &#39;eac23889-fbe8-2fcb-63fb-2e8a68f9884a&#39;, &lt;T.label: 4&gt;: &#39;VC_ulyss&#39;, &#39;id&#39;: &#39;urn:uuid:40de4691-f268-481c-9a5e-fd2bfa8eb3f8&#39;, &#39;IssueDate&#39;: &#39;2017-11-03&#39;, &#39;DocumentNumber&#39;: &#39;9999&#39;, &#39;BirthPlace&#39;: &#39;place&#39;, &#39;Height&#39;: &#39;1m 76cm&#39;, &#39;Sex&#39;: &#39;sex&#39;, &#39;type&#39;: &#39;Passport&#39;, &#39;Surname&#39;: &#39;Franco&#39;, &#39;Authority&#39;: &#39;some authority&#39;, &#39;BirthDate&#39;: &#39;1997-11-03&#39;, &#39;ExpireDate&#39;: &#39;2032-11-03&#39;, &#39;GivenNames&#39;: &#39;EmployeeWithDraftResignationConfirmation&#39;, &#39;Nationality&#39;: &#39;nationality&#39;, &#39;Scan&#39;: &#39;https://big-plato.com/vc/urn:uuid:40de4691-f268-481c-9a5e-fd2bfa8eb3f8/evidence/1&#39;}]\"], [70, \"path[{&lt;T.id: 1&gt;: &#39;24c23889-fb7d-8363-462b-c0ee12b1639c&#39;, &lt;T.label: 4&gt;: &#39;VC_ulyss&#39;, &#39;id&#39;: &#39;urn:uuid:eadd9210-7655-4edc-b0e3-74c7307a5dc1&#39;, &#39;StartDate&#39;: &#39;2022-04-17&#39;, &#39;UtilityBill&#39;: &#39;urn:uuid:fb3a89a2-3406-46b7-be7b-c02f264aa6fe&#39;, &#39;type&#39;: &#39;CandidateAgreement&#39;, &#39;JobOffer&#39;: &#39;urn:uuid:c8c9b98c-144f-45d6-9f0a-c99ccd32301a&#39;, &#39;Passport&#39;: &#39;urn:uuid:40de4691-f268-481c-9a5e-fd2bfa8eb3f8&#39;}, {&lt;T.id: 1&gt;: &#39;c6c23889-ff31-b886-f024-550570064ad9&#39;, &lt;T.label: 4&gt;: &#39;e&#39;, &lt;Direction.IN: 2&gt;: {&lt;T.id: 1&gt;: &#39;70c23889-fb9f-617f-beb5-d64f511c303f&#39;, &lt;T.label: 4&gt;: &#39;VC_ulyss&#39;}, &lt;Direction.OUT: 3&gt;: {&lt;T.id: 1&gt;: &#39;24c23889-fb7d-8363-462b-c0ee12b1639c&#39;, &lt;T.label: 4&gt;: &#39;VC_ulyss&#39;}}, {&lt;T.id: 1&gt;: &#39;70c23889-fb9f-617f-beb5-d64f511c303f&#39;, &lt;T.label: 4&gt;: &#39;VC_ulyss&#39;, &#39;id&#39;: &#39;urn:uuid:c8c9b98c-144f-45d6-9f0a-c99ccd32301a&#39;, &#39;IssueDate&#39;: &#39;2022-04-07&#39;, &#39;PlaceOfWork&#39;: &#39;Work Place&#39;, &#39;GrossSalary&#39;: 1300, &#39;Email&#39;: &#39;backend+test-EmployeeWithDraftResignationConfirmation@project-plato.com&#39;, &#39;OfferedPosition&#39;: &#39;Secretary&#39;, &#39;KvkExtract&#39;: &#39;urn:uuid:7e8f96fc-3617-45e5-92a6-a7711c5a7225&#39;, &#39;WorkWeekHours&#39;: 80, &#39;type&#39;: &#39;JobOffer&#39;, &#39;JobDescription&#39;: &#39;Do work&#39;, &#39;Name&#39;: &#39;EmployeeWithDraftResignationConfirmation&#39;, &#39;ResponseDate&#39;: &#39;2022-04-07&#39;, &#39;Surname&#39;: &#39;Franco&#39;, &#39;DirectorPassport&#39;: &#39;urn:uuid:00521aef-cbb0-40be-8e60-a56d2935f348&#39;, &#39;PeriodOfWorkMonths&#39;: 12, &#39;TrialPeriodMonths&#39;: 1}]\"], [71, \"path[{&lt;T.id: 1&gt;: &#39;70c23889-fb9f-617f-beb5-d64f511c303f&#39;, &lt;T.label: 4&gt;: &#39;VC_ulyss&#39;, &#39;id&#39;: &#39;urn:uuid:c8c9b98c-144f-45d6-9f0a-c99ccd32301a&#39;, &#39;IssueDate&#39;: &#39;2022-04-07&#39;, &#39;PlaceOfWork&#39;: &#39;Work Place&#39;, &#39;GrossSalary&#39;: 1300, &#39;Email&#39;: &#39;backend+test-EmployeeWithDraftResignationConfirmation@project-plato.com&#39;, &#39;OfferedPosition&#39;: &#39;Secretary&#39;, &#39;KvkExtract&#39;: &#39;urn:uuid:7e8f96fc-3617-45e5-92a6-a7711c5a7225&#39;, &#39;WorkWeekHours&#39;: 80, &#39;type&#39;: &#39;JobOffer&#39;, &#39;JobDescription&#39;: &#39;Do work&#39;, &#39;Name&#39;: &#39;EmployeeWithDraftResignationConfirmation&#39;, &#39;ResponseDate&#39;: &#39;2022-04-07&#39;, &#39;Surname&#39;: &#39;Franco&#39;, &#39;DirectorPassport&#39;: &#39;urn:uuid:00521aef-cbb0-40be-8e60-a56d2935f348&#39;, &#39;PeriodOfWorkMonths&#39;: 12, &#39;TrialPeriodMonths&#39;: 1}, {&lt;T.id: 1&gt;: &#39;98c23889-ff5d-2588-e992-e7939c4f507c&#39;, &lt;T.label: 4&gt;: &#39;e&#39;, &lt;Direction.IN: 2&gt;: {&lt;T.id: 1&gt;: &#39;8ec23889-f6bf-11b7-4afe-3ec076d7af00&#39;, &lt;T.label: 4&gt;: &#39;VC_ulyss&#39;}, &lt;Direction.OUT: 3&gt;: {&lt;T.id: 1&gt;: &#39;70c23889-fb9f-617f-beb5-d64f511c303f&#39;, &lt;T.label: 4&gt;: &#39;VC_ulyss&#39;}}, {&lt;T.id: 1&gt;: &#39;8ec23889-f6bf-11b7-4afe-3ec076d7af00&#39;, &lt;T.label: 4&gt;: &#39;VC_ulyss&#39;, &#39;id&#39;: &#39;urn:uuid:7e8f96fc-3617-45e5-92a6-a7711c5a7225&#39;, &#39;CompanyName&#39;: &#39;Great Company&#39;, &#39;RSIN&#39;: &#39;12345&#39;, &#39;ChamberOfCommerceNumber&#39;: &#39;12345&#39;, &#39;ExtractionDate&#39;: &#39;2021-11-03&#39;, &#39;type&#39;: &#39;KvkExtract&#39;, &#39;Scan&#39;: &#39;https://big-plato.com/vc/urn:uuid:7e8f96fc-3617-45e5-92a6-a7711c5a7225/evidence/1&#39;, &#39;DirectorName&#39;: &#39;Important&#39;, &#39;DirectorSurname&#39;: &#39;Director&#39;, &#39;RegisteredOfficeAddress&#39;: &#39;fake-registered-office-address&#39;}]\"], [72, \"path[{&lt;T.id: 1&gt;: &#39;70c23889-fb9f-617f-beb5-d64f511c303f&#39;, &lt;T.label: 4&gt;: &#39;VC_ulyss&#39;, &#39;id&#39;: &#39;urn:uuid:c8c9b98c-144f-45d6-9f0a-c99ccd32301a&#39;, &#39;IssueDate&#39;: &#39;2022-04-07&#39;, &#39;PlaceOfWork&#39;: &#39;Work Place&#39;, &#39;GrossSalary&#39;: 1300, &#39;Email&#39;: &#39;backend+test-EmployeeWithDraftResignationConfirmation@project-plato.com&#39;, &#39;OfferedPosition&#39;: &#39;Secretary&#39;, &#39;KvkExtract&#39;: &#39;urn:uuid:7e8f96fc-3617-45e5-92a6-a7711c5a7225&#39;, &#39;WorkWeekHours&#39;: 80, &#39;type&#39;: &#39;JobOffer&#39;, &#39;JobDescription&#39;: &#39;Do work&#39;, &#39;Name&#39;: &#39;EmployeeWithDraftResignationConfirmation&#39;, &#39;ResponseDate&#39;: &#39;2022-04-07&#39;, &#39;Surname&#39;: &#39;Franco&#39;, &#39;DirectorPassport&#39;: &#39;urn:uuid:00521aef-cbb0-40be-8e60-a56d2935f348&#39;, &#39;PeriodOfWorkMonths&#39;: 12, &#39;TrialPeriodMonths&#39;: 1}, {&lt;T.id: 1&gt;: &#39;1cc23889-ff54-e993-0d9c-0abba2e8067e&#39;, &lt;T.label: 4&gt;: &#39;e&#39;, &lt;Direction.IN: 2&gt;: {&lt;T.id: 1&gt;: &#39;fec23889-f79d-64ea-9e82-aee7a4cd7666&#39;, &lt;T.label: 4&gt;: &#39;VC_ulyss&#39;}, &lt;Direction.OUT: 3&gt;: {&lt;T.id: 1&gt;: &#39;70c23889-fb9f-617f-beb5-d64f511c303f&#39;, &lt;T.label: 4&gt;: &#39;VC_ulyss&#39;}}, {&lt;T.id: 1&gt;: &#39;fec23889-f79d-64ea-9e82-aee7a4cd7666&#39;, &lt;T.label: 4&gt;: &#39;VC_ulyss&#39;, &#39;id&#39;: &#39;urn:uuid:00521aef-cbb0-40be-8e60-a56d2935f348&#39;, &#39;IssueDate&#39;: &#39;2012-11-03&#39;, &#39;DocumentNumber&#39;: &#39;9999&#39;, &#39;BirthPlace&#39;: &#39;some place&#39;, &#39;Height&#39;: &#39;5 m&#39;, &#39;Sex&#39;: &#39;fake-sex&#39;, &#39;type&#39;: &#39;Passport&#39;, &#39;Surname&#39;: &#39;Director&#39;, &#39;Authority&#39;: &#39;God&#39;, &#39;BirthDate&#39;: &#39;1972-11-03&#39;, &#39;ExpireDate&#39;: &#39;2032-11-03&#39;, &#39;GivenNames&#39;: &#39;fake-given-names&#39;, &#39;Nationality&#39;: &#39;test nationality&#39;, &#39;Scan&#39;: &#39;https://big-plato.com/vc/urn:uuid:00521aef-cbb0-40be-8e60-a56d2935f348/evidence/1&#39;}]\"], [73, \"path[{&lt;T.id: 1&gt;: &#39;7ec23889-fbc9-2849-93f4-1acc0da27227&#39;, &lt;T.label: 4&gt;: &#39;VC_ulyss&#39;, &#39;id&#39;: &#39;urn:uuid:c12fe139-9ef2-406a-a386-aea012f7eccc&#39;, &#39;IssueDate&#39;: &#39;2023-12-12&#39;, &#39;EndDate&#39;: &#39;2023-12-12&#39;, &#39;ContinuedObligations&#39;: &#39;lorem ipsum&#39;, &#39;ReturnCompanyPropertyDate&#39;: &#39;2023-12-12&#39;, &#39;type&#39;: &#39;ResignationConfirmation&#39;, &#39;LastWorkingDay&#39;: &#39;2023-12-12&#39;, &#39;ResignationNotice&#39;: &#39;urn:uuid:e74ddcfd-7e31-4985-b061-c12c919b6d90&#39;}, {&lt;T.id: 1&gt;: &#39;4ec23889-ff66-f812-4872-b8d42c0898f6&#39;, &lt;T.label: 4&gt;: &#39;e&#39;, &lt;Direction.IN: 2&gt;: {&lt;T.id: 1&gt;: &#39;18c23889-fb8f-9867-5af8-5175e4781fb8&#39;, &lt;T.label: 4&gt;: &#39;VC_ulyss&#39;}, &lt;Direction.OUT: 3&gt;: {&lt;T.id: 1&gt;: &#39;7ec23889-fbc9-2849-93f4-1acc0da27227&#39;, &lt;T.label: 4&gt;: &#39;VC_ulyss&#39;}}, {&lt;T.id: 1&gt;: &#39;18c23889-fb8f-9867-5af8-5175e4781fb8&#39;, &lt;T.label: 4&gt;: &#39;VC_ulyss&#39;, &#39;id&#39;: &#39;urn:uuid:e74ddcfd-7e31-4985-b061-c12c919b6d90&#39;, &#39;IssueDate&#39;: &#39;2022-11-23&#39;, &#39;ResignationDate&#39;: &#39;2022-11-23&#39;, &#39;type&#39;: &#39;ResignationNotice&#39;, &#39;EmploymentAgreement&#39;: &#39;urn:uuid:be7da832-ad60-4d37-a0d9-980c797672e3&#39;}]\"], [74, \"path[{&lt;T.id: 1&gt;: &#39;c2c23889-fbdf-63a4-29c1-759fb040ef9d&#39;, &lt;T.label: 4&gt;: &#39;VC_ulyss&#39;, &#39;id&#39;: &#39;urn:uuid:be7da832-ad60-4d37-a0d9-980c797672e3&#39;, &#39;CandidateAgreement&#39;: &#39;urn:uuid:eadd9210-7655-4edc-b0e3-74c7307a5dc1&#39;, &#39;type&#39;: &#39;EmploymentAgreement&#39;}, {&lt;T.id: 1&gt;: &#39;8cc23889-ff70-785f-5986-d1dae7f53778&#39;, &lt;T.label: 4&gt;: &#39;e&#39;, &lt;Direction.IN: 2&gt;: {&lt;T.id: 1&gt;: &#39;24c23889-fb7d-8363-462b-c0ee12b1639c&#39;, &lt;T.label: 4&gt;: &#39;VC_ulyss&#39;}, &lt;Direction.OUT: 3&gt;: {&lt;T.id: 1&gt;: &#39;c2c23889-fbdf-63a4-29c1-759fb040ef9d&#39;, &lt;T.label: 4&gt;: &#39;VC_ulyss&#39;}}, {&lt;T.id: 1&gt;: &#39;24c23889-fb7d-8363-462b-c0ee12b1639c&#39;, &lt;T.label: 4&gt;: &#39;VC_ulyss&#39;, &#39;id&#39;: &#39;urn:uuid:eadd9210-7655-4edc-b0e3-74c7307a5dc1&#39;, &#39;StartDate&#39;: &#39;2022-04-17&#39;, &#39;UtilityBill&#39;: &#39;urn:uuid:fb3a89a2-3406-46b7-be7b-c02f264aa6fe&#39;, &#39;type&#39;: &#39;CandidateAgreement&#39;, &#39;JobOffer&#39;: &#39;urn:uuid:c8c9b98c-144f-45d6-9f0a-c99ccd32301a&#39;, &#39;Passport&#39;: &#39;urn:uuid:40de4691-f268-481c-9a5e-fd2bfa8eb3f8&#39;}]\"], [75, \"path[{&lt;T.id: 1&gt;: &#39;28c23889-fc0b-24ba-1a16-54cffe7b364c&#39;, &lt;T.label: 4&gt;: &#39;VC_ulyss&#39;, &#39;id&#39;: &#39;urn:uuid:ef51b386-5895-42c7-84da-2a8da631edaa&#39;, &#39;StartDate&#39;: &#39;2022-11-23&#39;, &#39;UtilityBill&#39;: &#39;urn:uuid:8e02be1f-6eb1-471b-b608-24113d5f958d&#39;, &#39;type&#39;: &#39;CandidateAgreement&#39;, &#39;JobOffer&#39;: &#39;urn:uuid:7bdeb4ab-4409-4391-b262-8020f16e085a&#39;, &#39;Passport&#39;: &#39;urn:uuid:c8edce0f-a793-4bbf-bf5d-2d0280eada82&#39;}, {&lt;T.id: 1&gt;: &#39;a0c23889-ff83-b2a1-974d-49dd29c17cdf&#39;, &lt;T.label: 4&gt;: &#39;e&#39;, &lt;Direction.IN: 2&gt;: {&lt;T.id: 1&gt;: &#39;d0c23889-fc1a-db6a-3108-babda5c23d65&#39;, &lt;T.label: 4&gt;: &#39;VC_ulyss&#39;}, &lt;Direction.OUT: 3&gt;: {&lt;T.id: 1&gt;: &#39;28c23889-fc0b-24ba-1a16-54cffe7b364c&#39;, &lt;T.label: 4&gt;: &#39;VC_ulyss&#39;}}, {&lt;T.id: 1&gt;: &#39;d0c23889-fc1a-db6a-3108-babda5c23d65&#39;, &lt;T.label: 4&gt;: &#39;VC_ulyss&#39;, &#39;id&#39;: &#39;urn:uuid:c8edce0f-a793-4bbf-bf5d-2d0280eada82&#39;, &#39;IssueDate&#39;: &#39;2017-11-03&#39;, &#39;DocumentNumber&#39;: &#39;9999&#39;, &#39;BirthPlace&#39;: &#39;place&#39;, &#39;Height&#39;: &#39;1m 76cm&#39;, &#39;Sex&#39;: &#39;sex&#39;, &#39;type&#39;: &#39;Passport&#39;, &#39;Surname&#39;: &#39;Clark&#39;, &#39;Authority&#39;: &#39;some authority&#39;, &#39;BirthDate&#39;: &#39;1997-11-03&#39;, &#39;ExpireDate&#39;: &#39;2032-11-03&#39;, &#39;GivenNames&#39;: &#39;CandidateWithContractAgreement&#39;, &#39;Nationality&#39;: &#39;nationality&#39;, &#39;Scan&#39;: &#39;https://big-plato.com/vc/urn:uuid:c8edce0f-a793-4bbf-bf5d-2d0280eada82/evidence/1&#39;}]\"], [76, \"path[{&lt;T.id: 1&gt;: &#39;28c23889-fc0b-24ba-1a16-54cffe7b364c&#39;, &lt;T.label: 4&gt;: &#39;VC_ulyss&#39;, &#39;id&#39;: &#39;urn:uuid:ef51b386-5895-42c7-84da-2a8da631edaa&#39;, &#39;StartDate&#39;: &#39;2022-11-23&#39;, &#39;UtilityBill&#39;: &#39;urn:uuid:8e02be1f-6eb1-471b-b608-24113d5f958d&#39;, &#39;type&#39;: &#39;CandidateAgreement&#39;, &#39;JobOffer&#39;: &#39;urn:uuid:7bdeb4ab-4409-4391-b262-8020f16e085a&#39;, &#39;Passport&#39;: &#39;urn:uuid:c8edce0f-a793-4bbf-bf5d-2d0280eada82&#39;}, {&lt;T.id: 1&gt;: &#39;f8c23889-ff7b-cb37-cf64-34b1ee0c5c49&#39;, &lt;T.label: 4&gt;: &#39;e&#39;, &lt;Direction.IN: 2&gt;: {&lt;T.id: 1&gt;: &#39;00c23889-fc5b-f16a-2193-7d44ad1d44bc&#39;, &lt;T.label: 4&gt;: &#39;VC_ulyss&#39;}, &lt;Direction.OUT: 3&gt;: {&lt;T.id: 1&gt;: &#39;28c23889-fc0b-24ba-1a16-54cffe7b364c&#39;, &lt;T.label: 4&gt;: &#39;VC_ulyss&#39;}}, {&lt;T.id: 1&gt;: &#39;00c23889-fc5b-f16a-2193-7d44ad1d44bc&#39;, &lt;T.label: 4&gt;: &#39;VC_ulyss&#39;, &#39;id&#39;: &#39;urn:uuid:7bdeb4ab-4409-4391-b262-8020f16e085a&#39;, &#39;IssueDate&#39;: &#39;2022-10-29&#39;, &#39;PlaceOfWork&#39;: &#39;Work Place&#39;, &#39;GrossSalary&#39;: 3200, &#39;Email&#39;: &#39;backend+test-CandidateWithContractAgreement@project-plato.com&#39;, &#39;OfferedPosition&#39;: &#39;Sales Manager&#39;, &#39;KvkExtract&#39;: &#39;urn:uuid:7e8f96fc-3617-45e5-92a6-a7711c5a7225&#39;, &#39;WorkWeekHours&#39;: 80, &#39;type&#39;: &#39;JobOffer&#39;, &#39;JobDescription&#39;: &#39;Do work&#39;, &#39;Name&#39;: &#39;CandidateWithContractAgreement&#39;, &#39;ResponseDate&#39;: &#39;2022-10-29&#39;, &#39;Surname&#39;: &#39;Clark&#39;, &#39;DirectorPassport&#39;: &#39;urn:uuid:00521aef-cbb0-40be-8e60-a56d2935f348&#39;, &#39;PeriodOfWorkMonths&#39;: 12, &#39;TrialPeriodMonths&#39;: 1}]\"], [77, \"path[{&lt;T.id: 1&gt;: &#39;28c23889-fc0b-24ba-1a16-54cffe7b364c&#39;, &lt;T.label: 4&gt;: &#39;VC_ulyss&#39;, &#39;id&#39;: &#39;urn:uuid:ef51b386-5895-42c7-84da-2a8da631edaa&#39;, &#39;StartDate&#39;: &#39;2022-11-23&#39;, &#39;UtilityBill&#39;: &#39;urn:uuid:8e02be1f-6eb1-471b-b608-24113d5f958d&#39;, &#39;type&#39;: &#39;CandidateAgreement&#39;, &#39;JobOffer&#39;: &#39;urn:uuid:7bdeb4ab-4409-4391-b262-8020f16e085a&#39;, &#39;Passport&#39;: &#39;urn:uuid:c8edce0f-a793-4bbf-bf5d-2d0280eada82&#39;}, {&lt;T.id: 1&gt;: &#39;30c23889-ff8c-0339-1279-bce6f23d2e40&#39;, &lt;T.label: 4&gt;: &#39;e&#39;, &lt;Direction.IN: 2&gt;: {&lt;T.id: 1&gt;: &#39;80c23889-fc47-1bab-bd7c-109b99432860&#39;, &lt;T.label: 4&gt;: &#39;VC_ulyss&#39;}, &lt;Direction.OUT: 3&gt;: {&lt;T.id: 1&gt;: &#39;28c23889-fc0b-24ba-1a16-54cffe7b364c&#39;, &lt;T.label: 4&gt;: &#39;VC_ulyss&#39;}}, {&lt;T.id: 1&gt;: &#39;80c23889-fc47-1bab-bd7c-109b99432860&#39;, &lt;T.label: 4&gt;: &#39;VC_ulyss&#39;, &#39;id&#39;: &#39;urn:uuid:8e02be1f-6eb1-471b-b608-24113d5f958d&#39;, &#39;ResidentialAddress&#39;: &#39;res addr&#39;, &#39;type&#39;: &#39;UtilityBill&#39;, &#39;Name&#39;: &#39;CandidateWithContractAgreement&#39;, &#39;Surname&#39;: &#39;Clark&#39;, &#39;Scan&#39;: &#39;https://big-plato.com/vc/urn:uuid:8e02be1f-6eb1-471b-b608-24113d5f958d/evidence/1&#39;}]\"]];\n",
       "\n",
       "    // Define the dt_args\n",
       "    let dt_args = {\"scrollX\": true, \"scrollY\": \"475px\", \"columnDefs\": [{\"width\": \"5%\", \"targets\": 0}, {\"visible\": true, \"targets\": 0}, {\"searchable\": false, \"targets\": 0}, {\"minWidth\": \"95%\", \"targets\": 1}, {\"className\": \"nowrap dt-left\", \"targets\": \"_all\"}, {\"createdCell\": \n",
       "            function (td, cellData, rowData, row, col) {\n",
       "                $(td).css('font-weight', 'bold');\n",
       "                $(td).css('font-size', '12px');\n",
       "            }\n",
       "            , \"targets\": 0}, {\"createdCell\": \n",
       "            function (td, cellData, rowData, row, col) {\n",
       "                $(td).css('font-family', 'monospace');\n",
       "                $(td).css('font-size', '12px');\n",
       "            }\n",
       "            , \"targets\": \"_all\"}], \"paging\": true, \"scrollCollapse\": true, \"lengthMenu\": [[10, 25, 50, 100, -1], [10, 25, 50, 100, \"All\"]], \"pageLength\": 10, \"order\": []};\n",
       "    dt_args[\"data\"] = data;\n",
       "\n",
       "    $(document).ready(function () {\n",
       "        \n",
       "        $('#25e70c84-ef1f-4ad1-90ba-51c087517bc4').DataTable(dt_args);\n",
       "    });\n",
       "</script>\n"
      ],
      "text/plain": [
       "<IPython.core.display.HTML object>"
      ]
     },
     "metadata": {},
     "output_type": "display_data"
    }
   ],
   "source": [
    "%%gremlin -p v,oute,inv -d type\n",
    "\n",
    "g.V().hasLabel('VC_ulyss').outE('e').inV().hasLabel('VC_ulyss').path().by(elementMap())"
   ]
  },
  {
   "cell_type": "markdown",
   "id": "4896bb69",
   "metadata": {},
   "source": [
    "# Part 2: Query the graph and construct the list of employees"
   ]
  },
  {
   "cell_type": "markdown",
   "id": "6fb33780",
   "metadata": {},
   "source": [
    "Here we construct the list of current employees. We store it in the following way: create a dict, in which keys will be ids of employent agreements and values will be Employee classes, which contain name, surname and position of employee. We will also store the start date of the last change in employee's position. \n",
    "\n",
    "The 'update_list_of_employees' function contains three parts: query employment agreements, employment addendums and resignation confirmations. Firstly, we iterate over employment agreements and add newly appointed employees to out list, getting their name from passport, position from job offer and start date from candidate agreement. Secondly, we iterate over employment addendums and, if the addendum is not outdated and it's start date has already come, update the position of the employee, whose employment agreement is linked to this addendum. Thirdly, we iterate over resignation confirmations and, if the last working day has already come, remove the employee, whose employment agreement is linked to this confirmation, from the database.\n",
    "\n",
    "As you can notice, this structure allows new documents to be added to the database, and the next query will only need to deal with them, not with the whole database again. I decided to add lists of new documents as arguments to the 'update_list_of_employees' function. So, when you add new documents, you need to save ids of those documents with types 'EmploymentAgreement', 'EmploymentAddendum' and 'ResignationConfirmation' and run the 'update_list_of_employees' function."
   ]
  },
  {
   "cell_type": "markdown",
   "id": "62650119",
   "metadata": {},
   "source": [
    "To deal with date, import datetime. Add other utility functions."
   ]
  },
  {
   "cell_type": "code",
   "execution_count": 8,
   "id": "c6e37283",
   "metadata": {},
   "outputs": [],
   "source": [
    "from datetime import *\n",
    "\n",
    "def make_date(str_time):\n",
    "    \"\"\"\n",
    "    Make datetime object from 'yyyy-mm-dd' representation.\n",
    "    \"\"\"\n",
    "    y, m, d = list(map(int, str_time.split('-')))\n",
    "    return date(y, m, d)\n",
    "\n",
    "\n",
    "def get_property(id_, name):\n",
    "    \"\"\"\n",
    "    Get property 'name' from VC with id_.\n",
    "    \"\"\"\n",
    "    property_ = g.V(id_).valueMap().next()[name][0]\n",
    "    return property_\n",
    "    \n",
    "    \n",
    "def get_employment_agreement_id(id_):\n",
    "    \"\"\"\n",
    "    Get id of the employment agreement linked to the VC with id. Used to get the key \n",
    "    for the list_of_employees dictionary.\n",
    "    \"\"\"\n",
    "    employmentAgreement = g.V(id_).out('e').out('e').has('type', 'EmploymentAgreement').next()\n",
    "    return employmentAgreement.id"
   ]
  },
  {
   "cell_type": "markdown",
   "id": "f36f30c0",
   "metadata": {},
   "source": [
    "Add \"employee\" class."
   ]
  },
  {
   "cell_type": "code",
   "execution_count": 9,
   "id": "c4b8b15b",
   "metadata": {},
   "outputs": [],
   "source": [
    "class Employee:\n",
    "    def __init__(self, name, surname, position, date_):\n",
    "        self.name, self.surname, self.position, self.date = name, surname, position, date_\n",
    "        \n",
    "    def __str__(self):\n",
    "        return self.name + ' ' + self.surname + ' ' + self.position"
   ]
  },
  {
   "cell_type": "markdown",
   "id": "8cfb9904",
   "metadata": {},
   "source": [
    "Get all the surnames from passports linked to EmploymentAgreements. Find which position each employee occupies at this day, or whether they have already resigned."
   ]
  },
  {
   "cell_type": "code",
   "execution_count": 10,
   "id": "e5ba5cf6",
   "metadata": {
    "scrolled": true
   },
   "outputs": [],
   "source": [
    "def update_list_of_employees(today,\n",
    "                                employmentAgreements = g.V().hasLabel('VC_ulyss').has('type', 'EmploymentAgreement').toList(),\n",
    "                                employmentAddendums = g.V().hasLabel('VC_ulyss').has('type', 'EmploymentAddendum').toList(),\n",
    "                                resignationConfirmations = g.V().hasLabel('VC_ulyss').has('type', 'ResignationConfirmation').toList()):\n",
    "    \"\"\"\n",
    "    Updates the list of employees. Takes four arguments: today's date, lists of employment agreements, \n",
    "    employment addendums and resignation confirmations to be added. \n",
    "    \"\"\"\n",
    "    global list_of_employees\n",
    "    \n",
    "    for employmentAgreement in employmentAgreements:\n",
    "        # get surname from passport\n",
    "        passport = g.V(employmentAgreement).out('e').out('e').has('type', 'Passport').next()\n",
    "        name, surname = get_property(passport, 'GivenNames'), get_property(passport, 'Surname')\n",
    "        # get position from JobOffer\n",
    "        jobOffer = g.V(employmentAgreement).out('e').out('e').has('type', 'JobOffer').next()\n",
    "        offered_position = get_property(jobOffer, 'OfferedPosition')\n",
    "        # get start date from EmploymentAgreement\n",
    "        candidateAgreement = g.V(employmentAgreement).out('e').has('type', 'CandidateAgreement').next()\n",
    "        start_date = make_date(get_property(candidateAgreement, 'StartDate'))\n",
    "        # add a new employee to the list\n",
    "        list_of_employees[employmentAgreement.id] = Employee(name, surname, offered_position, start_date)\n",
    "        \n",
    "    for employmentAddendum in employmentAddendums:\n",
    "        employment_agreement_id = get_employment_agreement_id(employmentAddendum)\n",
    "        # get new position and new start date from CompanyAddendum\n",
    "        companyAddendum = g.V(employmentAddendum).out('e').has('type', 'CompanyAddendum').next()\n",
    "        addendum_position = get_property(companyAddendum, 'Position')\n",
    "        addendum_date = make_date(get_property(companyAddendum, 'From'))\n",
    "        # check whether the start date has already come and the addendum is not outdated\n",
    "        if list_of_employees[employment_agreement_id].date < addendum_date <= today:\n",
    "            list_of_employees[employment_agreement_id].position = addendum_position\n",
    "            list_of_employees[employment_agreement_id].date = addendum_date\n",
    "        \n",
    "    for resignationConfirmation in resignationConfirmations:\n",
    "        employmentAgreement_id = get_employment_agreement_id(resignationConfirmation)\n",
    "        # get last working day from ResignationConfirmation\n",
    "        last_working_day = make_date(get_property(resignationConfirmation, 'LastWorkingDay'))\n",
    "        # check whether the last working day has already come\n",
    "        if last_working_day <= today:\n",
    "            del list_of_employees[employmentAgreement_id]"
   ]
  },
  {
   "cell_type": "markdown",
   "id": "3966426e",
   "metadata": {},
   "source": [
    "Print the final list of employes"
   ]
  },
  {
   "cell_type": "code",
   "execution_count": 11,
   "id": "e804b856",
   "metadata": {},
   "outputs": [
    {
     "name": "stdout",
     "output_type": "stream",
     "text": [
      "Ivan Ivanov celebration engineer\n",
      "EmployeeWithAddendumDraft Hernandez Support Engineer\n",
      "EmployeeWithAddendums Jones CFO\n",
      "EmployeeAgain Larson Product Owner\n",
      "Employee Davis Engineer\n",
      "EmployeeWithDraftResignationNotice Evans Editor\n",
      "EmployeeWithDraftResignationConfirmation Franco Secretary\n"
     ]
    }
   ],
   "source": [
    "today = date.today()\n",
    "list_of_employees = dict()\n",
    "\n",
    "update_list_of_employees(today)\n",
    "for key in list_of_employees.keys():\n",
    "    print(list_of_employees[key])"
   ]
  },
  {
   "cell_type": "markdown",
   "id": "33ec8b64",
   "metadata": {},
   "source": [
    "# Part 3: Update the graph"
   ]
  },
  {
   "cell_type": "markdown",
   "id": "e4ba36b6",
   "metadata": {},
   "source": [
    "Test the 'update' part. Let's remove some vertices, make a new list of employees, then add them back again and update our list."
   ]
  },
  {
   "cell_type": "code",
   "execution_count": 12,
   "id": "cbf78680",
   "metadata": {},
   "outputs": [],
   "source": [
    "ids_to_drop = ['urn:uuid:fcd7285a-650c-493a-b705-a32c97edf679',\n",
    "                'urn:uuid:bab0b678-1d7c-40e5-a579-a76828fd8ccd',\n",
    "                'urn:uuid:9b38551e-b641-41c9-96a0-af56cad14c8d',\n",
    "                'urn:uuid:1c48d7a4-56b3-4350-bff8-6a1970bb5bd7',\n",
    "                'urn:uuid:8f54da1a-cd0c-46ef-b9da-5088755a6a46']\n",
    "for id_ in ids_to_drop:\n",
    "    g.V().has('id', id_).drop().iterate()"
   ]
  },
  {
   "cell_type": "markdown",
   "id": "c7bb8204",
   "metadata": {},
   "source": [
    "Remake the list of employees."
   ]
  },
  {
   "cell_type": "code",
   "execution_count": 13,
   "id": "c69e17c7",
   "metadata": {},
   "outputs": [],
   "source": [
    "def update_list_of_employees(today,\n",
    "                                employmentAgreements = g.V().hasLabel('VC_ulyss').has('type', 'EmploymentAgreement').toList(),\n",
    "                                employmentAddendums = g.V().hasLabel('VC_ulyss').has('type', 'EmploymentAddendum').toList(),\n",
    "                                resignationConfirmations = g.V().hasLabel('VC_ulyss').has('type', 'ResignationConfirmation').toList()):\n",
    "    \"\"\"\n",
    "    Updates the list of employees. Takes four arguments: today's date, lists of employment agreements, \n",
    "    employment addendums and resignation confirmations to be added. \n",
    "    \"\"\"\n",
    "    global list_of_employees\n",
    "    \n",
    "    for employmentAgreement in employmentAgreements:\n",
    "        # get surname from passport\n",
    "        passport = g.V(employmentAgreement).out('e').out('e').has('type', 'Passport').next()\n",
    "        name, surname = get_property(passport, 'GivenNames'), get_property(passport, 'Surname')\n",
    "        # get position from JobOffer\n",
    "        jobOffer = g.V(employmentAgreement).out('e').out('e').has('type', 'JobOffer').next()\n",
    "        offered_position = get_property(jobOffer, 'OfferedPosition')\n",
    "        # get start date from EmploymentAgreement\n",
    "        candidateAgreement = g.V(employmentAgreement).out('e').has('type', 'CandidateAgreement').next()\n",
    "        start_date = make_date(get_property(candidateAgreement, 'StartDate'))\n",
    "        # add a new employee to the list\n",
    "        list_of_employees[employmentAgreement.id] = Employee(name, surname, offered_position, start_date)\n",
    "        \n",
    "    for employmentAddendum in employmentAddendums:\n",
    "        employment_agreement_id = get_employment_agreement_id(employmentAddendum)\n",
    "        # get new position and new start date from CompanyAddendum\n",
    "        companyAddendum = g.V(employmentAddendum).out('e').has('type', 'CompanyAddendum').next()\n",
    "        addendum_position = get_property(companyAddendum, 'Position')\n",
    "        addendum_date = make_date(get_property(companyAddendum, 'From'))\n",
    "        # check whether the start date has already come and the addendum is not outdated\n",
    "        if list_of_employees[employment_agreement_id].date < addendum_date <= today:\n",
    "            list_of_employees[employment_agreement_id].position = addendum_position\n",
    "            list_of_employees[employment_agreement_id].date = addendum_date\n",
    "        \n",
    "    for resignationConfirmation in resignationConfirmations:\n",
    "        employmentAgreement_id = get_employment_agreement_id(resignationConfirmation)\n",
    "        # get last working day from ResignationConfirmation\n",
    "        last_working_day = make_date(get_property(resignationConfirmation, 'LastWorkingDay'))\n",
    "        # check whether the last working day has already come\n",
    "        if last_working_day <= today:\n",
    "            del list_of_employees[employmentAgreement_id]"
   ]
  },
  {
   "cell_type": "code",
   "execution_count": 14,
   "id": "714ebbdc",
   "metadata": {},
   "outputs": [
    {
     "name": "stdout",
     "output_type": "stream",
     "text": [
      "Ivan Ivanov celebration engineer\n",
      "EmployeeWithAddendums Jones Senior finance manager\n",
      "EmployeeAgain Larson Product Owner\n",
      "Employee Davis Engineer\n",
      "EmployeeWithDraftResignationNotice Evans Editor\n",
      "EmployeeWithDraftResignationConfirmation Franco Secretary\n"
     ]
    }
   ],
   "source": [
    "today = date.today()\n",
    "list_of_employees = dict()\n",
    "\n",
    "update_list_of_employees(today)\n",
    "for key in list_of_employees.keys():\n",
    "    print(list_of_employees[key])"
   ]
  },
  {
   "cell_type": "markdown",
   "id": "f6ad2402",
   "metadata": {},
   "source": [
    "Add the removed vertices. Construct three list of vertices, that need to be queried to update the list of employees."
   ]
  },
  {
   "cell_type": "code",
   "execution_count": 15,
   "id": "f60aa58e",
   "metadata": {},
   "outputs": [],
   "source": [
    "files_to_add = ['vc_body_urn_uuid_fcd7285a-650c-493a-b705-a32c97edf679.jsonld', \n",
    "                'vc_body_urn_uuid_bab0b678-1d7c-40e5-a579-a76828fd8ccd.jsonld', \n",
    "                'vc_body_urn_uuid_9b38551e-b641-41c9-96a0-af56cad14c8d.jsonld', \n",
    "                'vc_body_urn_uuid_1c48d7a4-56b3-4350-bff8-6a1970bb5bd7.jsonld', \n",
    "                'vc_body_urn_uuid_8f54da1a-cd0c-46ef-b9da-5088755a6a46.jsonld']\n",
    "                \n",
    "new_vertices = add_vertices(files_to_add)\n",
    "add_edges(files_to_add)\n",
    "\n",
    "employmentAgreements = []\n",
    "employmentAddendums = []\n",
    "resignationConfirmations = []\n",
    "for vertex in new_vertices:\n",
    "    if get_property(vertex, 'type') == 'EmploymentAgreement':\n",
    "        employmentAgreements.append(vertex)\n",
    "    elif get_property(vertex, 'type') == 'EmploymentAddendum':\n",
    "        employmentAddendums.append(vertex)\n",
    "    elif get_property(vertex, 'type') == 'ResignationConfirmation':\n",
    "        resignationConfirmations.append(vertex)"
   ]
  },
  {
   "cell_type": "markdown",
   "id": "03435c25",
   "metadata": {},
   "source": [
    "Update the list of employees."
   ]
  },
  {
   "cell_type": "code",
   "execution_count": 16,
   "id": "1074faae",
   "metadata": {},
   "outputs": [],
   "source": [
    "def update_list_of_employees(today,\n",
    "                                employmentAgreements = g.V().hasLabel('VC_ulyss').has('type', 'EmploymentAgreement').toList(),\n",
    "                                employmentAddendums = g.V().hasLabel('VC_ulyss').has('type', 'EmploymentAddendum').toList(),\n",
    "                                resignationConfirmations = g.V().hasLabel('VC_ulyss').has('type', 'ResignationConfirmation').toList()):\n",
    "    \"\"\"\n",
    "    Updates the list of employees. Takes four arguments: today's date, lists of employment agreements, \n",
    "    employment addendums and resignation confirmations to be added. \n",
    "    \"\"\"\n",
    "    global list_of_employees\n",
    "    \n",
    "    for employmentAgreement in employmentAgreements:\n",
    "        # get surname from passport\n",
    "        passport = g.V(employmentAgreement).out('e').out('e').has('type', 'Passport').next()\n",
    "        name, surname = get_property(passport, 'GivenNames'), get_property(passport, 'Surname')\n",
    "        # get position from JobOffer\n",
    "        jobOffer = g.V(employmentAgreement).out('e').out('e').has('type', 'JobOffer').next()\n",
    "        offered_position = get_property(jobOffer, 'OfferedPosition')\n",
    "        # get start date from EmploymentAgreement\n",
    "        candidateAgreement = g.V(employmentAgreement).out('e').has('type', 'CandidateAgreement').next()\n",
    "        start_date = make_date(get_property(candidateAgreement, 'StartDate'))\n",
    "        # add a new employee to the list\n",
    "        list_of_employees[employmentAgreement.id] = Employee(name, surname, offered_position, start_date)\n",
    "        \n",
    "    for employmentAddendum in employmentAddendums:\n",
    "        employment_agreement_id = get_employment_agreement_id(employmentAddendum)\n",
    "        # get new position and new start date from CompanyAddendum\n",
    "        companyAddendum = g.V(employmentAddendum).out('e').has('type', 'CompanyAddendum').next()\n",
    "        addendum_position = get_property(companyAddendum, 'Position')\n",
    "        addendum_date = make_date(get_property(companyAddendum, 'From'))\n",
    "        # check whether the start date has already come and the addendum is not outdated\n",
    "        if list_of_employees[employment_agreement_id].date < addendum_date <= today:\n",
    "            list_of_employees[employment_agreement_id].position = addendum_position\n",
    "            list_of_employees[employment_agreement_id].date = addendum_date\n",
    "        \n",
    "    for resignationConfirmation in resignationConfirmations:\n",
    "        employmentAgreement_id = get_employment_agreement_id(resignationConfirmation)\n",
    "        # get last working day from ResignationConfirmation\n",
    "        last_working_day = make_date(get_property(resignationConfirmation, 'LastWorkingDay'))\n",
    "        # check whether the last working day has already come\n",
    "        if last_working_day <= today:\n",
    "            del list_of_employees[employmentAgreement_id]"
   ]
  },
  {
   "cell_type": "code",
   "execution_count": 17,
   "id": "9eb10ef4",
   "metadata": {
    "scrolled": true
   },
   "outputs": [
    {
     "name": "stdout",
     "output_type": "stream",
     "text": [
      "Ivan Ivanov celebration engineer\n",
      "EmployeeWithAddendums Jones CFO\n",
      "EmployeeAgain Larson Product Owner\n",
      "Employee Davis Engineer\n",
      "EmployeeWithDraftResignationNotice Evans Editor\n",
      "EmployeeWithDraftResignationConfirmation Franco Secretary\n",
      "EmployeeWithAddendumDraft Hernandez Support Engineer\n"
     ]
    }
   ],
   "source": [
    "today = date.today()\n",
    "\n",
    "update_list_of_employees(today, employmentAgreements, employmentAddendums, resignationConfirmations)\n",
    "for key in list_of_employees.keys():\n",
    "    print(list_of_employees[key])"
   ]
  },
  {
   "cell_type": "markdown",
   "id": "8ffadd0f",
   "metadata": {},
   "source": [
    "As we can see, the list matches the first one that we've got by adding all the vertices at the same time."
   ]
  }
 ],
 "metadata": {
  "kernelspec": {
   "display_name": "Python 3",
   "language": "python",
   "name": "python3"
  },
  "language_info": {
   "codemirror_mode": {
    "name": "ipython",
    "version": 3
   },
   "file_extension": ".py",
   "mimetype": "text/x-python",
   "name": "python",
   "nbconvert_exporter": "python",
   "pygments_lexer": "ipython3",
   "version": "3.7.12"
  }
 },
 "nbformat": 4,
 "nbformat_minor": 5
}
